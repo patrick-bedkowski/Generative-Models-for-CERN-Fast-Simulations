{
 "cells": [
  {
   "cell_type": "code",
   "execution_count": 29,
   "metadata": {
    "collapsed": true,
    "pycharm": {
     "name": "#%%\n"
    }
   },
   "outputs": [],
   "source": [
    "import pandas as pd\n",
    "import numpy as np\n",
    "import pickle"
   ]
  },
  {
   "cell_type": "code",
   "execution_count": 30,
   "outputs": [],
   "source": [
    "def load_proton_a_images(n=None):\n",
    "    data = pd.read_pickle('../data/proton_images2a.pkl')\n",
    "    if n:\n",
    "        return data[:n]\n",
    "    return data\n",
    "\n",
    "def load_particle_data_a(n=None):\n",
    "    data = pd.read_pickle('../data/particles_cond_with_mass2a.pkl')\n",
    "    if n:\n",
    "        return data[:n]\n",
    "    return data"
   ],
   "metadata": {
    "collapsed": false,
    "pycharm": {
     "name": "#%%\n"
    }
   }
  },
  {
   "cell_type": "code",
   "execution_count": 31,
   "outputs": [
    {
     "name": "stdout",
     "output_type": "stream",
     "text": [
      "Loaded:  (175636, 56, 30)\n",
      "Loaded cond:  (175636, 11)\n"
     ]
    }
   ],
   "source": [
    "data = load_proton_a_images()\n",
    "print('Loaded: ',  data.shape)\n",
    "data_cond = load_particle_data_a()\n",
    "print('Loaded cond: ',  data_cond.shape)"
   ],
   "metadata": {
    "collapsed": false,
    "pycharm": {
     "name": "#%%\n"
    }
   }
  },
  {
   "cell_type": "markdown",
   "source": [
    "## Filter Photon Sum"
   ],
   "metadata": {
    "collapsed": false,
    "pycharm": {
     "name": "#%% md\n"
    }
   }
  },
  {
   "cell_type": "code",
   "execution_count": 32,
   "outputs": [],
   "source": [
    "def filter_photon_sum(data_response, data_conditional, min_photon_sum=10):\n",
    "    \"\"\"\n",
    "    Returns particle data and responses of experiments with minimum sum of photons.\n",
    "    \"\"\"\n",
    "    indecies = data_conditional.index[data_conditional.loc[:, 'PhotonSum'] >= min_photon_sum]\n",
    "    return data_response[indecies], data_conditional.iloc[indecies].reset_index(drop=True)"
   ],
   "metadata": {
    "collapsed": false,
    "pycharm": {
     "name": "#%%\n"
    }
   }
  },
  {
   "cell_type": "code",
   "execution_count": 33,
   "outputs": [
    {
     "data": {
      "text/plain": "((102262, 56, 30), (102262, 11))"
     },
     "execution_count": 33,
     "metadata": {},
     "output_type": "execute_result"
    }
   ],
   "source": [
    "MIN_PHOTON_SUM = 10\n",
    "\n",
    "data, data_cond = filter_photon_sum(data, data_cond, min_photon_sum=MIN_PHOTON_SUM)\n",
    "data.shape, data_cond.shape"
   ],
   "metadata": {
    "collapsed": false,
    "pycharm": {
     "name": "#%%\n"
    }
   }
  },
  {
   "cell_type": "markdown",
   "source": [
    "## Save files"
   ],
   "metadata": {
    "collapsed": false,
    "pycharm": {
     "name": "#%% md\n"
    }
   }
  },
  {
   "cell_type": "code",
   "execution_count": 34,
   "outputs": [],
   "source": [
    "data_cond.to_pickle(f\"../data/data_cond_photonsum_{MIN_PHOTON_SUM}.pkl\")"
   ],
   "metadata": {
    "collapsed": false,
    "pycharm": {
     "name": "#%%\n"
    }
   }
  },
  {
   "cell_type": "code",
   "execution_count": 35,
   "outputs": [],
   "source": [
    "with open(f\"../data/data_photonsum_{MIN_PHOTON_SUM}.pkl\", 'wb') as f:\n",
    "    pickle.dump(data, f)"
   ],
   "metadata": {
    "collapsed": false,
    "pycharm": {
     "name": "#%%\n"
    }
   }
  }
 ],
 "metadata": {
  "kernelspec": {
   "display_name": "Python 3",
   "language": "python",
   "name": "python3"
  },
  "language_info": {
   "codemirror_mode": {
    "name": "ipython",
    "version": 2
   },
   "file_extension": ".py",
   "mimetype": "text/x-python",
   "name": "python",
   "nbconvert_exporter": "python",
   "pygments_lexer": "ipython2",
   "version": "2.7.6"
  }
 },
 "nbformat": 4,
 "nbformat_minor": 0
}