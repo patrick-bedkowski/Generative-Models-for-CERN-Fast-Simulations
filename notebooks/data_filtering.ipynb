{
 "cells": [
  {
   "cell_type": "code",
   "execution_count": 15,
   "metadata": {
    "collapsed": true,
    "pycharm": {
     "name": "#%%\n"
    }
   },
   "outputs": [],
   "source": [
    "import pandas as pd\n",
    "import numpy as np\n",
    "import pickle\n",
    "import matplotlib.pyplot as plt\n",
    "import seaborn as sns"
   ]
  },
  {
   "cell_type": "code",
   "execution_count": 16,
   "outputs": [],
   "source": [
    "def load_proton_a_images(n=None):\n",
    "    data_a = pd.read_pickle('../data/proton_images2a.pkl')\n",
    "    data_b = pd.read_pickle('../data/proton_images2b.pkl')\n",
    "    data_c = pd.read_pickle('../data/proton_images2c.pkl')\n",
    "\n",
    "    return np.r_[data_a, data_b, data_c][:n]\n",
    "\n",
    "def load_neutron_a_images(n=None):\n",
    "    data_a = pd.read_pickle('../data/neutron_images2a.pkl')\n",
    "    data_b = pd.read_pickle('../data/neutron_images2b.pkl')\n",
    "    data_c = pd.read_pickle('../data/neutron_images2c.pkl')\n",
    "\n",
    "    return np.r_[data_a, data_b, data_c][:n]\n",
    "\n",
    "def load_particle_data_a(n=None):\n",
    "    data_a = pd.read_pickle('../data/particles_cond_with_mass2a.pkl')\n",
    "    data_b = pd.read_pickle('../data/particles_cond_with_mass2b.pkl')\n",
    "    data_c = pd.read_pickle('../data/particles_cond_with_mass2c.pkl')\n",
    "\n",
    "    return pd.concat([data_a, data_b, data_c], axis=0)[:n]"
   ],
   "metadata": {
    "collapsed": false,
    "pycharm": {
     "name": "#%%\n"
    }
   }
  },
  {
   "cell_type": "code",
   "execution_count": 17,
   "outputs": [
    {
     "name": "stdout",
     "output_type": "stream",
     "text": [
      "Loaded Proton:  (511810, 56, 30)\n",
      "Loaded Neutron:  (511810, 44, 44)\n",
      "Loaded cond:  (511810, 11)\n"
     ]
    }
   ],
   "source": [
    "N_SAMPLES = None\n",
    "data_p = load_proton_a_images(N_SAMPLES)\n",
    "print('Loaded Proton: ',  data_p.shape)\n",
    "\n",
    "data_n = load_neutron_a_images(N_SAMPLES)\n",
    "print('Loaded Neutron: ',  data_n.shape)\n",
    "\n",
    "data_cond = load_particle_data_a(N_SAMPLES)\n",
    "print('Loaded cond: ',  data_cond.shape)"
   ],
   "metadata": {
    "collapsed": false,
    "pycharm": {
     "name": "#%%\n"
    }
   }
  },
  {
   "cell_type": "markdown",
   "source": [
    "## Calculate Sum Photons"
   ],
   "metadata": {
    "collapsed": false,
    "pycharm": {
     "name": "#%% md\n"
    }
   }
  },
  {
   "cell_type": "code",
   "execution_count": 18,
   "outputs": [],
   "source": [
    "data_cond.rename(columns={\"PhotonSum\": \"neutron_photon_sum\"}, inplace=True)"
   ],
   "metadata": {
    "collapsed": false,
    "pycharm": {
     "name": "#%%\n"
    }
   }
  },
  {
   "cell_type": "code",
   "execution_count": 19,
   "outputs": [],
   "source": [
    "data_cond.neutron_photon_sum = data_cond.neutron_photon_sum.astype(float)"
   ],
   "metadata": {
    "collapsed": false,
    "pycharm": {
     "name": "#%%\n"
    }
   }
  },
  {
   "cell_type": "code",
   "execution_count": 20,
   "outputs": [],
   "source": [
    "data_cond['proton_photon_sum'] = np.sum(data_p, axis=(1,2))"
   ],
   "metadata": {
    "collapsed": false,
    "pycharm": {
     "name": "#%%\n"
    }
   }
  },
  {
   "cell_type": "code",
   "execution_count": 21,
   "outputs": [
    {
     "data": {
      "text/plain": "    Pdg    Energy            Vx            Vy        Vz        Px        Py  \\\n0    22   513.318  1.454300e-08  3.650510e-08 -0.002731  0.035456 -0.051821   \n1    22  1304.340 -1.831820e-05  1.555780e-05  0.050293 -0.509192  0.461106   \n2    22  1014.720 -1.831820e-05  1.555780e-05  0.050293 -0.335473  0.256277   \n3  -211   325.158  0.000000e+00  0.000000e+00  0.000000  0.269915 -0.081921   \n4  2112  3192.380  0.000000e+00  0.000000e+00  0.000000  0.022422 -0.182957   \n\n         Pz  neutron_photon_sum        mass  charge  proton_photon_sum  \n0  -513.318               291.0    0.000000     0.0                0.0  \n1  1304.340                 8.0    0.000000     0.0                9.0  \n2  1014.720               130.0    0.000000     0.0                0.0  \n3   325.157                 0.0  139.570610    -1.0                5.0  \n4 -3192.380              1256.0  939.565413     0.0               16.0  ",
      "text/html": "<div>\n<style scoped>\n    .dataframe tbody tr th:only-of-type {\n        vertical-align: middle;\n    }\n\n    .dataframe tbody tr th {\n        vertical-align: top;\n    }\n\n    .dataframe thead th {\n        text-align: right;\n    }\n</style>\n<table border=\"1\" class=\"dataframe\">\n  <thead>\n    <tr style=\"text-align: right;\">\n      <th></th>\n      <th>Pdg</th>\n      <th>Energy</th>\n      <th>Vx</th>\n      <th>Vy</th>\n      <th>Vz</th>\n      <th>Px</th>\n      <th>Py</th>\n      <th>Pz</th>\n      <th>neutron_photon_sum</th>\n      <th>mass</th>\n      <th>charge</th>\n      <th>proton_photon_sum</th>\n    </tr>\n  </thead>\n  <tbody>\n    <tr>\n      <th>0</th>\n      <td>22</td>\n      <td>513.318</td>\n      <td>1.454300e-08</td>\n      <td>3.650510e-08</td>\n      <td>-0.002731</td>\n      <td>0.035456</td>\n      <td>-0.051821</td>\n      <td>-513.318</td>\n      <td>291.0</td>\n      <td>0.000000</td>\n      <td>0.0</td>\n      <td>0.0</td>\n    </tr>\n    <tr>\n      <th>1</th>\n      <td>22</td>\n      <td>1304.340</td>\n      <td>-1.831820e-05</td>\n      <td>1.555780e-05</td>\n      <td>0.050293</td>\n      <td>-0.509192</td>\n      <td>0.461106</td>\n      <td>1304.340</td>\n      <td>8.0</td>\n      <td>0.000000</td>\n      <td>0.0</td>\n      <td>9.0</td>\n    </tr>\n    <tr>\n      <th>2</th>\n      <td>22</td>\n      <td>1014.720</td>\n      <td>-1.831820e-05</td>\n      <td>1.555780e-05</td>\n      <td>0.050293</td>\n      <td>-0.335473</td>\n      <td>0.256277</td>\n      <td>1014.720</td>\n      <td>130.0</td>\n      <td>0.000000</td>\n      <td>0.0</td>\n      <td>0.0</td>\n    </tr>\n    <tr>\n      <th>3</th>\n      <td>-211</td>\n      <td>325.158</td>\n      <td>0.000000e+00</td>\n      <td>0.000000e+00</td>\n      <td>0.000000</td>\n      <td>0.269915</td>\n      <td>-0.081921</td>\n      <td>325.157</td>\n      <td>0.0</td>\n      <td>139.570610</td>\n      <td>-1.0</td>\n      <td>5.0</td>\n    </tr>\n    <tr>\n      <th>4</th>\n      <td>2112</td>\n      <td>3192.380</td>\n      <td>0.000000e+00</td>\n      <td>0.000000e+00</td>\n      <td>0.000000</td>\n      <td>0.022422</td>\n      <td>-0.182957</td>\n      <td>-3192.380</td>\n      <td>1256.0</td>\n      <td>939.565413</td>\n      <td>0.0</td>\n      <td>16.0</td>\n    </tr>\n  </tbody>\n</table>\n</div>"
     },
     "execution_count": 21,
     "metadata": {},
     "output_type": "execute_result"
    }
   ],
   "source": [
    "data_cond.head()"
   ],
   "metadata": {
    "collapsed": false,
    "pycharm": {
     "name": "#%%\n"
    }
   }
  },
  {
   "cell_type": "markdown",
   "source": [
    "## Filter Photon Sum"
   ],
   "metadata": {
    "collapsed": false,
    "pycharm": {
     "name": "#%% md\n"
    }
   }
  },
  {
   "cell_type": "code",
   "execution_count": 39,
   "outputs": [
    {
     "data": {
      "text/plain": "<Axes: xlabel='neutron_photon_sum', ylabel='Count'>"
     },
     "execution_count": 39,
     "metadata": {},
     "output_type": "execute_result"
    },
    {
     "data": {
      "text/plain": "<Figure size 1600x600 with 2 Axes>",
      "image/png": "[encoded data removed]"
     },
     "metadata": {},
     "output_type": "display_data"
    }
   ],
   "source": [
    "fig, (ax1, ax2) = plt.subplots(1, 2, sharex=False, sharey=False, figsize=(16, 6))\n",
    "\n",
    "sns.histplot(data_cond[data_cond.proton_photon_sum!=0].proton_photon_sum, kde=True, ax=ax1, log_scale=(True, True), element=\"step\")\n",
    "sns.histplot(data_cond[data_cond.neutron_photon_sum!=0].neutron_photon_sum, kde=True, ax=ax2, log_scale=(True, True), element=\"step\");"
   ],
   "metadata": {
    "collapsed": false,
    "pycharm": {
     "name": "#%%\n"
    }
   }
  },
  {
   "cell_type": "code",
   "execution_count": 40,
   "outputs": [
    {
     "name": "stdout",
     "output_type": "stream",
     "text": [
      "(1127, 56, 30) (1127, 44, 44) (1127, 12)\n",
      "Min proton photon sum:  70.0 Min proton photon sum:  70.0\n"
     ]
    },
    {
     "data": {
      "text/plain": "<matplotlib.image.AxesImage at 0x2da7014fa00>"
     },
     "execution_count": 40,
     "metadata": {},
     "output_type": "execute_result"
    },
    {
     "data": {
      "text/plain": "<Figure size 640x480 with 2 Axes>",
      "image/png": "[encoded data removed]"
     },
     "metadata": {},
     "output_type": "display_data"
    }
   ],
   "source": [
    "## Filter Photon Sum\n",
    "def filter_photon_sum(data_p, data_n, data_conditional, min_photon_sum=10, max_photon_sum=None):\n",
    "    \"\"\"\n",
    "    Returns particle data and responses of experiments with minimum sum of photons.\n",
    "    \"\"\"\n",
    "    if max_photon_sum:\n",
    "        mask = (data_conditional.proton_photon_sum >= min_photon_sum)\\\n",
    "               & (data_conditional.proton_photon_sum <= max_photon_sum)\\\n",
    "               & (data_conditional.neutron_photon_sum >= min_photon_sum)\\\n",
    "               & (data_conditional.neutron_photon_sum <= max_photon_sum)\n",
    "    else:\n",
    "        mask = (data_conditional.proton_photon_sum >= min_photon_sum) & (data_conditional.neutron_photon_sum >= min_photon_sum)\n",
    "    return data_p[mask], data_n[mask], data_conditional[mask].reset_index(drop=True)\n",
    "\n",
    "\n",
    "MIN_PHOTON_SUM = 70\n",
    "MAX_PHOTON_SUM = None\n",
    "\n",
    "data_p, data_n, data_cond = filter_photon_sum(data_p, data_n, data_cond, min_photon_sum=MIN_PHOTON_SUM, max_photon_sum=MAX_PHOTON_SUM)\n",
    "print(data_p.shape, data_n.shape, data_cond.shape)\n",
    "print(\"Min proton photon sum: \", data_cond.proton_photon_sum.min(),\n",
    "      \"Min proton photon sum: \", data_cond.neutron_photon_sum.min())\n",
    "\n",
    "fig, ax = plt.subplots(1, 2)\n",
    "ax[0].imshow(data_p[3], interpolation='none')\n",
    "ax[1].imshow(data_n[3], interpolation='none')"
   ],
   "metadata": {
    "collapsed": false,
    "pycharm": {
     "name": "#%%\n"
    }
   }
  },
  {
   "cell_type": "markdown",
   "source": [
    "## Save filtered data"
   ],
   "metadata": {
    "collapsed": false,
    "pycharm": {
     "name": "#%% md\n"
    }
   }
  },
  {
   "cell_type": "code",
   "execution_count": 41,
   "outputs": [],
   "source": [
    "# save conditional data\n",
    "data_cond.to_pickle(f\"../data/data_cond_photonsum_{MIN_PHOTON_SUM}.pkl\")"
   ],
   "metadata": {
    "collapsed": false,
    "pycharm": {
     "name": "#%%\n"
    }
   }
  },
  {
   "cell_type": "code",
   "execution_count": 42,
   "outputs": [],
   "source": [
    "# save proton data\n",
    "with open(f\"../data/data_proton_photonsum_{MIN_PHOTON_SUM}.pkl\", 'wb') as f:\n",
    "    pickle.dump(data_p, f)"
   ],
   "metadata": {
    "collapsed": false,
    "pycharm": {
     "name": "#%%\n"
    }
   }
  },
  {
   "cell_type": "markdown",
   "source": [
    "## Add padding\n",
    "\n",
    "Two sizes of images:\n",
    "- 56 x 30\n",
    "- 44 x 44\n",
    "\n",
    "__Goal:__ Add padding to images to transform them to common size: 56 x 44\n",
    "\n",
    "__Approaches:__\n",
    "- add padding around the images (center the content)\n",
    "- add padding to one side of images"
   ],
   "metadata": {
    "collapsed": false,
    "pycharm": {
     "name": "#%% md\n"
    }
   }
  },
  {
   "cell_type": "code",
   "execution_count": 43,
   "outputs": [],
   "source": [
    "from enum import Enum\n",
    "\n",
    "class PaddingMethod(Enum):\n",
    "    CENTER = 0\n",
    "    LEFT_SIDE = 0"
   ],
   "metadata": {
    "collapsed": false,
    "pycharm": {
     "name": "#%%\n"
    }
   }
  },
  {
   "cell_type": "code",
   "execution_count": 44,
   "outputs": [],
   "source": [
    "def add_padding_56_30(image, method: PaddingMethod = PaddingMethod.CENTER.name):\n",
    "    \"\"\"\n",
    "    Transform image of shape(56, 30) into shape(56, 44).\n",
    "    :param method: Method of adding padding\n",
    "    :param image: Image of shape(56, 30)\n",
    "    :returns: Image of shape(56, 44)\n",
    "    \"\"\"\n",
    "    if method == PaddingMethod.CENTER.name:\n",
    "        # Add 7 pixels to the left and right side of image\n",
    "        return np.pad(image,\n",
    "                      pad_width=((0, 0), (7, 7)),\n",
    "                      mode='constant', constant_values=0)\n",
    "\n",
    "\n",
    "def add_padding_44_44(image, method: PaddingMethod = PaddingMethod.CENTER.name):\n",
    "    \"\"\"\n",
    "    Transform image of shape(44, 44) into shape(56, 44).\n",
    "    :param method: Method of adding padding\n",
    "    :param image: Image of shape(44, 44)\n",
    "    :returns: Image of shape(56, 44)\n",
    "    \"\"\"\n",
    "    if method == PaddingMethod.CENTER.name:\n",
    "        # Add 7 pixels to the top and bottom side of image\n",
    "        return np.pad(image,\n",
    "                      pad_width=((6, 6), (0, 0)),\n",
    "                      mode='constant', constant_values=0)"
   ],
   "metadata": {
    "collapsed": false,
    "pycharm": {
     "name": "#%%\n"
    }
   }
  },
  {
   "cell_type": "code",
   "execution_count": 45,
   "outputs": [],
   "source": [
    "padded_p = np.array(list(map(add_padding_56_30, data_p)))"
   ],
   "metadata": {
    "collapsed": false,
    "pycharm": {
     "name": "#%%\n"
    }
   }
  },
  {
   "cell_type": "code",
   "execution_count": 46,
   "outputs": [],
   "source": [
    "padded_n = np.array(list(map(add_padding_44_44, data_n)))"
   ],
   "metadata": {
    "collapsed": false,
    "pycharm": {
     "name": "#%%\n"
    }
   }
  },
  {
   "cell_type": "code",
   "execution_count": 47,
   "outputs": [
    {
     "data": {
      "text/plain": "((1127, 56, 44), (1127, 56, 44))"
     },
     "execution_count": 47,
     "metadata": {},
     "output_type": "execute_result"
    }
   ],
   "source": [
    "padded_p.shape, padded_n.shape"
   ],
   "metadata": {
    "collapsed": false,
    "pycharm": {
     "name": "#%%\n"
    }
   }
  },
  {
   "cell_type": "markdown",
   "source": [
    "## Combine images into two channels\n",
    "\n",
    "Given the padded images, combine them into a single image with 2 channels"
   ],
   "metadata": {
    "collapsed": false,
    "pycharm": {
     "name": "#%% md\n"
    }
   }
  },
  {
   "cell_type": "code",
   "execution_count": 48,
   "outputs": [
    {
     "data": {
      "text/plain": "(1127, 56, 44, 2)"
     },
     "execution_count": 48,
     "metadata": {},
     "output_type": "execute_result"
    }
   ],
   "source": [
    "def combine_into_channels(data_1, data_2):\n",
    "    data = np.zeros(shape=(len(data_1), 56, 44, 2))\n",
    "\n",
    "    data[:, :, :, 0] = data_1\n",
    "    data[:, :, :, 1] = data_2\n",
    "    return data\n",
    "\n",
    "data = combine_into_channels(padded_p, padded_n)\n",
    "data.shape"
   ],
   "metadata": {
    "collapsed": false,
    "pycharm": {
     "name": "#%%\n"
    }
   }
  },
  {
   "cell_type": "markdown",
   "source": [
    "### Image results"
   ],
   "metadata": {
    "collapsed": false,
    "pycharm": {
     "name": "#%% md\n"
    }
   }
  },
  {
   "cell_type": "code",
   "execution_count": 49,
   "outputs": [
    {
     "data": {
      "text/plain": "Text(0.5, 1.0, 'Original neutron image 44x44')"
     },
     "execution_count": 49,
     "metadata": {},
     "output_type": "execute_result"
    },
    {
     "data": {
      "text/plain": "<Figure size 640x480 with 2 Axes>",
      "image/png": "[encoded data removed]"
     },
     "metadata": {},
     "output_type": "display_data"
    }
   ],
   "source": [
    "fig, ax = plt.subplots(1, 2)\n",
    "ax[0].imshow(data_p[2], interpolation='none'); ax[0].set_title(\"Original proton image 56x30\")\n",
    "ax[1].imshow(data_n[2], interpolation='none'); ax[1].set_title(\"Original neutron image 44x44\")"
   ],
   "metadata": {
    "collapsed": false,
    "pycharm": {
     "name": "#%%\n"
    }
   }
  },
  {
   "cell_type": "code",
   "execution_count": 50,
   "outputs": [
    {
     "data": {
      "text/plain": "Text(0.5, 1.0, 'Neutron image with padding 56x44')"
     },
     "execution_count": 50,
     "metadata": {},
     "output_type": "execute_result"
    },
    {
     "data": {
      "text/plain": "<Figure size 640x480 with 2 Axes>",
      "image/png": "[encoded data removed]"
     },
     "metadata": {},
     "output_type": "display_data"
    }
   ],
   "source": [
    "fig, ax = plt.subplots(1, 2)\n",
    "ax[0].imshow(padded_p[2], interpolation='none'); ax[0].set_title(\"Proton image with padding 56x44\")\n",
    "ax[1].imshow(padded_n[2], interpolation='none'); ax[1].set_title(\"Neutron image with padding 56x44\")"
   ],
   "metadata": {
    "collapsed": false,
    "pycharm": {
     "name": "#%%\n"
    }
   }
  },
  {
   "cell_type": "code",
   "execution_count": 1,
   "outputs": [],
   "source": [
    "# plt.imshow(data[2], interpolation='none'); plt.title(\"Combined image for neutron and proton 56x88\")"
   ],
   "metadata": {
    "collapsed": false,
    "pycharm": {
     "name": "#%%\n"
    }
   }
  },
  {
   "cell_type": "markdown",
   "source": [
    "Even though in the combined image the proton response is barely visible, the photonsum from combined image and separate images is equal."
   ],
   "metadata": {
    "collapsed": false,
    "pycharm": {
     "name": "#%% md\n"
    }
   }
  },
  {
   "cell_type": "code",
   "execution_count": 161,
   "outputs": [],
   "source": [
    "# assert data[0].sum() == (data_p[0].sum() + data_n[0].sum())\n",
    "# assert data[0].sum() == (padded_p[0].sum() + padded_n[0].sum())"
   ],
   "metadata": {
    "collapsed": false,
    "pycharm": {
     "name": "#%%\n"
    }
   }
  },
  {
   "cell_type": "code",
   "execution_count": 160,
   "outputs": [],
   "source": [
    "# # get 10 images having most photon sum\n",
    "# indx = data_cond.apply(lambda x: x.neutron_photon_sum+x.proton_photon_sum, axis=1).sort_values(ascending=False).index\n",
    "#\n",
    "# for i, idx in enumerate(indx):\n",
    "#     plt.imshow(data[idx-1], interpolation='none'); plt.title(\"Combined image for neutron and proton 56x88\")\n",
    "#     plt.show()\n",
    "#     if i > 10:\n",
    "#         break"
   ],
   "metadata": {
    "collapsed": false,
    "pycharm": {
     "name": "#%%\n"
    }
   }
  },
  {
   "cell_type": "markdown",
   "source": [
    "## Save files"
   ],
   "metadata": {
    "collapsed": false,
    "pycharm": {
     "name": "#%% md\n"
    }
   }
  },
  {
   "cell_type": "code",
   "execution_count": 51,
   "outputs": [],
   "source": [
    "data_cond.to_pickle(f\"../data/data_cond_photonsum_{MIN_PHOTON_SUM}.pkl\")"
   ],
   "metadata": {
    "collapsed": false,
    "pycharm": {
     "name": "#%%\n"
    }
   }
  },
  {
   "cell_type": "code",
   "execution_count": 52,
   "outputs": [],
   "source": [
    "with open(f\"../data/data_proton_neutron_photonsum_{MIN_PHOTON_SUM}_padding.pkl\", 'wb') as f:\n",
    "    pickle.dump(data, f)"
   ],
   "metadata": {
    "collapsed": false,
    "pycharm": {
     "name": "#%%\n"
    }
   }
  },
  {
   "cell_type": "code",
   "execution_count": 303,
   "outputs": [],
   "source": [
    "# IDX = 1\n",
    "#\n",
    "# fig, ax = plt.subplots(2,2)\n",
    "#\n",
    "# ax[0][0].imshow(data[IDX][:,:,0])\n",
    "# ax[0][1].imshow(data[IDX][:,:,1])\n",
    "#\n",
    "# ax[1][0].imshow(padded_p[IDX])\n",
    "# ax[1][1].imshow(padded_n[IDX])"
   ],
   "metadata": {
    "collapsed": false,
    "pycharm": {
     "name": "#%%\n"
    }
   }
  },
  {
   "cell_type": "code",
   "execution_count": null,
   "outputs": [],
   "source": [],
   "metadata": {
    "collapsed": false,
    "pycharm": {
     "name": "#%%\n"
    }
   }
  }
 ],
 "metadata": {
  "kernelspec": {
   "display_name": "Python 3",
   "language": "python",
   "name": "python3"
  },
  "language_info": {
   "codemirror_mode": {
    "name": "ipython",
    "version": 2
   },
   "file_extension": ".py",
   "mimetype": "text/x-python",
   "name": "python",
   "nbconvert_exporter": "python",
   "pygments_lexer": "ipython2",
   "version": "2.7.6"
  }
 },
 "nbformat": 4,
 "nbformat_minor": 0
}