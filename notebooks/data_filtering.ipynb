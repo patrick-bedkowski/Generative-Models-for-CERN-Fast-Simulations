{
 "cells": [
  {
   "cell_type": "code",
   "execution_count": 4,
   "metadata": {
    "collapsed": true,
    "pycharm": {
     "name": "#%%\n"
    }
   },
   "outputs": [],
   "source": [
    "import pandas as pd\n",
    "import numpy as np\n",
    "import pickle\n",
    "import matplotlib.pyplot as plt"
   ]
  },
  {
   "cell_type": "code",
   "execution_count": 5,
   "outputs": [],
   "source": [
    "def load_proton_a_images(n=None):\n",
    "    data = pd.read_pickle('../data/proton_images2a.pkl')\n",
    "    return data[:n]\n",
    "\n",
    "def load_neutron_a_images(n=None):\n",
    "    data = pd.read_pickle('../data/neutron_images2a.pkl')\n",
    "    return data[:n]\n",
    "\n",
    "def load_particle_data_a(n=None):\n",
    "    data = pd.read_pickle('../data/particles_cond_with_mass2a.pkl')\n",
    "    return data[:n]"
   ],
   "metadata": {
    "collapsed": false,
    "pycharm": {
     "name": "#%%\n"
    }
   }
  },
  {
   "cell_type": "code",
   "execution_count": 6,
   "outputs": [
    {
     "name": "stdout",
     "output_type": "stream",
     "text": [
      "Loaded Proton:  (175636, 56, 30)\n",
      "Loaded Neutron:  (175636, 44, 44)\n",
      "Loaded cond:  (175636, 11)\n"
     ]
    }
   ],
   "source": [
    "N_SAMPLES = None\n",
    "data_p = load_proton_a_images(N_SAMPLES)\n",
    "print('Loaded Proton: ',  data_p.shape)\n",
    "\n",
    "data_n = load_neutron_a_images(N_SAMPLES)\n",
    "print('Loaded Neutron: ',  data_n.shape)\n",
    "\n",
    "data_cond = load_particle_data_a(N_SAMPLES)\n",
    "print('Loaded cond: ',  data_cond.shape)"
   ],
   "metadata": {
    "collapsed": false,
    "pycharm": {
     "name": "#%%\n"
    }
   }
  },
  {
   "cell_type": "code",
   "execution_count": 7,
   "outputs": [
    {
     "name": "stdout",
     "output_type": "stream",
     "text": [
      "Suma fotonów:  5.0\n"
     ]
    },
    {
     "data": {
      "text/plain": "<matplotlib.image.AxesImage at 0x1add6af3e20>"
     },
     "execution_count": 7,
     "metadata": {},
     "output_type": "execute_result"
    },
    {
     "data": {
      "text/plain": "<Figure size 640x480 with 1 Axes>",
      "image/png": "[encoded data removed]"
     },
     "metadata": {},
     "output_type": "display_data"
    }
   ],
   "source": [
    "print(\"Suma fotonów: \", data_p[3].sum())\n",
    "plt.imshow(data_p[3])"
   ],
   "metadata": {
    "collapsed": false,
    "pycharm": {
     "name": "#%%\n"
    }
   }
  },
  {
   "cell_type": "code",
   "execution_count": 92,
   "outputs": [
    {
     "data": {
      "text/plain": "Pdg         -211.000000\nEnergy       325.158000\nVx             0.000000\nVy             0.000000\nVz             0.000000\nPx             0.269915\nPy            -0.081921\nPz           325.157000\nPhotonSum      0.000000\nmass         139.570610\ncharge        -1.000000\nName: 3, dtype: float64"
     },
     "execution_count": 92,
     "metadata": {},
     "output_type": "execute_result"
    }
   ],
   "source": [
    "data_cond.iloc[3]"
   ],
   "metadata": {
    "collapsed": false,
    "pycharm": {
     "name": "#%%\n"
    }
   }
  },
  {
   "cell_type": "markdown",
   "source": [
    "## Filter Photon Sum"
   ],
   "metadata": {
    "collapsed": false,
    "pycharm": {
     "name": "#%% md\n"
    }
   }
  },
  {
   "cell_type": "code",
   "execution_count": 93,
   "outputs": [],
   "source": [
    "def filter_photon_sum(data_response, data_conditional, min_photon_sum=10):\n",
    "    \"\"\"\n",
    "    Returns particle data and responses of experiments with minimum sum of photons.\n",
    "    \"\"\"\n",
    "    indecies = data_conditional.index[data_conditional.loc[:, 'PhotonSum'] >= min_photon_sum]\n",
    "    return data_response[indecies], data_conditional.iloc[indecies].reset_index(drop=True)"
   ],
   "metadata": {
    "collapsed": false,
    "pycharm": {
     "name": "#%%\n"
    }
   }
  },
  {
   "cell_type": "code",
   "execution_count": 94,
   "outputs": [
    {
     "data": {
      "text/plain": "((89125, 56, 30), (89125, 11))"
     },
     "execution_count": 94,
     "metadata": {},
     "output_type": "execute_result"
    }
   ],
   "source": [
    "MIN_PHOTON_SUM = 30\n",
    "\n",
    "data, data_cond = filter_photon_sum(data, data_cond, min_photon_sum=MIN_PHOTON_SUM)\n",
    "data.shape, data_cond.shape"
   ],
   "metadata": {
    "collapsed": false,
    "pycharm": {
     "name": "#%%\n"
    }
   }
  },
  {
   "cell_type": "markdown",
   "source": [
    "## Add padding\n",
    "\n",
    "Two sizes of images:\n",
    "- 56 x 30\n",
    "- 44 x 44\n",
    "\n",
    "__Goal:__ Add padding to images to transform them to common size: 56 x 44\n",
    "\n",
    "__Approaches:__\n",
    "- add padding around the images (center the content)\n",
    "- add padding to one side of images"
   ],
   "metadata": {
    "collapsed": false,
    "pycharm": {
     "name": "#%% md\n"
    }
   }
  },
  {
   "cell_type": "code",
   "execution_count": 9,
   "outputs": [],
   "source": [
    "from enum import Enum\n",
    "\n",
    "class PaddingMethod(Enum):\n",
    "    CENTER = 0\n",
    "    LEFT_SIDE = 0"
   ],
   "metadata": {
    "collapsed": false,
    "pycharm": {
     "name": "#%%\n"
    }
   }
  },
  {
   "cell_type": "code",
   "execution_count": 23,
   "outputs": [],
   "source": [
    "def add_padding_56_30(image, method: PaddingMethod = PaddingMethod.CENTER.name):\n",
    "    \"\"\"\n",
    "    Transform image of shape(56, 30) into shape(56, 44).\n",
    "    :param method: Method of adding padding\n",
    "    :param image: Image of shape(56, 30)\n",
    "    :returns: Image of shape(56, 44)\n",
    "    \"\"\"\n",
    "    if method == PaddingMethod.CENTER.name:\n",
    "        # Add 7 pixels to the left and right side of image\n",
    "        return np.pad(image,\n",
    "                      pad_width=((0, 0), (7, 7)),\n",
    "                      mode='constant', constant_values=0)\n",
    "\n",
    "\n",
    "def add_padding_44_44(image, method: PaddingMethod = PaddingMethod.CENTER.name):\n",
    "    \"\"\"\n",
    "    Transform image of shape(44, 44) into shape(56, 44).\n",
    "    :param method: Method of adding padding\n",
    "    :param image: Image of shape(44, 44)\n",
    "    :returns: Image of shape(56, 44)\n",
    "    \"\"\"\n",
    "    if method == PaddingMethod.CENTER.name:\n",
    "        # Add 7 pixels to the top and bottom side of image\n",
    "        return np.pad(image,\n",
    "                      pad_width=((6, 6), (0, 0)),\n",
    "                      mode='constant', constant_values=0)"
   ],
   "metadata": {
    "collapsed": false,
    "pycharm": {
     "name": "#%%\n"
    }
   }
  },
  {
   "cell_type": "code",
   "execution_count": 19,
   "outputs": [],
   "source": [
    "padded_p = np.array(list(map(add_padding_56_30, data_p)))"
   ],
   "metadata": {
    "collapsed": false,
    "pycharm": {
     "name": "#%%\n"
    }
   }
  },
  {
   "cell_type": "code",
   "execution_count": 24,
   "outputs": [],
   "source": [
    "padded_n = np.array(list(map(add_padding_44_44, data_n)))"
   ],
   "metadata": {
    "collapsed": false,
    "pycharm": {
     "name": "#%%\n"
    }
   }
  },
  {
   "cell_type": "code",
   "execution_count": 25,
   "outputs": [
    {
     "data": {
      "text/plain": "((175636, 56, 44), (175636, 56, 44))"
     },
     "execution_count": 25,
     "metadata": {},
     "output_type": "execute_result"
    }
   ],
   "source": [
    "padded_p.shape, padded_n.shape"
   ],
   "metadata": {
    "collapsed": false,
    "pycharm": {
     "name": "#%%\n"
    }
   }
  },
  {
   "cell_type": "markdown",
   "source": [
    "## Combine images into two channels\n",
    "\n",
    "Given the padded images, combine them into a single image with 2 channels"
   ],
   "metadata": {
    "collapsed": false,
    "pycharm": {
     "name": "#%% md\n"
    }
   }
  },
  {
   "cell_type": "code",
   "execution_count": 26,
   "outputs": [],
   "source": [
    "def combine_into_channels(data_1, data_2):\n",
    "    return np.dstack((data_1, data_2))"
   ],
   "metadata": {
    "collapsed": false,
    "pycharm": {
     "name": "#%%\n"
    }
   }
  },
  {
   "cell_type": "code",
   "execution_count": 27,
   "outputs": [],
   "source": [
    "data = combine_into_channels(padded_p, padded_n)"
   ],
   "metadata": {
    "collapsed": false,
    "pycharm": {
     "name": "#%%\n"
    }
   }
  },
  {
   "cell_type": "code",
   "execution_count": 28,
   "outputs": [
    {
     "data": {
      "text/plain": "(175636, 56, 88)"
     },
     "execution_count": 28,
     "metadata": {},
     "output_type": "execute_result"
    }
   ],
   "source": [
    "data.shape"
   ],
   "metadata": {
    "collapsed": false,
    "pycharm": {
     "name": "#%%\n"
    }
   }
  },
  {
   "cell_type": "code",
   "execution_count": 78,
   "outputs": [
    {
     "data": {
      "text/plain": "(<matplotlib.image.AxesImage at 0x234a3cc7c70>, 1256.0)"
     },
     "execution_count": 78,
     "metadata": {},
     "output_type": "execute_result"
    },
    {
     "data": {
      "text/plain": "<Figure size 640x480 with 1 Axes>",
      "image/png": "[encoded data removed]"
     },
     "metadata": {},
     "output_type": "display_data"
    }
   ],
   "source": [
    "plt.imshow(data[2], interpolation='none'), data[2].sum()"
   ],
   "metadata": {
    "collapsed": false,
    "pycharm": {
     "name": "#%%\n"
    }
   }
  },
  {
   "cell_type": "markdown",
   "source": [
    "## Save files"
   ],
   "metadata": {
    "collapsed": false,
    "pycharm": {
     "name": "#%% md\n"
    }
   }
  },
  {
   "cell_type": "code",
   "execution_count": 34,
   "outputs": [],
   "source": [
    "data_cond.to_pickle(f\"../data/data_cond_photonsum_{MIN_PHOTON_SUM}.pkl\")"
   ],
   "metadata": {
    "collapsed": false,
    "pycharm": {
     "name": "#%%\n"
    }
   }
  },
  {
   "cell_type": "code",
   "execution_count": 35,
   "outputs": [],
   "source": [
    "with open(f\"../data/data_photonsum_{MIN_PHOTON_SUM}.pkl\", 'wb') as f:\n",
    "    pickle.dump(data, f)"
   ],
   "metadata": {
    "collapsed": false,
    "pycharm": {
     "name": "#%%\n"
    }
   }
  }
 ],
 "metadata": {
  "kernelspec": {
   "display_name": "Python 3",
   "language": "python",
   "name": "python3"
  },
  "language_info": {
   "codemirror_mode": {
    "name": "ipython",
    "version": 2
   },
   "file_extension": ".py",
   "mimetype": "text/x-python",
   "name": "python",
   "nbconvert_exporter": "python",
   "pygments_lexer": "ipython2",
   "version": "2.7.6"
  }
 },
 "nbformat": 4,
 "nbformat_minor": 0
}