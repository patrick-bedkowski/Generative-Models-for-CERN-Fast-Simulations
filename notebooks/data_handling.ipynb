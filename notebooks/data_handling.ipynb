{
 "cells": [
  {
   "cell_type": "markdown",
   "source": [],
   "metadata": {
    "collapsed": false,
    "pycharm": {
     "name": "#%% md\n"
    }
   }
  },
  {
   "cell_type": "code",
   "execution_count": 1,
   "outputs": [],
   "source": [
    "from typing import Tuple\n",
    "from datetime import datetime\n",
    "import pickle\n",
    "import os\n",
    "import sys\n",
    "import pandas as pd\n",
    "import numpy as np\n",
    "import matplotlib.pyplot as plt\n",
    "import seaborn as sns"
   ],
   "metadata": {
    "collapsed": false,
    "pycharm": {
     "name": "#%%\n"
    }
   }
  },
  {
   "cell_type": "code",
   "execution_count": 2,
   "outputs": [],
   "source": [
    "from typing import Tuple\n",
    "from datetime import datetime\n",
    "import pickle\n",
    "import os\n",
    "import sys\n",
    "import pandas as pd\n",
    "import numpy as np\n",
    "import matplotlib.pyplot as plt\n",
    "import seaborn as sns"
   ],
   "metadata": {
    "collapsed": false,
    "pycharm": {
     "name": "#%%\n"
    }
   }
  },
  {
   "cell_type": "markdown",
   "source": [
    "# Load data"
   ],
   "metadata": {
    "collapsed": false,
    "pycharm": {
     "name": "#%% md\n"
    }
   }
  },
  {
   "cell_type": "code",
   "execution_count": 3,
   "outputs": [],
   "source": [
    "def load_proton_a_images(data_dir, n=None):\n",
    "    data_a = pd.read_pickle(os.path.join(data_dir, \"proton_images2a.pkl\"))\n",
    "    data_b = pd.read_pickle(os.path.join(data_dir, \"proton_images2b.pkl\"))\n",
    "    data_c = pd.read_pickle(os.path.join(data_dir, \"proton_images2c.pkl\"))\n",
    "    return np.r_[data_a, data_b, data_c][:n]\n",
    "\n",
    "def load_neutron_a_images(data_dir, n=None):\n",
    "    data_a = pd.read_pickle(os.path.join(data_dir, \"neutron_images2a.pkl\"))\n",
    "    data_b = pd.read_pickle(os.path.join(data_dir, \"neutron_images2b.pkl\"))\n",
    "    data_c = pd.read_pickle(os.path.join(data_dir, \"neutron_images2c.pkl\"))\n",
    "    return np.r_[data_a, data_b, data_c][:n]\n",
    "\n",
    "def load_particle_data_a(data_dir, n=None):\n",
    "    data_a = pd.read_pickle(os.path.join(data_dir, \"particles_cond_with_mass2a.pkl\"))\n",
    "    data_b = pd.read_pickle(os.path.join(data_dir, \"particles_cond_with_mass2b.pkl\"))\n",
    "    data_c = pd.read_pickle(os.path.join(data_dir, \"particles_cond_with_mass2c.pkl\"))\n",
    "    return pd.concat([data_a, data_b, data_c], axis=0)[:n]"
   ],
   "metadata": {
    "collapsed": false,
    "pycharm": {
     "name": "#%%\n"
    }
   }
  },
  {
   "cell_type": "code",
   "execution_count": 4,
   "outputs": [],
   "source": [
    "DATA_DIR = \"../data/\"\n",
    "N_SAMPLES_T0_LOAD = None  # If None, load all data"
   ],
   "metadata": {
    "collapsed": false,
    "pycharm": {
     "name": "#%%\n"
    }
   }
  },
  {
   "cell_type": "code",
   "execution_count": null,
   "outputs": [],
   "source": [],
   "metadata": {
    "collapsed": false,
    "pycharm": {
     "name": "#%%\n"
    }
   }
  },
  {
   "cell_type": "code",
   "execution_count": 42,
   "outputs": [
    {
     "name": "stdout",
     "output_type": "stream",
     "text": [
      "Loaded Proton:  (511810, 56, 30)\n"
     ]
    }
   ],
   "source": [
    "data_p = load_proton_a_images(DATA_DIR, N_SAMPLES_T0_LOAD)\n",
    "print('Loaded Proton: ',  data_p.shape)"
   ],
   "metadata": {
    "collapsed": false,
    "pycharm": {
     "name": "#%%\n"
    }
   }
  },
  {
   "cell_type": "code",
   "execution_count": 8,
   "outputs": [
    {
     "name": "stdout",
     "output_type": "stream",
     "text": [
      "Loaded Neutron:  (511810, 44, 44)\n"
     ]
    }
   ],
   "source": [
    "data_n = load_neutron_a_images(DATA_DIR, N_SAMPLES_T0_LOAD)\n",
    "print('Loaded Neutron: ',  data_n.shape)"
   ],
   "metadata": {
    "collapsed": false,
    "pycharm": {
     "name": "#%%\n"
    }
   }
  },
  {
   "cell_type": "code",
   "execution_count": 9,
   "outputs": [
    {
     "name": "stdout",
     "output_type": "stream",
     "text": [
      "Loaded cond:  (511810, 11)\n"
     ]
    }
   ],
   "source": [
    "data_cond = load_particle_data_a(DATA_DIR, N_SAMPLES_T0_LOAD)\n",
    "print('Loaded cond: ',  data_cond.shape)"
   ],
   "metadata": {
    "collapsed": false,
    "pycharm": {
     "name": "#%%\n"
    }
   }
  },
  {
   "cell_type": "code",
   "execution_count": 7,
   "outputs": [
    {
     "data": {
      "text/plain": "         Pdg    Energy            Vx            Vy        Vz        Px  \\\n0         22   513.318  1.454300e-08  3.650510e-08 -0.002731  0.035456   \n1         22  1304.340 -1.831820e-05  1.555780e-05  0.050293 -0.509192   \n2         22  1014.720 -1.831820e-05  1.555780e-05  0.050293 -0.335473   \n3       -211   325.158  0.000000e+00  0.000000e+00  0.000000  0.269915   \n4       2112  3192.380  0.000000e+00  0.000000e+00  0.000000  0.022422   \n...      ...       ...           ...           ...       ...       ...   \n203352  3122  4071.230  0.000000e+00  0.000000e+00  0.000000  0.089305   \n203353  3122  4003.600  0.000000e+00  0.000000e+00  0.000000  0.769178   \n203354    22   892.561  3.026130e-05 -2.853110e-06  0.114929  0.286136   \n203355    22  1037.070  3.026130e-05 -2.853110e-06  0.114929  0.221947   \n203356  2212  2609.470  0.000000e+00  0.000000e+00  0.000000 -0.190964   \n\n              Py        Pz  PhotonSum         mass  charge  \n0      -0.051821  -513.318        291     0.000000     0.0  \n1       0.461106  1304.340          8     0.000000     0.0  \n2       0.256277  1014.720        130     0.000000     0.0  \n3      -0.081921   325.157          0   139.570610    -1.0  \n4      -0.182957 -3192.380       1256   939.565413     0.0  \n...          ...       ...        ...          ...     ...  \n203352  0.069410 -4071.230         34  1115.683000     0.0  \n203353 -0.276743  4003.600       1419  1115.683000     0.0  \n203354  0.021616   892.561         97     0.000000     0.0  \n203355 -0.069519  1037.070        600     0.000000     0.0  \n203356  0.148528 -2609.460          2   938.272081     1.0  \n\n[511810 rows x 11 columns]",
      "text/html": "<div>\n<style scoped>\n    .dataframe tbody tr th:only-of-type {\n        vertical-align: middle;\n    }\n\n    .dataframe tbody tr th {\n        vertical-align: top;\n    }\n\n    .dataframe thead th {\n        text-align: right;\n    }\n</style>\n<table border=\"1\" class=\"dataframe\">\n  <thead>\n    <tr style=\"text-align: right;\">\n      <th></th>\n      <th>Pdg</th>\n      <th>Energy</th>\n      <th>Vx</th>\n      <th>Vy</th>\n      <th>Vz</th>\n      <th>Px</th>\n      <th>Py</th>\n      <th>Pz</th>\n      <th>PhotonSum</th>\n      <th>mass</th>\n      <th>charge</th>\n    </tr>\n  </thead>\n  <tbody>\n    <tr>\n      <th>0</th>\n      <td>22</td>\n      <td>513.318</td>\n      <td>1.454300e-08</td>\n      <td>3.650510e-08</td>\n      <td>-0.002731</td>\n      <td>0.035456</td>\n      <td>-0.051821</td>\n      <td>-513.318</td>\n      <td>291</td>\n      <td>0.000000</td>\n      <td>0.0</td>\n    </tr>\n    <tr>\n      <th>1</th>\n      <td>22</td>\n      <td>1304.340</td>\n      <td>-1.831820e-05</td>\n      <td>1.555780e-05</td>\n      <td>0.050293</td>\n      <td>-0.509192</td>\n      <td>0.461106</td>\n      <td>1304.340</td>\n      <td>8</td>\n      <td>0.000000</td>\n      <td>0.0</td>\n    </tr>\n    <tr>\n      <th>2</th>\n      <td>22</td>\n      <td>1014.720</td>\n      <td>-1.831820e-05</td>\n      <td>1.555780e-05</td>\n      <td>0.050293</td>\n      <td>-0.335473</td>\n      <td>0.256277</td>\n      <td>1014.720</td>\n      <td>130</td>\n      <td>0.000000</td>\n      <td>0.0</td>\n    </tr>\n    <tr>\n      <th>3</th>\n      <td>-211</td>\n      <td>325.158</td>\n      <td>0.000000e+00</td>\n      <td>0.000000e+00</td>\n      <td>0.000000</td>\n      <td>0.269915</td>\n      <td>-0.081921</td>\n      <td>325.157</td>\n      <td>0</td>\n      <td>139.570610</td>\n      <td>-1.0</td>\n    </tr>\n    <tr>\n      <th>4</th>\n      <td>2112</td>\n      <td>3192.380</td>\n      <td>0.000000e+00</td>\n      <td>0.000000e+00</td>\n      <td>0.000000</td>\n      <td>0.022422</td>\n      <td>-0.182957</td>\n      <td>-3192.380</td>\n      <td>1256</td>\n      <td>939.565413</td>\n      <td>0.0</td>\n    </tr>\n    <tr>\n      <th>...</th>\n      <td>...</td>\n      <td>...</td>\n      <td>...</td>\n      <td>...</td>\n      <td>...</td>\n      <td>...</td>\n      <td>...</td>\n      <td>...</td>\n      <td>...</td>\n      <td>...</td>\n      <td>...</td>\n    </tr>\n    <tr>\n      <th>203352</th>\n      <td>3122</td>\n      <td>4071.230</td>\n      <td>0.000000e+00</td>\n      <td>0.000000e+00</td>\n      <td>0.000000</td>\n      <td>0.089305</td>\n      <td>0.069410</td>\n      <td>-4071.230</td>\n      <td>34</td>\n      <td>1115.683000</td>\n      <td>0.0</td>\n    </tr>\n    <tr>\n      <th>203353</th>\n      <td>3122</td>\n      <td>4003.600</td>\n      <td>0.000000e+00</td>\n      <td>0.000000e+00</td>\n      <td>0.000000</td>\n      <td>0.769178</td>\n      <td>-0.276743</td>\n      <td>4003.600</td>\n      <td>1419</td>\n      <td>1115.683000</td>\n      <td>0.0</td>\n    </tr>\n    <tr>\n      <th>203354</th>\n      <td>22</td>\n      <td>892.561</td>\n      <td>3.026130e-05</td>\n      <td>-2.853110e-06</td>\n      <td>0.114929</td>\n      <td>0.286136</td>\n      <td>0.021616</td>\n      <td>892.561</td>\n      <td>97</td>\n      <td>0.000000</td>\n      <td>0.0</td>\n    </tr>\n    <tr>\n      <th>203355</th>\n      <td>22</td>\n      <td>1037.070</td>\n      <td>3.026130e-05</td>\n      <td>-2.853110e-06</td>\n      <td>0.114929</td>\n      <td>0.221947</td>\n      <td>-0.069519</td>\n      <td>1037.070</td>\n      <td>600</td>\n      <td>0.000000</td>\n      <td>0.0</td>\n    </tr>\n    <tr>\n      <th>203356</th>\n      <td>2212</td>\n      <td>2609.470</td>\n      <td>0.000000e+00</td>\n      <td>0.000000e+00</td>\n      <td>0.000000</td>\n      <td>-0.190964</td>\n      <td>0.148528</td>\n      <td>-2609.460</td>\n      <td>2</td>\n      <td>938.272081</td>\n      <td>1.0</td>\n    </tr>\n  </tbody>\n</table>\n<p>511810 rows × 11 columns</p>\n</div>"
     },
     "execution_count": 7,
     "metadata": {},
     "output_type": "execute_result"
    }
   ],
   "source": [
    "data_cond"
   ],
   "metadata": {
    "collapsed": false,
    "pycharm": {
     "name": "#%%\n"
    }
   }
  },
  {
   "cell_type": "markdown",
   "source": [
    "# Handle Sum Photons"
   ],
   "metadata": {
    "collapsed": false,
    "pycharm": {
     "name": "#%% md\n"
    }
   }
  },
  {
   "cell_type": "markdown",
   "source": [
    "## Calculate Sum Photons"
   ],
   "metadata": {
    "collapsed": false,
    "pycharm": {
     "name": "#%% md\n"
    }
   }
  },
  {
   "cell_type": "code",
   "execution_count": 45,
   "outputs": [],
   "source": [
    "data_cond.rename(columns={\"PhotonSum\": \"neutron_photon_sum\"}, inplace=True)\n",
    "data_cond.neutron_photon_sum = data_cond.neutron_photon_sum.astype(float)"
   ],
   "metadata": {
    "collapsed": false,
    "pycharm": {
     "name": "#%%\n"
    }
   }
  },
  {
   "cell_type": "code",
   "execution_count": 46,
   "outputs": [
    {
     "data": {
      "text/plain": "    Pdg    Energy            Vx            Vy        Vz        Px        Py  \\\n0    22   513.318  1.454300e-08  3.650510e-08 -0.002731  0.035456 -0.051821   \n1    22  1304.340 -1.831820e-05  1.555780e-05  0.050293 -0.509192  0.461106   \n2    22  1014.720 -1.831820e-05  1.555780e-05  0.050293 -0.335473  0.256277   \n3  -211   325.158  0.000000e+00  0.000000e+00  0.000000  0.269915 -0.081921   \n4  2112  3192.380  0.000000e+00  0.000000e+00  0.000000  0.022422 -0.182957   \n\n         Pz  neutron_photon_sum        mass  charge  proton_photon_sum  \n0  -513.318               291.0    0.000000     0.0                0.0  \n1  1304.340                 8.0    0.000000     0.0                9.0  \n2  1014.720               130.0    0.000000     0.0                0.0  \n3   325.157                 0.0  139.570610    -1.0                5.0  \n4 -3192.380              1256.0  939.565413     0.0               16.0  ",
      "text/html": "<div>\n<style scoped>\n    .dataframe tbody tr th:only-of-type {\n        vertical-align: middle;\n    }\n\n    .dataframe tbody tr th {\n        vertical-align: top;\n    }\n\n    .dataframe thead th {\n        text-align: right;\n    }\n</style>\n<table border=\"1\" class=\"dataframe\">\n  <thead>\n    <tr style=\"text-align: right;\">\n      <th></th>\n      <th>Pdg</th>\n      <th>Energy</th>\n      <th>Vx</th>\n      <th>Vy</th>\n      <th>Vz</th>\n      <th>Px</th>\n      <th>Py</th>\n      <th>Pz</th>\n      <th>neutron_photon_sum</th>\n      <th>mass</th>\n      <th>charge</th>\n      <th>proton_photon_sum</th>\n    </tr>\n  </thead>\n  <tbody>\n    <tr>\n      <th>0</th>\n      <td>22</td>\n      <td>513.318</td>\n      <td>1.454300e-08</td>\n      <td>3.650510e-08</td>\n      <td>-0.002731</td>\n      <td>0.035456</td>\n      <td>-0.051821</td>\n      <td>-513.318</td>\n      <td>291.0</td>\n      <td>0.000000</td>\n      <td>0.0</td>\n      <td>0.0</td>\n    </tr>\n    <tr>\n      <th>1</th>\n      <td>22</td>\n      <td>1304.340</td>\n      <td>-1.831820e-05</td>\n      <td>1.555780e-05</td>\n      <td>0.050293</td>\n      <td>-0.509192</td>\n      <td>0.461106</td>\n      <td>1304.340</td>\n      <td>8.0</td>\n      <td>0.000000</td>\n      <td>0.0</td>\n      <td>9.0</td>\n    </tr>\n    <tr>\n      <th>2</th>\n      <td>22</td>\n      <td>1014.720</td>\n      <td>-1.831820e-05</td>\n      <td>1.555780e-05</td>\n      <td>0.050293</td>\n      <td>-0.335473</td>\n      <td>0.256277</td>\n      <td>1014.720</td>\n      <td>130.0</td>\n      <td>0.000000</td>\n      <td>0.0</td>\n      <td>0.0</td>\n    </tr>\n    <tr>\n      <th>3</th>\n      <td>-211</td>\n      <td>325.158</td>\n      <td>0.000000e+00</td>\n      <td>0.000000e+00</td>\n      <td>0.000000</td>\n      <td>0.269915</td>\n      <td>-0.081921</td>\n      <td>325.157</td>\n      <td>0.0</td>\n      <td>139.570610</td>\n      <td>-1.0</td>\n      <td>5.0</td>\n    </tr>\n    <tr>\n      <th>4</th>\n      <td>2112</td>\n      <td>3192.380</td>\n      <td>0.000000e+00</td>\n      <td>0.000000e+00</td>\n      <td>0.000000</td>\n      <td>0.022422</td>\n      <td>-0.182957</td>\n      <td>-3192.380</td>\n      <td>1256.0</td>\n      <td>939.565413</td>\n      <td>0.0</td>\n      <td>16.0</td>\n    </tr>\n  </tbody>\n</table>\n</div>"
     },
     "execution_count": 46,
     "metadata": {},
     "output_type": "execute_result"
    }
   ],
   "source": [
    "data_cond['proton_photon_sum'] = np.sum(data_p, axis=(1,2))\n",
    "data_cond.head()"
   ],
   "metadata": {
    "collapsed": false,
    "pycharm": {
     "name": "#%%\n"
    }
   }
  },
  {
   "cell_type": "markdown",
   "source": [
    "## Photon Sum Distribution"
   ],
   "metadata": {
    "collapsed": false,
    "pycharm": {
     "name": "#%% md\n"
    }
   }
  },
  {
   "cell_type": "code",
   "execution_count": 22,
   "outputs": [
    {
     "data": {
      "text/plain": "<Figure size 1600x600 with 2 Axes>",
      "image/png": "[encoded data removed]"
     },
     "metadata": {},
     "output_type": "display_data"
    }
   ],
   "source": [
    "fig, (ax1, ax2) = plt.subplots(1, 2, sharex=False, sharey=False, figsize=(16, 6))\n",
    "\n",
    "sns.histplot(data_cond[data_cond.proton_photon_sum!=0].proton_photon_sum, kde=True, ax=ax1, log_scale=(True, True), element=\"step\")\n",
    "sns.histplot(data_cond[data_cond.neutron_photon_sum!=0].neutron_photon_sum, kde=True, ax=ax2, log_scale=(True, True), element=\"step\")\n",
    "ax1.grid(which=\"minor\", axis=\"x\", alpha=0.7, color='grey', linestyle='-')\n",
    "ax2.grid(which=\"minor\", axis=\"x\", alpha=0.7, color='grey', linestyle='-');"
   ],
   "metadata": {
    "collapsed": false,
    "pycharm": {
     "name": "#%%\n"
    }
   }
  },
  {
   "cell_type": "markdown",
   "source": [
    "## Filter Photon Sum"
   ],
   "metadata": {
    "collapsed": false,
    "pycharm": {
     "name": "#%% md\n"
    }
   }
  },
  {
   "cell_type": "code",
   "execution_count": 47,
   "outputs": [
    {
     "name": "stdout",
     "output_type": "stream",
     "text": [
      "Proton data: shape: (32951, 56, 30) \n",
      "Neutron data: shape: (32951, 44, 44) \n",
      "Cond data: shape: (32951, 12)\n"
     ]
    }
   ],
   "source": [
    "def filter_photon_sum(data_p, data_n, data_conditional, proton_interval: Tuple, neutron_interval: Tuple):\n",
    "    \"\"\"\n",
    "    Returns particle data and responses of experiments with minimum sum of photons.\n",
    "    :param data_p: Responses of proton calorimeter, shape=(N, 50, 30)\n",
    "    :param data_n: Responses of neutron calorimeter, shape=(N, 44, 44)\n",
    "    :param data_conditional: Conditional data for particles\n",
    "    :param proton_interval: Tuple containing interval of interests in photon sum of proton response\n",
    "    :param neutron_interval: Tuple containing interval of interests in photon sum of neutron response\n",
    "    :return:\n",
    "    \"\"\"\n",
    "    (proton_min, proton_max), (neutron_min, neutron_max) = proton_interval, neutron_interval\n",
    "\n",
    "    mask = ((data_conditional.proton_photon_sum >= proton_min)\\\n",
    "           & (data_conditional.proton_photon_sum <= proton_max)) \\\n",
    "           & \\\n",
    "           ((data_conditional.neutron_photon_sum >= neutron_min)\\\n",
    "           & (data_conditional.neutron_photon_sum <= neutron_max))\n",
    "    return data_p[mask], data_n[mask], data_conditional[mask].reset_index(drop=True)\n",
    "\n",
    "PROTON_PHOTON_SUM_INTERVAL = (20, data_cond.proton_photon_sum.max())\n",
    "NEUTRON_PHOTON_SUM_INTERVAL = (20, data_cond.neutron_photon_sum.max())\n",
    "\n",
    "data_p, data_n, data_cond = filter_photon_sum(data_p, data_n, data_cond,\n",
    "                                              proton_interval=PROTON_PHOTON_SUM_INTERVAL, neutron_interval=NEUTRON_PHOTON_SUM_INTERVAL)\n",
    "\n",
    "print(\"Proton data: shape:\", data_p.shape,\n",
    "      \"\\nNeutron data: shape:\", data_n.shape,\n",
    "      \"\\nCond data: shape:\", data_cond.shape)"
   ],
   "metadata": {
    "collapsed": false,
    "pycharm": {
     "name": "#%%\n"
    }
   }
  },
  {
   "cell_type": "markdown",
   "source": [
    "## Save filtered data"
   ],
   "metadata": {
    "collapsed": false,
    "pycharm": {
     "name": "#%% md\n"
    }
   }
  },
  {
   "cell_type": "code",
   "execution_count": 38,
   "outputs": [],
   "source": [
    "def get_interval_str(interval1, interval2=None):\n",
    "    \"\"\"\n",
    "    Example input: interval1 = (15, 1195), interval2 = (15, 1614)\n",
    "    Example output: 15_1195_15_1614\n",
    "    \"\"\"\n",
    "    if interval2:\n",
    "        return \"_\".join([str(int(elem)) for elem in interval1]) + \"_\" + \"_\".join([str(int(elem)) for elem in interval2])\n",
    "    return \"_\".join([str(int(elem)) for elem in interval1])"
   ],
   "metadata": {
    "collapsed": false,
    "pycharm": {
     "name": "#%%\n"
    }
   }
  },
  {
   "cell_type": "code",
   "execution_count": 39,
   "outputs": [],
   "source": [
    "# save conditional data\n",
    "data_cond.to_pickle(os.path.join(DATA_DIR,\n",
    "                                 f\"data_cond_photonsum_{get_interval_str(PROTON_PHOTON_SUM_INTERVAL, NEUTRON_PHOTON_SUM_INTERVAL)}.pkl\"))"
   ],
   "metadata": {
    "collapsed": false,
    "pycharm": {
     "name": "#%%\n"
    }
   }
  },
  {
   "cell_type": "code",
   "execution_count": 40,
   "outputs": [],
   "source": [
    "# save proton data\n",
    "with open(os.path.join(DATA_DIR,\n",
    "                       f\"data_proton_photonsum_{get_interval_str(PROTON_PHOTON_SUM_INTERVAL)}.pkl\"), 'wb') as f:\n",
    "    pickle.dump(data_p, f)"
   ],
   "metadata": {
    "collapsed": false,
    "pycharm": {
     "name": "#%%\n"
    }
   }
  },
  {
   "cell_type": "code",
   "execution_count": 27,
   "outputs": [],
   "source": [
    "# save neutron data\n",
    "with open(os.path.join(DATA_DIR,\n",
    "                       f\"data_neutron_photonsum_{get_interval_str(NEUTRON_PHOTON_SUM_INTERVAL)}.pkl\"), 'wb') as f:\n",
    "    pickle.dump(data_n, f)"
   ],
   "metadata": {
    "collapsed": false,
    "pycharm": {
     "name": "#%%\n"
    }
   }
  },
  {
   "cell_type": "markdown",
   "source": [
    "# Image padding\n",
    "\n",
    "Two sizes of images:\n",
    "- 56 x 30\n",
    "- 44 x 44\n",
    "\n",
    "__Goal:__ Add padding to images to transform them to common size: 56 x 44\n",
    "\n",
    "__Approaches:__\n",
    "- add padding around the images (center the content)\n",
    "- add padding to one side of images"
   ],
   "metadata": {
    "collapsed": false,
    "pycharm": {
     "name": "#%% md\n"
    }
   }
  },
  {
   "cell_type": "code",
   "execution_count": 48,
   "outputs": [],
   "source": [
    "from enum import Enum\n",
    "\n",
    "class PaddingMethod(Enum):\n",
    "    CENTER = 0\n",
    "    LEFT_SIDE = 0"
   ],
   "metadata": {
    "collapsed": false,
    "pycharm": {
     "name": "#%%\n"
    }
   }
  },
  {
   "cell_type": "code",
   "execution_count": 49,
   "outputs": [],
   "source": [
    "def add_padding_56_30(image, method: PaddingMethod = PaddingMethod.CENTER.name):\n",
    "    \"\"\"\n",
    "    Transform image of shape(56, 30) into shape(56, 44).\n",
    "    :param method: Method of adding padding\n",
    "    :param image: Image of shape(56, 30)\n",
    "    :returns: Image of shape(56, 44)\n",
    "    \"\"\"\n",
    "    if method == PaddingMethod.CENTER.name:\n",
    "        # Add 7 pixels to the left and right side of image\n",
    "        return np.pad(image,\n",
    "                      pad_width=((0, 0), (7, 7)),\n",
    "                      mode='constant', constant_values=0)\n",
    "\n",
    "\n",
    "def add_padding_44_44(image, method: PaddingMethod = PaddingMethod.CENTER.name):\n",
    "    \"\"\"\n",
    "    Transform image of shape(44, 44) into shape(56, 44).\n",
    "    :param method: Method of adding padding\n",
    "    :param image: Image of shape(44, 44)\n",
    "    :returns: Image of shape(56, 44)\n",
    "    \"\"\"\n",
    "    if method == PaddingMethod.CENTER.name:\n",
    "        # Add 7 pixels to the top and bottom side of image\n",
    "        return np.pad(image,\n",
    "                      pad_width=((6, 6), (0, 0)),\n",
    "                      mode='constant', constant_values=0)"
   ],
   "metadata": {
    "collapsed": false,
    "pycharm": {
     "name": "#%%\n"
    }
   }
  },
  {
   "cell_type": "code",
   "execution_count": 50,
   "outputs": [],
   "source": [
    "padded_p = np.array(list(map(add_padding_56_30, data_p)))"
   ],
   "metadata": {
    "collapsed": false,
    "pycharm": {
     "name": "#%%\n"
    }
   }
  },
  {
   "cell_type": "code",
   "execution_count": 51,
   "outputs": [],
   "source": [
    "padded_n = np.array(list(map(add_padding_44_44, data_n)))"
   ],
   "metadata": {
    "collapsed": false,
    "pycharm": {
     "name": "#%%\n"
    }
   }
  },
  {
   "cell_type": "code",
   "execution_count": 52,
   "outputs": [
    {
     "data": {
      "text/plain": "((32951, 56, 44), (32951, 56, 44))"
     },
     "execution_count": 52,
     "metadata": {},
     "output_type": "execute_result"
    }
   ],
   "source": [
    "padded_p.shape, padded_n.shape"
   ],
   "metadata": {
    "collapsed": false,
    "pycharm": {
     "name": "#%%\n"
    }
   }
  },
  {
   "cell_type": "markdown",
   "source": [
    "## Combine images into two channels\n",
    "\n",
    "Given the padded images, combine them into a single image with 2 channels"
   ],
   "metadata": {
    "collapsed": false,
    "pycharm": {
     "name": "#%% md\n"
    }
   }
  },
  {
   "cell_type": "code",
   "execution_count": 53,
   "outputs": [
    {
     "data": {
      "text/plain": "(32951, 56, 44, 2)"
     },
     "execution_count": 53,
     "metadata": {},
     "output_type": "execute_result"
    }
   ],
   "source": [
    "def combine_into_channels(data_1, data_2):\n",
    "    data = np.zeros(shape=(len(data_1), 56, 44, 2))\n",
    "    data[:, :, :, 0] = data_1\n",
    "    data[:, :, :, 1] = data_2\n",
    "    return data\n",
    "\n",
    "data = combine_into_channels(padded_p, padded_n)\n",
    "data.shape"
   ],
   "metadata": {
    "collapsed": false,
    "pycharm": {
     "name": "#%%\n"
    }
   }
  },
  {
   "cell_type": "markdown",
   "source": [
    "## Plot original and padded images"
   ],
   "metadata": {
    "collapsed": false,
    "pycharm": {
     "name": "#%% md\n"
    }
   }
  },
  {
   "cell_type": "code",
   "execution_count": 54,
   "outputs": [
    {
     "data": {
      "text/plain": "Text(0.5, 1.0, 'Original neutron image 44x44')"
     },
     "execution_count": 54,
     "metadata": {},
     "output_type": "execute_result"
    },
    {
     "data": {
      "text/plain": "<Figure size 640x480 with 2 Axes>",
      "image/png": "[encoded data removed]"
     },
     "metadata": {},
     "output_type": "display_data"
    }
   ],
   "source": [
    "fig, ax = plt.subplots(1, 2)\n",
    "ax[0].imshow(data_p[2], interpolation='none'); ax[0].set_title(\"Original proton image 56x30\")\n",
    "ax[1].imshow(data_n[2], interpolation='none'); ax[1].set_title(\"Original neutron image 44x44\")"
   ],
   "metadata": {
    "collapsed": false,
    "pycharm": {
     "name": "#%%\n"
    }
   }
  },
  {
   "cell_type": "code",
   "execution_count": 55,
   "outputs": [
    {
     "data": {
      "text/plain": "Text(0.5, 1.0, 'Neutron image with padding 56x44')"
     },
     "execution_count": 55,
     "metadata": {},
     "output_type": "execute_result"
    },
    {
     "data": {
      "text/plain": "<Figure size 640x480 with 2 Axes>",
      "image/png": "[encoded data removed]"
     },
     "metadata": {},
     "output_type": "display_data"
    }
   ],
   "source": [
    "fig, ax = plt.subplots(1, 2)\n",
    "ax[0].imshow(padded_p[2], interpolation='none'); ax[0].set_title(\"Proton image with padding 56x44\")\n",
    "ax[1].imshow(padded_n[2], interpolation='none'); ax[1].set_title(\"Neutron image with padding 56x44\")"
   ],
   "metadata": {
    "collapsed": false,
    "pycharm": {
     "name": "#%%\n"
    }
   }
  },
  {
   "cell_type": "markdown",
   "source": [
    "## Save files"
   ],
   "metadata": {
    "collapsed": false,
    "pycharm": {
     "name": "#%% md\n"
    }
   }
  },
  {
   "cell_type": "code",
   "execution_count": 56,
   "outputs": [],
   "source": [
    "# save conditional data\n",
    "data_cond.to_pickle(os.path.join(DATA_DIR,\n",
    "                                 f\"data_cond_photonsum_{get_interval_str(PROTON_PHOTON_SUM_INTERVAL, NEUTRON_PHOTON_SUM_INTERVAL)}.pkl\"))"
   ],
   "metadata": {
    "collapsed": false,
    "pycharm": {
     "name": "#%%\n"
    }
   }
  },
  {
   "cell_type": "markdown",
   "source": [
    "### Combined data into 2 channels"
   ],
   "metadata": {
    "collapsed": false,
    "pycharm": {
     "name": "#%% md\n"
    }
   }
  },
  {
   "cell_type": "code",
   "execution_count": 59,
   "outputs": [],
   "source": [
    "# save proton and neutron data combined into 2 channels\n",
    "\n",
    "proton_interval = get_interval_str(PROTON_PHOTON_SUM_INTERVAL)\n",
    "neutron_interval = get_interval_str(NEUTRON_PHOTON_SUM_INTERVAL)\n",
    "\n",
    "with open(os.path.join(DATA_DIR,\n",
    "                       f\"data_proton_{proton_interval}_neutron_{neutron_interval}_padded.pkl\"), 'wb') as f:\n",
    "    pickle.dump(data, f)"
   ],
   "metadata": {
    "collapsed": false,
    "pycharm": {
     "name": "#%%\n"
    }
   }
  },
  {
   "cell_type": "markdown",
   "source": [
    "### Padded data"
   ],
   "metadata": {
    "collapsed": false,
    "pycharm": {
     "name": "#%% md\n"
    }
   }
  },
  {
   "cell_type": "code",
   "execution_count": null,
   "outputs": [],
   "source": [
    "# save proton padded data\n",
    "with open(os.path.join(DATA_DIR,\n",
    "                       f\"data_proton_{get_interval_str(PROTON_PHOTON_SUM_INTERVAL)}_padded.pkl\"), 'wb') as f:\n",
    "    pickle.dump(padded_p, f)"
   ],
   "metadata": {
    "collapsed": false,
    "pycharm": {
     "name": "#%%\n"
    }
   }
  },
  {
   "cell_type": "code",
   "execution_count": null,
   "outputs": [],
   "source": [
    "# save neutron padded data\n",
    "with open(os.path.join(DATA_DIR,\n",
    "                       f\"data_neutron_{get_interval_str(NEUTRON_PHOTON_SUM_INTERVAL)}_padded.pkl\"), 'wb') as f:\n",
    "    pickle.dump(padded_n, f)"
   ],
   "metadata": {
    "collapsed": false,
    "pycharm": {
     "name": "#%%\n"
    }
   }
  }
 ],
 "metadata": {
  "kernelspec": {
   "display_name": "Python 3",
   "language": "python",
   "name": "python3"
  },
  "language_info": {
   "codemirror_mode": {
    "name": "ipython",
    "version": 2
   },
   "file_extension": ".py",
   "mimetype": "text/x-python",
   "name": "python",
   "nbconvert_exporter": "python",
   "pygments_lexer": "ipython2",
   "version": "2.7.6"
  }
 },
 "nbformat": 4,
 "nbformat_minor": 0
}