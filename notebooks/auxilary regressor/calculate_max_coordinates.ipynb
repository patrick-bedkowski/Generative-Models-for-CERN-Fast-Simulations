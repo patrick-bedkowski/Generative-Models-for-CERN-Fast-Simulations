{
 "cells": [
  {
   "cell_type": "code",
   "execution_count": 3,
   "outputs": [],
   "source": [
    "%load_ext autoreload\n",
    "%autoreload 2"
   ],
   "metadata": {
    "collapsed": false,
    "pycharm": {
     "name": "#%%\n"
    }
   }
  },
  {
   "cell_type": "code",
   "execution_count": 4,
   "outputs": [
    {
     "name": "stdout",
     "output_type": "stream",
     "text": [
      "[PhysicalDevice(name='/physical_device:GPU:0', device_type='GPU')]\n"
     ]
    }
   ],
   "source": [
    "import pandas as pd\n",
    "import tensorflow as tf\n",
    "import numpy as np\n",
    "import matplotlib.pyplot as plt\n",
    "import seaborn as sns\n",
    "from sklearn import datasets, linear_model, decomposition, manifold, preprocessing\n",
    "from sklearn.metrics import mean_squared_error, r2_score\n",
    "from sklearn.discriminant_analysis import LinearDiscriminantAnalysis\n",
    "from sklearn.ensemble import RandomForestClassifier\n",
    "from sklearn.feature_selection import RFE\n",
    "from sklearn.metrics import precision_recall_curve, roc_curve, auc, accuracy_score, confusion_matrix\n",
    "from sklearn.model_selection import StratifiedKFold, KFold, train_test_split\n",
    "from sklearn.preprocessing import StandardScaler\n",
    "from scipy.stats import wasserstein_distance\n",
    "import pickle\n",
    "import time\n",
    "import os\n",
    "import pandas as pd\n",
    "from sklearn.metrics import mean_absolute_error\n",
    "from utils.utils import get_max_value_image_coordinates\n",
    "\n",
    "import tensorflow as tf; print(tf.config.list_physical_devices('GPU'))\n",
    "os.environ[\"CUDA_VISIBLE_DEVICES\"]=\"1\"\n",
    "\n",
    "sns.set_theme()"
   ],
   "metadata": {
    "collapsed": false,
    "pycharm": {
     "name": "#%%\n"
    }
   }
  },
  {
   "cell_type": "markdown",
   "source": [
    "# Proton data"
   ],
   "metadata": {
    "collapsed": false,
    "pycharm": {
     "name": "#%% md\n"
    }
   }
  },
  {
   "cell_type": "code",
   "execution_count": 3,
   "outputs": [],
   "source": [
    "data = pd.read_pickle('../../data/data_proton_photonsum_proton_1_2312.pkl')"
   ],
   "metadata": {
    "collapsed": false,
    "pycharm": {
     "name": "#%%\n"
    }
   }
  },
  {
   "cell_type": "code",
   "execution_count": 4,
   "outputs": [],
   "source": [
    "positions = []\n",
    "for img in data:\n",
    "    coordinates_max = get_max_value_image_coordinates(img)\n",
    "    positions.append(coordinates_max)"
   ],
   "metadata": {
    "collapsed": false,
    "pycharm": {
     "name": "#%%\n"
    }
   }
  },
  {
   "cell_type": "code",
   "execution_count": 5,
   "outputs": [],
   "source": [
    "coordinates_df = pd.DataFrame(data=positions, columns=('max_x', 'max_y'))"
   ],
   "metadata": {
    "collapsed": false,
    "pycharm": {
     "name": "#%%\n"
    }
   }
  },
  {
   "cell_type": "code",
   "execution_count": 6,
   "outputs": [
    {
     "data": {
      "text/plain": "   max_x  max_y\n0     11     20\n1     37      2\n2     12     13\n3     17      0\n4     12     28",
      "text/html": "<div>\n<style scoped>\n    .dataframe tbody tr th:only-of-type {\n        vertical-align: middle;\n    }\n\n    .dataframe tbody tr th {\n        vertical-align: top;\n    }\n\n    .dataframe thead th {\n        text-align: right;\n    }\n</style>\n<table border=\"1\" class=\"dataframe\">\n  <thead>\n    <tr style=\"text-align: right;\">\n      <th></th>\n      <th>max_x</th>\n      <th>max_y</th>\n    </tr>\n  </thead>\n  <tbody>\n    <tr>\n      <th>0</th>\n      <td>11</td>\n      <td>20</td>\n    </tr>\n    <tr>\n      <th>1</th>\n      <td>37</td>\n      <td>2</td>\n    </tr>\n    <tr>\n      <th>2</th>\n      <td>12</td>\n      <td>13</td>\n    </tr>\n    <tr>\n      <th>3</th>\n      <td>17</td>\n      <td>0</td>\n    </tr>\n    <tr>\n      <th>4</th>\n      <td>12</td>\n      <td>28</td>\n    </tr>\n  </tbody>\n</table>\n</div>"
     },
     "execution_count": 6,
     "metadata": {},
     "output_type": "execute_result"
    }
   ],
   "source": [
    "coordinates_df.head()"
   ],
   "metadata": {
    "collapsed": false,
    "pycharm": {
     "name": "#%%\n"
    }
   }
  },
  {
   "cell_type": "code",
   "execution_count": 7,
   "outputs": [],
   "source": [
    "coordinates_df.to_pickle('../../data/data_coord_proton_photonsum_proton_1_2312.pkl')"
   ],
   "metadata": {
    "collapsed": false,
    "pycharm": {
     "name": "#%%\n"
    }
   }
  },
  {
   "cell_type": "markdown",
   "source": [
    "# Padded version of dataset"
   ],
   "metadata": {
    "collapsed": false,
    "pycharm": {
     "name": "#%% md\n"
    }
   }
  },
  {
   "cell_type": "code",
   "execution_count": 5,
   "outputs": [],
   "source": [
    "def get_max_value_image_coordinates_padded(img):\n",
    "    \"\"\"\n",
    "    :param img: Input image of any shape\n",
    "    :return: Tuple with (X, Y) coordinates\n",
    "    \"\"\"\n",
    "    data_proton = img[:, :, 0]\n",
    "    data_neutron = img[:, :, 1]\n",
    "    return np.unravel_index(np.argmax(data_proton), data_proton.shape), np.unravel_index(np.argmax(data_neutron), data_neutron.shape)"
   ],
   "metadata": {
    "collapsed": false,
    "pycharm": {
     "name": "#%%\n"
    }
   }
  },
  {
   "cell_type": "code",
   "execution_count": 6,
   "outputs": [
    {
     "name": "stdout",
     "output_type": "stream",
     "text": [
      "Loaded:  (38348, 56, 44, 2) max: 603.0\n"
     ]
    }
   ],
   "source": [
    "data = pd.read_pickle('../../data/data_proton_neutron_photonsum_proton_18_1970_neutron_18_3249_padding.pkl')\n",
    "print('Loaded: ',  data.shape, \"max:\", data.max())"
   ],
   "metadata": {
    "collapsed": false,
    "pycharm": {
     "name": "#%%\n"
    }
   }
  },
  {
   "cell_type": "code",
   "execution_count": 7,
   "outputs": [],
   "source": [
    "positions_p = []\n",
    "positions_n = []\n",
    "for img in data:\n",
    "    coordinates_proton, coordinates_proton = get_max_value_image_coordinates_padded(img)\n",
    "    positions_p.append(coordinates_proton)\n",
    "    positions_n.append(coordinates_proton)"
   ],
   "metadata": {
    "collapsed": false,
    "pycharm": {
     "name": "#%%\n"
    }
   }
  },
  {
   "cell_type": "code",
   "execution_count": 8,
   "outputs": [],
   "source": [
    "concatenation_coordinates = np.concatenate([positions_p, positions_n], axis=1)"
   ],
   "metadata": {
    "collapsed": false,
    "pycharm": {
     "name": "#%%\n"
    }
   }
  },
  {
   "cell_type": "code",
   "execution_count": 9,
   "outputs": [
    {
     "data": {
      "text/plain": "       max_x_proton  max_y_proton  max_x_neutron  max_y_neutron\n0                43            16             43             16\n1                35            32             35             32\n2                48            25             48             25\n3                46            27             46             27\n4                44            27             44             27\n...             ...           ...            ...            ...\n38343            41            26             41             26\n38344            27            27             27             27\n38345            49            19             49             19\n38346            19            42             19             42\n38347            41            17             41             17\n\n[38348 rows x 4 columns]",
      "text/html": "<div>\n<style scoped>\n    .dataframe tbody tr th:only-of-type {\n        vertical-align: middle;\n    }\n\n    .dataframe tbody tr th {\n        vertical-align: top;\n    }\n\n    .dataframe thead th {\n        text-align: right;\n    }\n</style>\n<table border=\"1\" class=\"dataframe\">\n  <thead>\n    <tr style=\"text-align: right;\">\n      <th></th>\n      <th>max_x_proton</th>\n      <th>max_y_proton</th>\n      <th>max_x_neutron</th>\n      <th>max_y_neutron</th>\n    </tr>\n  </thead>\n  <tbody>\n    <tr>\n      <th>0</th>\n      <td>43</td>\n      <td>16</td>\n      <td>43</td>\n      <td>16</td>\n    </tr>\n    <tr>\n      <th>1</th>\n      <td>35</td>\n      <td>32</td>\n      <td>35</td>\n      <td>32</td>\n    </tr>\n    <tr>\n      <th>2</th>\n      <td>48</td>\n      <td>25</td>\n      <td>48</td>\n      <td>25</td>\n    </tr>\n    <tr>\n      <th>3</th>\n      <td>46</td>\n      <td>27</td>\n      <td>46</td>\n      <td>27</td>\n    </tr>\n    <tr>\n      <th>4</th>\n      <td>44</td>\n      <td>27</td>\n      <td>44</td>\n      <td>27</td>\n    </tr>\n    <tr>\n      <th>...</th>\n      <td>...</td>\n      <td>...</td>\n      <td>...</td>\n      <td>...</td>\n    </tr>\n    <tr>\n      <th>38343</th>\n      <td>41</td>\n      <td>26</td>\n      <td>41</td>\n      <td>26</td>\n    </tr>\n    <tr>\n      <th>38344</th>\n      <td>27</td>\n      <td>27</td>\n      <td>27</td>\n      <td>27</td>\n    </tr>\n    <tr>\n      <th>38345</th>\n      <td>49</td>\n      <td>19</td>\n      <td>49</td>\n      <td>19</td>\n    </tr>\n    <tr>\n      <th>38346</th>\n      <td>19</td>\n      <td>42</td>\n      <td>19</td>\n      <td>42</td>\n    </tr>\n    <tr>\n      <th>38347</th>\n      <td>41</td>\n      <td>17</td>\n      <td>41</td>\n      <td>17</td>\n    </tr>\n  </tbody>\n</table>\n<p>38348 rows × 4 columns</p>\n</div>"
     },
     "execution_count": 9,
     "metadata": {},
     "output_type": "execute_result"
    }
   ],
   "source": [
    "coordinates_df = pd.DataFrame(data=concatenation_coordinates, columns=('max_x_proton', 'max_y_proton', 'max_x_neutron', 'max_y_neutron'))\n",
    "coordinates_df"
   ],
   "metadata": {
    "collapsed": false,
    "pycharm": {
     "name": "#%%\n"
    }
   }
  },
  {
   "cell_type": "code",
   "execution_count": 10,
   "outputs": [],
   "source": [
    "coordinates_df.to_pickle('../../data/data_coord_proton_neutron_photonsum_18.pkl')"
   ],
   "metadata": {
    "collapsed": false,
    "pycharm": {
     "name": "#%%\n"
    }
   }
  }
 ],
 "metadata": {
  "kernelspec": {
   "display_name": "Python 3",
   "language": "python",
   "name": "python3"
  },
  "language_info": {
   "codemirror_mode": {
    "name": "ipython",
    "version": 2
   },
   "file_extension": ".py",
   "mimetype": "text/x-python",
   "name": "python",
   "nbconvert_exporter": "python",
   "pygments_lexer": "ipython2",
   "version": "2.7.6"
  }
 },
 "nbformat": 4,
 "nbformat_minor": 0
}