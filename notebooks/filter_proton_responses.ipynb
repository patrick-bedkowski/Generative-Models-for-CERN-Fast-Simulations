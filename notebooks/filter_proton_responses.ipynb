{
 "cells": [
  {
   "cell_type": "code",
   "execution_count": null,
   "metadata": {
    "pycharm": {
     "name": "#%%\n",
     "is_executing": true
    },
    "tags": []
   },
   "outputs": [],
   "source": [
    "import pandas as pd\n",
    "import numpy as np\n",
    "import pickle\n",
    "import os"
   ]
  },
  {
   "cell_type": "code",
   "execution_count": 2,
   "metadata": {
    "pycharm": {
     "name": "#%%\n"
    }
   },
   "outputs": [],
   "source": [
    "DATA_DIR = \"../data/\""
   ]
  },
  {
   "cell_type": "code",
   "execution_count": 6,
   "metadata": {
    "collapsed": false,
    "jupyter": {
     "outputs_hidden": false
    },
    "pycharm": {
     "name": "#%%\n"
    }
   },
   "outputs": [],
   "source": [
    "def load_proton_a_images(n=None):\n",
    "    data_a = pd.read_pickle(os.path.join(DATA_DIR, \"proton_images2a.pkl\"))\n",
    "    data_b = pd.read_pickle(os.path.join(DATA_DIR, \"proton_images2b.pkl\"))\n",
    "    data_c = pd.read_pickle(os.path.join(DATA_DIR, \"proton_images2c.pkl\"))\n",
    "    return np.r_[data_a, data_b, data_c][:n]\n",
    "\n",
    "def load_particle_data_a(n=None):\n",
    "    data_a = pd.read_pickle(os.path.join(DATA_DIR, \"particles_cond_with_mass2a.pkl\"))\n",
    "    data_b = pd.read_pickle(os.path.join(DATA_DIR, \"particles_cond_with_mass2b.pkl\"))\n",
    "    data_c = pd.read_pickle(os.path.join(DATA_DIR, \"particles_cond_with_mass2c.pkl\"))\n",
    "    return pd.concat([data_a, data_b, data_c], axis=0)[:n]"
   ]
  },
  {
   "cell_type": "code",
   "execution_count": 32,
   "metadata": {
    "collapsed": false,
    "jupyter": {
     "outputs_hidden": false
    },
    "pycharm": {
     "name": "#%%\n"
    }
   },
   "outputs": [
    {
     "name": "stdout",
     "output_type": "stream",
     "text": [
      "Loaded cond:  (511810, 13)\n"
     ]
    }
   ],
   "source": [
    "N_SAMPLES_T0_LOAD = None\n",
    "\n",
    "data_p = load_proton_a_images(N_SAMPLES_T0_LOAD)\n",
    "print('Loaded Proton: ',  data_p.shape)\n",
    "\n",
    "data_cond = load_particle_data_a(N_SAMPLES_T0_LOAD)\n",
    "print('Loaded cond: ',  data_cond.shape)"
   ]
  },
  {
   "cell_type": "markdown",
   "metadata": {
    "pycharm": {
     "name": "#%% md\n"
    }
   },
   "source": [
    "## Calculate Proton Photon Sum"
   ]
  },
  {
   "cell_type": "code",
   "execution_count": 30,
   "metadata": {
    "collapsed": false,
    "jupyter": {
     "outputs_hidden": false
    },
    "pycharm": {
     "name": "#%%\n"
    }
   },
   "outputs": [
    {
     "ename": "ValueError",
     "evalue": "No axis named (1, 2) for object type DataFrame",
     "output_type": "error",
     "traceback": [
      "\u001B[1;31m---------------------------------------------------------------------------\u001B[0m",
      "\u001B[1;31mKeyError\u001B[0m                                  Traceback (most recent call last)",
      "File \u001B[1;32m~\\.conda\\envs\\tf\\lib\\site-packages\\pandas\\core\\generic.py:554\u001B[0m, in \u001B[0;36mNDFrame._get_axis_number\u001B[1;34m(cls, axis)\u001B[0m\n\u001B[0;32m    553\u001B[0m \u001B[38;5;28;01mtry\u001B[39;00m:\n\u001B[1;32m--> 554\u001B[0m     \u001B[38;5;28;01mreturn\u001B[39;00m \u001B[38;5;28;43mcls\u001B[39;49m\u001B[38;5;241;43m.\u001B[39;49m\u001B[43m_AXIS_TO_AXIS_NUMBER\u001B[49m\u001B[43m[\u001B[49m\u001B[43maxis\u001B[49m\u001B[43m]\u001B[49m\n\u001B[0;32m    555\u001B[0m \u001B[38;5;28;01mexcept\u001B[39;00m \u001B[38;5;167;01mKeyError\u001B[39;00m:\n",
      "\u001B[1;31mKeyError\u001B[0m: (1, 2)",
      "\nDuring handling of the above exception, another exception occurred:\n",
      "\u001B[1;31mValueError\u001B[0m                                Traceback (most recent call last)",
      "Cell \u001B[1;32mIn[30], line 1\u001B[0m\n\u001B[1;32m----> 1\u001B[0m data_cond[\u001B[38;5;124m'\u001B[39m\u001B[38;5;124mproton_photon_sum\u001B[39m\u001B[38;5;124m'\u001B[39m] \u001B[38;5;241m=\u001B[39m \u001B[43mnp\u001B[49m\u001B[38;5;241;43m.\u001B[39;49m\u001B[43msum\u001B[49m\u001B[43m(\u001B[49m\u001B[43mdata_p\u001B[49m\u001B[43m,\u001B[49m\u001B[43m \u001B[49m\u001B[43maxis\u001B[49m\u001B[38;5;241;43m=\u001B[39;49m\u001B[43m(\u001B[49m\u001B[38;5;241;43m1\u001B[39;49m\u001B[43m,\u001B[49m\u001B[38;5;241;43m2\u001B[39;49m\u001B[43m)\u001B[49m\u001B[43m)\u001B[49m\n",
      "File \u001B[1;32m<__array_function__ internals>:180\u001B[0m, in \u001B[0;36msum\u001B[1;34m(*args, **kwargs)\u001B[0m\n",
      "File \u001B[1;32m~\\.conda\\envs\\tf\\lib\\site-packages\\numpy\\core\\fromnumeric.py:2298\u001B[0m, in \u001B[0;36msum\u001B[1;34m(a, axis, dtype, out, keepdims, initial, where)\u001B[0m\n\u001B[0;32m   2295\u001B[0m         \u001B[38;5;28;01mreturn\u001B[39;00m out\n\u001B[0;32m   2296\u001B[0m     \u001B[38;5;28;01mreturn\u001B[39;00m res\n\u001B[1;32m-> 2298\u001B[0m \u001B[38;5;28;01mreturn\u001B[39;00m \u001B[43m_wrapreduction\u001B[49m\u001B[43m(\u001B[49m\u001B[43ma\u001B[49m\u001B[43m,\u001B[49m\u001B[43m \u001B[49m\u001B[43mnp\u001B[49m\u001B[38;5;241;43m.\u001B[39;49m\u001B[43madd\u001B[49m\u001B[43m,\u001B[49m\u001B[43m \u001B[49m\u001B[38;5;124;43m'\u001B[39;49m\u001B[38;5;124;43msum\u001B[39;49m\u001B[38;5;124;43m'\u001B[39;49m\u001B[43m,\u001B[49m\u001B[43m \u001B[49m\u001B[43maxis\u001B[49m\u001B[43m,\u001B[49m\u001B[43m \u001B[49m\u001B[43mdtype\u001B[49m\u001B[43m,\u001B[49m\u001B[43m \u001B[49m\u001B[43mout\u001B[49m\u001B[43m,\u001B[49m\u001B[43m \u001B[49m\u001B[43mkeepdims\u001B[49m\u001B[38;5;241;43m=\u001B[39;49m\u001B[43mkeepdims\u001B[49m\u001B[43m,\u001B[49m\n\u001B[0;32m   2299\u001B[0m \u001B[43m                      \u001B[49m\u001B[43minitial\u001B[49m\u001B[38;5;241;43m=\u001B[39;49m\u001B[43minitial\u001B[49m\u001B[43m,\u001B[49m\u001B[43m \u001B[49m\u001B[43mwhere\u001B[49m\u001B[38;5;241;43m=\u001B[39;49m\u001B[43mwhere\u001B[49m\u001B[43m)\u001B[49m\n",
      "File \u001B[1;32m~\\.conda\\envs\\tf\\lib\\site-packages\\numpy\\core\\fromnumeric.py:84\u001B[0m, in \u001B[0;36m_wrapreduction\u001B[1;34m(obj, ufunc, method, axis, dtype, out, **kwargs)\u001B[0m\n\u001B[0;32m     82\u001B[0m             \u001B[38;5;28;01mreturn\u001B[39;00m reduction(axis\u001B[38;5;241m=\u001B[39maxis, dtype\u001B[38;5;241m=\u001B[39mdtype, out\u001B[38;5;241m=\u001B[39mout, \u001B[38;5;241m*\u001B[39m\u001B[38;5;241m*\u001B[39mpasskwargs)\n\u001B[0;32m     83\u001B[0m         \u001B[38;5;28;01melse\u001B[39;00m:\n\u001B[1;32m---> 84\u001B[0m             \u001B[38;5;28;01mreturn\u001B[39;00m reduction(axis\u001B[38;5;241m=\u001B[39maxis, out\u001B[38;5;241m=\u001B[39mout, \u001B[38;5;241m*\u001B[39m\u001B[38;5;241m*\u001B[39mpasskwargs)\n\u001B[0;32m     86\u001B[0m \u001B[38;5;28;01mreturn\u001B[39;00m ufunc\u001B[38;5;241m.\u001B[39mreduce(obj, axis, dtype, out, \u001B[38;5;241m*\u001B[39m\u001B[38;5;241m*\u001B[39mpasskwargs)\n",
      "File \u001B[1;32m~\\.conda\\envs\\tf\\lib\\site-packages\\pandas\\core\\generic.py:11797\u001B[0m, in \u001B[0;36mNDFrame._add_numeric_operations.<locals>.sum\u001B[1;34m(self, axis, skipna, level, numeric_only, min_count, **kwargs)\u001B[0m\n\u001B[0;32m  11777\u001B[0m \u001B[38;5;129m@doc\u001B[39m(\n\u001B[0;32m  11778\u001B[0m     _num_doc,\n\u001B[0;32m  11779\u001B[0m     desc\u001B[38;5;241m=\u001B[39m\u001B[38;5;124m\"\u001B[39m\u001B[38;5;124mReturn the sum of the values over the requested axis.\u001B[39m\u001B[38;5;130;01m\\n\u001B[39;00m\u001B[38;5;130;01m\\n\u001B[39;00m\u001B[38;5;124m\"\u001B[39m\n\u001B[1;32m   (...)\u001B[0m\n\u001B[0;32m  11795\u001B[0m     \u001B[38;5;241m*\u001B[39m\u001B[38;5;241m*\u001B[39mkwargs,\n\u001B[0;32m  11796\u001B[0m ):\n\u001B[1;32m> 11797\u001B[0m     \u001B[38;5;28;01mreturn\u001B[39;00m NDFrame\u001B[38;5;241m.\u001B[39msum(\n\u001B[0;32m  11798\u001B[0m         \u001B[38;5;28mself\u001B[39m, axis, skipna, level, numeric_only, min_count, \u001B[38;5;241m*\u001B[39m\u001B[38;5;241m*\u001B[39mkwargs\n\u001B[0;32m  11799\u001B[0m     )\n",
      "File \u001B[1;32m~\\.conda\\envs\\tf\\lib\\site-packages\\pandas\\core\\generic.py:11501\u001B[0m, in \u001B[0;36mNDFrame.sum\u001B[1;34m(self, axis, skipna, level, numeric_only, min_count, **kwargs)\u001B[0m\n\u001B[0;32m  11492\u001B[0m \u001B[38;5;28;01mdef\u001B[39;00m \u001B[38;5;21msum\u001B[39m(\n\u001B[0;32m  11493\u001B[0m     \u001B[38;5;28mself\u001B[39m,\n\u001B[0;32m  11494\u001B[0m     axis: Axis \u001B[38;5;241m|\u001B[39m \u001B[38;5;28;01mNone\u001B[39;00m \u001B[38;5;241m=\u001B[39m \u001B[38;5;28;01mNone\u001B[39;00m,\n\u001B[1;32m   (...)\u001B[0m\n\u001B[0;32m  11499\u001B[0m     \u001B[38;5;241m*\u001B[39m\u001B[38;5;241m*\u001B[39mkwargs,\n\u001B[0;32m  11500\u001B[0m ):\n\u001B[1;32m> 11501\u001B[0m     \u001B[38;5;28;01mreturn\u001B[39;00m \u001B[38;5;28mself\u001B[39m\u001B[38;5;241m.\u001B[39m_min_count_stat_function(\n\u001B[0;32m  11502\u001B[0m         \u001B[38;5;124m\"\u001B[39m\u001B[38;5;124msum\u001B[39m\u001B[38;5;124m\"\u001B[39m, nanops\u001B[38;5;241m.\u001B[39mnansum, axis, skipna, level, numeric_only, min_count, \u001B[38;5;241m*\u001B[39m\u001B[38;5;241m*\u001B[39mkwargs\n\u001B[0;32m  11503\u001B[0m     )\n",
      "File \u001B[1;32m~\\.conda\\envs\\tf\\lib\\site-packages\\pandas\\core\\generic.py:11483\u001B[0m, in \u001B[0;36mNDFrame._min_count_stat_function\u001B[1;34m(self, name, func, axis, skipna, level, numeric_only, min_count, **kwargs)\u001B[0m\n\u001B[0;32m  11467\u001B[0m     warnings\u001B[38;5;241m.\u001B[39mwarn(\n\u001B[0;32m  11468\u001B[0m         \u001B[38;5;124m\"\u001B[39m\u001B[38;5;124mUsing the level keyword in DataFrame and Series aggregations is \u001B[39m\u001B[38;5;124m\"\u001B[39m\n\u001B[0;32m  11469\u001B[0m         \u001B[38;5;124m\"\u001B[39m\u001B[38;5;124mdeprecated and will be removed in a future version. Use groupby \u001B[39m\u001B[38;5;124m\"\u001B[39m\n\u001B[1;32m   (...)\u001B[0m\n\u001B[0;32m  11472\u001B[0m         stacklevel\u001B[38;5;241m=\u001B[39mfind_stack_level(),\n\u001B[0;32m  11473\u001B[0m     )\n\u001B[0;32m  11474\u001B[0m     \u001B[38;5;28;01mreturn\u001B[39;00m \u001B[38;5;28mself\u001B[39m\u001B[38;5;241m.\u001B[39m_agg_by_level(\n\u001B[0;32m  11475\u001B[0m         name,\n\u001B[0;32m  11476\u001B[0m         axis\u001B[38;5;241m=\u001B[39maxis,\n\u001B[1;32m   (...)\u001B[0m\n\u001B[0;32m  11480\u001B[0m         numeric_only\u001B[38;5;241m=\u001B[39mnumeric_only,\n\u001B[0;32m  11481\u001B[0m     )\n\u001B[1;32m> 11483\u001B[0m \u001B[38;5;28;01mreturn\u001B[39;00m \u001B[38;5;28;43mself\u001B[39;49m\u001B[38;5;241;43m.\u001B[39;49m\u001B[43m_reduce\u001B[49m\u001B[43m(\u001B[49m\n\u001B[0;32m  11484\u001B[0m \u001B[43m    \u001B[49m\u001B[43mfunc\u001B[49m\u001B[43m,\u001B[49m\n\u001B[0;32m  11485\u001B[0m \u001B[43m    \u001B[49m\u001B[43mname\u001B[49m\u001B[38;5;241;43m=\u001B[39;49m\u001B[43mname\u001B[49m\u001B[43m,\u001B[49m\n\u001B[0;32m  11486\u001B[0m \u001B[43m    \u001B[49m\u001B[43maxis\u001B[49m\u001B[38;5;241;43m=\u001B[39;49m\u001B[43maxis\u001B[49m\u001B[43m,\u001B[49m\n\u001B[0;32m  11487\u001B[0m \u001B[43m    \u001B[49m\u001B[43mskipna\u001B[49m\u001B[38;5;241;43m=\u001B[39;49m\u001B[43mskipna\u001B[49m\u001B[43m,\u001B[49m\n\u001B[0;32m  11488\u001B[0m \u001B[43m    \u001B[49m\u001B[43mnumeric_only\u001B[49m\u001B[38;5;241;43m=\u001B[39;49m\u001B[43mnumeric_only\u001B[49m\u001B[43m,\u001B[49m\n\u001B[0;32m  11489\u001B[0m \u001B[43m    \u001B[49m\u001B[43mmin_count\u001B[49m\u001B[38;5;241;43m=\u001B[39;49m\u001B[43mmin_count\u001B[49m\u001B[43m,\u001B[49m\n\u001B[0;32m  11490\u001B[0m \u001B[43m\u001B[49m\u001B[43m)\u001B[49m\n",
      "File \u001B[1;32m~\\.conda\\envs\\tf\\lib\\site-packages\\pandas\\core\\frame.py:10811\u001B[0m, in \u001B[0;36mDataFrame._reduce\u001B[1;34m(self, op, name, axis, skipna, numeric_only, filter_type, **kwds)\u001B[0m\n\u001B[0;32m  10808\u001B[0m         \u001B[38;5;28mself\u001B[39m \u001B[38;5;241m=\u001B[39m \u001B[38;5;28mtype\u001B[39m(\u001B[38;5;28mself\u001B[39m)(mgr)\n\u001B[0;32m  10810\u001B[0m \u001B[38;5;66;03m# TODO: Make other agg func handle axis=None properly GH#21597\u001B[39;00m\n\u001B[1;32m> 10811\u001B[0m axis \u001B[38;5;241m=\u001B[39m \u001B[38;5;28;43mself\u001B[39;49m\u001B[38;5;241;43m.\u001B[39;49m\u001B[43m_get_axis_number\u001B[49m\u001B[43m(\u001B[49m\u001B[43maxis\u001B[49m\u001B[43m)\u001B[49m\n\u001B[0;32m  10812\u001B[0m labels \u001B[38;5;241m=\u001B[39m \u001B[38;5;28mself\u001B[39m\u001B[38;5;241m.\u001B[39m_get_agg_axis(axis)\n\u001B[0;32m  10813\u001B[0m \u001B[38;5;28;01massert\u001B[39;00m axis \u001B[38;5;129;01min\u001B[39;00m [\u001B[38;5;241m0\u001B[39m, \u001B[38;5;241m1\u001B[39m]\n",
      "File \u001B[1;32m~\\.conda\\envs\\tf\\lib\\site-packages\\pandas\\core\\generic.py:556\u001B[0m, in \u001B[0;36mNDFrame._get_axis_number\u001B[1;34m(cls, axis)\u001B[0m\n\u001B[0;32m    554\u001B[0m     \u001B[38;5;28;01mreturn\u001B[39;00m \u001B[38;5;28mcls\u001B[39m\u001B[38;5;241m.\u001B[39m_AXIS_TO_AXIS_NUMBER[axis]\n\u001B[0;32m    555\u001B[0m \u001B[38;5;28;01mexcept\u001B[39;00m \u001B[38;5;167;01mKeyError\u001B[39;00m:\n\u001B[1;32m--> 556\u001B[0m     \u001B[38;5;28;01mraise\u001B[39;00m \u001B[38;5;167;01mValueError\u001B[39;00m(\u001B[38;5;124mf\u001B[39m\u001B[38;5;124m\"\u001B[39m\u001B[38;5;124mNo axis named \u001B[39m\u001B[38;5;132;01m{\u001B[39;00maxis\u001B[38;5;132;01m}\u001B[39;00m\u001B[38;5;124m for object type \u001B[39m\u001B[38;5;132;01m{\u001B[39;00m\u001B[38;5;28mcls\u001B[39m\u001B[38;5;241m.\u001B[39m\u001B[38;5;18m__name__\u001B[39m\u001B[38;5;132;01m}\u001B[39;00m\u001B[38;5;124m\"\u001B[39m)\n",
      "\u001B[1;31mValueError\u001B[0m: No axis named (1, 2) for object type DataFrame"
     ]
    }
   ],
   "source": [
    "data_cond['proton_photon_sum'] = np.sum(data_p, axis=(1,2))"
   ]
  },
  {
   "cell_type": "code",
   "execution_count": 33,
   "metadata": {
    "collapsed": false,
    "jupyter": {
     "outputs_hidden": false
    },
    "pycharm": {
     "name": "#%%\n"
    }
   },
   "outputs": [
    {
     "data": {
      "text/plain": "   Unnamed: 0   Pdg    Energy            Vx            Vy        Vz        Px  \\\n0           0    22   513.318  1.454300e-08  3.650510e-08 -0.002731  0.035456   \n1           1    22  1304.340 -1.831820e-05  1.555780e-05  0.050293 -0.509192   \n2           2    22  1014.720 -1.831820e-05  1.555780e-05  0.050293 -0.335473   \n3           3  -211   325.158  0.000000e+00  0.000000e+00  0.000000  0.269915   \n4           4  2112  3192.380  0.000000e+00  0.000000e+00  0.000000  0.022422   \n\n         Py        Pz  neutron_photon_sum        mass  charge  \\\n0 -0.051821  -513.318               291.0    0.000000     0.0   \n1  0.461106  1304.340                 8.0    0.000000     0.0   \n2  0.256277  1014.720               130.0    0.000000     0.0   \n3 -0.081921   325.157                 0.0  139.570610    -1.0   \n4 -0.182957 -3192.380              1256.0  939.565413     0.0   \n\n   proton_photon_sum  \n0                0.0  \n1                9.0  \n2                0.0  \n3                5.0  \n4               16.0  ",
      "text/html": "<div>\n<style scoped>\n    .dataframe tbody tr th:only-of-type {\n        vertical-align: middle;\n    }\n\n    .dataframe tbody tr th {\n        vertical-align: top;\n    }\n\n    .dataframe thead th {\n        text-align: right;\n    }\n</style>\n<table border=\"1\" class=\"dataframe\">\n  <thead>\n    <tr style=\"text-align: right;\">\n      <th></th>\n      <th>Unnamed: 0</th>\n      <th>Pdg</th>\n      <th>Energy</th>\n      <th>Vx</th>\n      <th>Vy</th>\n      <th>Vz</th>\n      <th>Px</th>\n      <th>Py</th>\n      <th>Pz</th>\n      <th>neutron_photon_sum</th>\n      <th>mass</th>\n      <th>charge</th>\n      <th>proton_photon_sum</th>\n    </tr>\n  </thead>\n  <tbody>\n    <tr>\n      <th>0</th>\n      <td>0</td>\n      <td>22</td>\n      <td>513.318</td>\n      <td>1.454300e-08</td>\n      <td>3.650510e-08</td>\n      <td>-0.002731</td>\n      <td>0.035456</td>\n      <td>-0.051821</td>\n      <td>-513.318</td>\n      <td>291.0</td>\n      <td>0.000000</td>\n      <td>0.0</td>\n      <td>0.0</td>\n    </tr>\n    <tr>\n      <th>1</th>\n      <td>1</td>\n      <td>22</td>\n      <td>1304.340</td>\n      <td>-1.831820e-05</td>\n      <td>1.555780e-05</td>\n      <td>0.050293</td>\n      <td>-0.509192</td>\n      <td>0.461106</td>\n      <td>1304.340</td>\n      <td>8.0</td>\n      <td>0.000000</td>\n      <td>0.0</td>\n      <td>9.0</td>\n    </tr>\n    <tr>\n      <th>2</th>\n      <td>2</td>\n      <td>22</td>\n      <td>1014.720</td>\n      <td>-1.831820e-05</td>\n      <td>1.555780e-05</td>\n      <td>0.050293</td>\n      <td>-0.335473</td>\n      <td>0.256277</td>\n      <td>1014.720</td>\n      <td>130.0</td>\n      <td>0.000000</td>\n      <td>0.0</td>\n      <td>0.0</td>\n    </tr>\n    <tr>\n      <th>3</th>\n      <td>3</td>\n      <td>-211</td>\n      <td>325.158</td>\n      <td>0.000000e+00</td>\n      <td>0.000000e+00</td>\n      <td>0.000000</td>\n      <td>0.269915</td>\n      <td>-0.081921</td>\n      <td>325.157</td>\n      <td>0.0</td>\n      <td>139.570610</td>\n      <td>-1.0</td>\n      <td>5.0</td>\n    </tr>\n    <tr>\n      <th>4</th>\n      <td>4</td>\n      <td>2112</td>\n      <td>3192.380</td>\n      <td>0.000000e+00</td>\n      <td>0.000000e+00</td>\n      <td>0.000000</td>\n      <td>0.022422</td>\n      <td>-0.182957</td>\n      <td>-3192.380</td>\n      <td>1256.0</td>\n      <td>939.565413</td>\n      <td>0.0</td>\n      <td>16.0</td>\n    </tr>\n  </tbody>\n</table>\n</div>"
     },
     "execution_count": 33,
     "metadata": {},
     "output_type": "execute_result"
    }
   ],
   "source": [
    "data_cond.head()"
   ]
  },
  {
   "cell_type": "markdown",
   "metadata": {
    "pycharm": {
     "name": "#%% md\n"
    }
   },
   "source": [
    "## Filter Photon Sum"
   ]
  },
  {
   "cell_type": "code",
   "execution_count": 34,
   "metadata": {
    "collapsed": false,
    "jupyter": {
     "outputs_hidden": false
    },
    "pycharm": {
     "name": "#%%\n"
    }
   },
   "outputs": [
    {
     "name": "stderr",
     "output_type": "stream",
     "text": [
      "C:\\Users\\PB\\AppData\\Local\\Temp\\ipykernel_19084\\1219911072.py:13: UserWarning: Boolean Series key will be reindexed to match DataFrame index.\n",
      "  return data_p[mask], data_n[mask], data_conditional[mask].reset_index(drop=True)\n"
     ]
    },
    {
     "name": "stdout",
     "output_type": "stream",
     "text": [
      "(0, 0) (48714, 44, 44) (48714, 13)\n",
      "Min proton photon sum:  15.0 Min proton photon sum:  15.0\n"
     ]
    }
   ],
   "source": [
    "## Filter Photon Sum\n",
    "def filter_photon_sum(data_p, data_conditional, min_photon_sum=10, max_photon_sum=None):\n",
    "    \"\"\"\n",
    "    Returns particle data and responses of experiments with minimum sum of photons.\n",
    "    \"\"\"\n",
    "    if max_photon_sum:\n",
    "        mask = (data_conditional.proton_photon_sum >= min_photon_sum)\\\n",
    "               & (data_conditional.proton_photon_sum <= max_photon_sum)\n",
    "    else:\n",
    "        mask = (data_conditional.proton_photon_sum >= min_photon_sum)\n",
    "    return data_p[mask], data_conditional[mask].reset_index(drop=True)\n",
    "\n",
    "\n",
    "MIN_PHOTON_SUM = 15\n",
    "MAX_PHOTON_SUM = None\n",
    "data_p = pd.DataFrame()\n",
    "data_p, data_cond = filter_photon_sum(data_p, data_cond, min_photon_sum=MIN_PHOTON_SUM, max_photon_sum=MAX_PHOTON_SUM)\n",
    "print(data_p.shape, data_cond.shape)\n",
    "print(\"Min proton photon sum: \", data_cond.proton_photon_sum.min())"
   ]
  },
  {
   "cell_type": "markdown",
   "metadata": {
    "pycharm": {
     "name": "#%% md\n"
    }
   },
   "source": [
    "## Save filtered data"
   ]
  },
  {
   "cell_type": "code",
   "execution_count": 20,
   "outputs": [],
   "source": [
    "# calculate min max proton, neutron sum\n",
    "photon_sum_proton_min, photon_sum_proton_max = int(data_cond.proton_photon_sum.min()), int(data_cond.proton_photon_sum.max())"
   ],
   "metadata": {
    "collapsed": false,
    "pycharm": {
     "name": "#%%\n"
    }
   }
  },
  {
   "cell_type": "code",
   "execution_count": 21,
   "outputs": [
    {
     "data": {
      "text/plain": "'15_2133_15_3273'"
     },
     "execution_count": 21,
     "metadata": {},
     "output_type": "execute_result"
    }
   ],
   "source": [
    "photonsums_intervals_str = f\"{photon_sum_proton_min}_{photon_sum_proton_max}\""
   ],
   "metadata": {
    "collapsed": false,
    "pycharm": {
     "name": "#%%\n"
    }
   }
  },
  {
   "cell_type": "code",
   "execution_count": 18,
   "metadata": {
    "collapsed": false,
    "jupyter": {
     "outputs_hidden": false
    },
    "pycharm": {
     "name": "#%%\n"
    }
   },
   "outputs": [],
   "source": [
    "# save conditional data\n",
    "data_cond.to_pickle(f\"../data/data_cond_photonsum_{photonsums_intervals_str}.pkl\")"
   ]
  },
  {
   "cell_type": "code",
   "execution_count": 22,
   "metadata": {
    "collapsed": false,
    "jupyter": {
     "outputs_hidden": false
    },
    "pycharm": {
     "name": "#%%\n"
    }
   },
   "outputs": [],
   "source": [
    "# save proton data\n",
    "with open(f\"../data/data_proton_photonsum_{photonsums_intervals_str}.pkl\", 'wb') as f:\n",
    "    pickle.dump(data_p, f)"
   ]
  }
 ],
 "metadata": {
  "kernelspec": {
   "name": "tf",
   "language": "python",
   "display_name": "tf"
  },
  "language_info": {
   "codemirror_mode": {
    "name": "ipython",
    "version": 3
   },
   "file_extension": ".py",
   "mimetype": "text/x-python",
   "name": "python",
   "nbconvert_exporter": "python",
   "pygments_lexer": "ipython3",
   "version": "3.9.13"
  }
 },
 "nbformat": 4,
 "nbformat_minor": 4
}