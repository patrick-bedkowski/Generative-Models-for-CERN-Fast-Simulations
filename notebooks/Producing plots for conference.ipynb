{
 "cells": [
  {
   "cell_type": "code",
   "execution_count": 1,
   "metadata": {
    "collapsed": false,
    "jupyter": {
     "outputs_hidden": false
    },
    "pycharm": {
     "name": "#%%\n"
    }
   },
   "outputs": [],
   "source": [
    "%load_ext autoreload\n",
    "%autoreload 2"
   ]
  },
  {
   "cell_type": "code",
   "execution_count": 2,
   "metadata": {
    "pycharm": {
     "name": "#%%\n"
    }
   },
   "outputs": [],
   "source": [
    "# for running in collab, sagemaker etc.\n",
    "import sys\n",
    "sys.path.insert(0, \"/home/studio-lab-user/Generative_Models_for_CERN_Fast_Simulations/utils\")"
   ]
  },
  {
   "cell_type": "code",
   "execution_count": 2,
   "metadata": {
    "collapsed": false,
    "jupyter": {
     "outputs_hidden": false
    },
    "pycharm": {
     "name": "#%%\n"
    }
   },
   "outputs": [
    {
     "name": "stdout",
     "output_type": "stream",
     "text": [
      "[PhysicalDevice(name='/physical_device:GPU:0', device_type='GPU')]\n"
     ]
    }
   ],
   "source": [
    "import pandas as pd\n",
    "import tensorflow as tf\n",
    "import numpy as np\n",
    "from numpy import load\n",
    "import matplotlib.pyplot as plt\n",
    "import seaborn as sns\n",
    "from sklearn import datasets, linear_model, decomposition, manifold, preprocessing\n",
    "from sklearn.metrics import mean_squared_error, r2_score\n",
    "from sklearn.discriminant_analysis import LinearDiscriminantAnalysis\n",
    "from sklearn.ensemble import RandomForestClassifier\n",
    "from sklearn.feature_selection import RFE\n",
    "from sklearn.metrics import precision_recall_curve, roc_curve, auc, accuracy_score, confusion_matrix\n",
    "from sklearn.model_selection import StratifiedKFold, KFold, train_test_split\n",
    "from sklearn.preprocessing import StandardScaler\n",
    "from scipy.stats import wasserstein_distance\n",
    "import pickle\n",
    "import time\n",
    "import os\n",
    "import pandas as pd\n",
    "from sklearn.metrics import mean_absolute_error\n",
    "\n",
    "import tensorflow as tf; print(tf.config.list_physical_devices('GPU'))\n",
    "os.environ[\"CUDA_VISIBLE_DEVICES\"]=\"1\"\n",
    "\n",
    "sns.set_theme()"
   ]
  },
  {
   "cell_type": "markdown",
   "metadata": {
    "id": "dW7jxOR-eiL5",
    "pycharm": {
     "name": "#%% md\n"
    }
   },
   "source": [
    "### Load data"
   ]
  },
  {
   "cell_type": "code",
   "execution_count": 3,
   "metadata": {
    "colab": {
     "base_uri": "https://localhost:8080/"
    },
    "executionInfo": {
     "elapsed": 39530,
     "status": "ok",
     "timestamp": 1623571867626,
     "user": {
      "displayName": "Jan Dubiński",
      "photoUrl": "",
      "userId": "04866767089811362617"
     },
     "user_tz": -120
    },
    "id": "Z844CMU-AReG",
    "outputId": "8cf9efbe-fe19-4f4b-c438-a6d9957d6a0e",
    "pycharm": {
     "name": "#%%\n"
    }
   },
   "outputs": [],
   "source": [
    "# proton\n",
    "p_data = pd.read_pickle('../data/data_proton_photonsum_proton_15_2133_neutron_15_3273.pkl')\n",
    "n_data = pd.read_pickle('../data/data_neutron_photonsum_proton_15_2133_neutron_15_3273.pkl')\n",
    "c_data = pd.read_pickle('../data/data_proton_neutron_photonsum_proton_15_2133_neutron_15_3273_padding.pkl')"
   ]
  },
  {
   "cell_type": "code",
   "execution_count": 14,
   "outputs": [
    {
     "name": "stdout",
     "output_type": "stream",
     "text": [
      "(48714, 44, 44)\n",
      "None 15.0 3273.0\n"
     ]
    }
   ],
   "source": [
    "# neutron\n",
    "print(print(n_data.shape), n_data.sum((1, 2)).min(), n_data.sum((1, 2)).max())"
   ],
   "metadata": {
    "collapsed": false,
    "pycharm": {
     "name": "#%%\n"
    }
   }
  },
  {
   "cell_type": "code",
   "execution_count": 15,
   "outputs": [
    {
     "name": "stdout",
     "output_type": "stream",
     "text": [
      "(48714, 56, 30)\n",
      "None 15.0 2133.0\n"
     ]
    }
   ],
   "source": [
    "# proton\n",
    "print(print(p_data.shape), p_data.sum((1, 2)).min(), p_data.sum((1, 2)).max())"
   ],
   "metadata": {
    "collapsed": false,
    "pycharm": {
     "name": "#%%\n"
    }
   }
  },
  {
   "cell_type": "code",
   "execution_count": 19,
   "outputs": [
    {
     "name": "stdout",
     "output_type": "stream",
     "text": [
      "(48714, 56, 44, 2)\n",
      "None 15.0 2133.0\n",
      "(48714, 56, 44, 2)\n",
      "None 15.0 3273.0\n"
     ]
    }
   ],
   "source": [
    "# Joint\n",
    "# Proton\n",
    "print(print(c_data.shape), c_data[:,:,:,0].sum((1, 2)).min(), c_data[:,:,:,0].sum((1, 2)).max())\n",
    "# Neutron\n",
    "print(print(c_data.shape), c_data[:,:,:,1].sum((1, 2)).min(), c_data[:,:,:,1].sum((1, 2)).max())"
   ],
   "metadata": {
    "collapsed": false,
    "pycharm": {
     "name": "#%%\n"
    }
   }
  },
  {
   "cell_type": "code",
   "execution_count": null,
   "outputs": [],
   "source": [
    "# neutron\n",
    "print(n_data.shape), n_data.sum((1, 2)).min(), n_data.sum((1, 2)).max()"
   ],
   "metadata": {
    "collapsed": false,
    "pycharm": {
     "name": "#%%\n"
    }
   }
  },
  {
   "cell_type": "code",
   "execution_count": 6,
   "outputs": [],
   "source": [
    "data_cond = pd.read_pickle('../data/data_cond_photonsum_proton_15_2133_neutron_15_3273.pkl')"
   ],
   "metadata": {
    "collapsed": false,
    "pycharm": {
     "name": "#%%\n"
    }
   }
  },
  {
   "cell_type": "code",
   "execution_count": 7,
   "outputs": [
    {
     "data": {
      "text/plain": "((48714, 12), (48714, 56, 30), (48714, 44, 44), (48714, 56, 44, 2))"
     },
     "execution_count": 7,
     "metadata": {},
     "output_type": "execute_result"
    }
   ],
   "source": [
    "data_cond.shape, p_data.shape, n_data.shape, c_data.shape"
   ],
   "metadata": {
    "collapsed": false,
    "pycharm": {
     "name": "#%%\n"
    }
   }
  },
  {
   "cell_type": "markdown",
   "metadata": {
    "pycharm": {
     "name": "#%% md\n"
    }
   },
   "source": [
    "### Function for calculating sum of channels"
   ]
  },
  {
   "cell_type": "code",
   "execution_count": 20,
   "metadata": {
    "pycharm": {
     "name": "#%%\n"
    }
   },
   "outputs": [],
   "source": [
    "from utils.utils import get_channel_masks, sum_channels_parallel"
   ]
  },
  {
   "cell_type": "markdown",
   "metadata": {
    "pycharm": {
     "name": "#%% md\n"
    }
   },
   "source": [
    "#### Get data info for plots"
   ]
  },
  {
   "cell_type": "code",
   "execution_count": 21,
   "metadata": {
    "collapsed": false,
    "jupyter": {
     "outputs_hidden": false
    },
    "pycharm": {
     "name": "#%%\n"
    }
   },
   "outputs": [],
   "source": [
    "data_cond.drop(columns=['neutron_photon_sum', 'proton_photon_sum', 'Pdg'], inplace=True)"
   ]
  },
  {
   "cell_type": "code",
   "execution_count": 22,
   "metadata": {
    "colab": {
     "base_uri": "https://localhost:8080/"
    },
    "executionInfo": {
     "elapsed": 11710,
     "status": "ok",
     "timestamp": 1623571879321,
     "user": {
      "displayName": "Jan Dubiński",
      "photoUrl": "",
      "userId": "04866767089811362617"
     },
     "user_tz": -120
    },
    "id": "UAgQGQ8MASSz",
    "outputId": "054a6865-43e4-40ea-c76e-0465852abd95",
    "pycharm": {
     "name": "#%%\n"
    }
   },
   "outputs": [],
   "source": [
    "p_data = np.log(p_data+1)\n",
    "p_data = np.float32(p_data)\n",
    "\n",
    "n_data = np.log(n_data+1)\n",
    "n_data = np.float32(n_data)\n",
    "\n",
    "c_data = np.log(c_data+1)\n",
    "c_data = np.float32(c_data)"
   ]
  },
  {
   "cell_type": "code",
   "execution_count": 23,
   "metadata": {
    "colab": {
     "base_uri": "https://localhost:8080/"
    },
    "executionInfo": {
     "elapsed": 593,
     "status": "ok",
     "timestamp": 1623571879894,
     "user": {
      "displayName": "Jan Dubiński",
      "photoUrl": "",
      "userId": "04866767089811362617"
     },
     "user_tz": -120
    },
    "id": "FORoclLwAap9",
    "outputId": "bb445935-4944-4c45-80bd-f1079b704252",
    "pycharm": {
     "name": "#%%\n"
    }
   },
   "outputs": [],
   "source": [
    "p_x_train, p_x_test, p_y_train, p_y_test, = train_test_split(p_data, data_cond, test_size=0.2, shuffle=False, random_state=42)\n",
    "\n",
    "p_scaler = StandardScaler()\n",
    "p_y_train = p_scaler.fit_transform(p_y_train)\n",
    "p_y_test = p_scaler.transform(p_y_test)\n",
    "\n",
    "n_x_train, n_x_test, n_y_train, n_y_test, = train_test_split(n_data, data_cond, test_size=0.2, shuffle=False, random_state=42)\n",
    "\n",
    "n_scaler = StandardScaler()\n",
    "n_y_train = n_scaler.fit_transform(n_y_train)\n",
    "n_y_test = n_scaler.transform(n_y_test)\n",
    "\n",
    "c_x_train, c_x_test, c_y_train, c_y_test, = train_test_split(c_data, data_cond, test_size=0.2, shuffle=False, random_state=42)\n",
    "\n",
    "c_scaler = StandardScaler()\n",
    "c_y_train = c_scaler.fit_transform(c_y_train)\n",
    "c_y_test = c_scaler.transform(c_y_test)"
   ]
  },
  {
   "cell_type": "markdown",
   "metadata": {
    "id": "3tIO8Rkeebmj",
    "pycharm": {
     "name": "#%% md\n"
    }
   },
   "source": [
    "### Calculate channels for original simulation test data"
   ]
  },
  {
   "cell_type": "code",
   "execution_count": 24,
   "metadata": {
    "id": "rkolDwC9ybHy",
    "pycharm": {
     "name": "#%%\n"
    }
   },
   "outputs": [],
   "source": [
    "p_org=np.exp(p_x_test)-1\n",
    "p_ch_org = np.array(p_org).reshape(-1, 56, 30)\n",
    "p_ch_org = pd.DataFrame(sum_channels_parallel(p_ch_org)).values\n",
    "\n",
    "n_org=np.exp(n_x_test)-1\n",
    "n_ch_org = np.array(n_org).reshape(-1, 44, 44)\n",
    "n_ch_org = pd.DataFrame(sum_channels_parallel(n_ch_org)).values\n",
    "\n",
    "c_org=np.exp(c_x_test)-1\n",
    "c_ch_org = np.array(c_org).reshape(-1, 56, 44, )\n",
    "c_ch_org = pd.DataFrame(sum_channels_parallel(c_ch_org)).values"
   ]
  },
  {
   "cell_type": "code",
   "execution_count": 25,
   "metadata": {
    "pycharm": {
     "name": "#%%\n"
    }
   },
   "outputs": [
    {
     "data": {
      "text/plain": "((9743, 56, 30), (9743, 44, 44), (9743, 56, 44, 2))"
     },
     "execution_count": 25,
     "metadata": {},
     "output_type": "execute_result"
    }
   ],
   "source": [
    "p_org.shape, n_org.shape, c_org.shape"
   ]
  },
  {
   "cell_type": "markdown",
   "metadata": {
    "id": "7g86Bqtxer1S",
    "pycharm": {
     "name": "#%% md\n"
    }
   },
   "source": [
    "### Define functions for making histograms"
   ]
  },
  {
   "cell_type": "code",
   "execution_count": 26,
   "metadata": {
    "id": "YbJq6Ac8Iwgt",
    "pycharm": {
     "name": "#%%\n"
    }
   },
   "outputs": [],
   "source": [
    "def calculate_ws_ch(generator,\n",
    "                    x_test, y_test,\n",
    "                    ch_org, data_shape,\n",
    "                    n_calc=5,\n",
    "                    scale=1, noise_std=1):\n",
    "    \"\"\"\n",
    "    Calculates ws distance for each channel separately.\n",
    "    \"\"\"\n",
    "    ws = [0, 0, 0, 0, 0]\n",
    "    for j in range(n_calc):\n",
    "        z = np.random.normal(0, noise_std, (x_test.shape[0], 10))\n",
    "        z_c = y_test\n",
    "        results = generator.predict([z, z_c])\n",
    "        results = np.exp(results) - 1\n",
    "        results = results * scale\n",
    "\n",
    "        ch_gen = np.array(results).reshape(data_shape)\n",
    "        ch_gen = pd.DataFrame(sum_channels_parallel(ch_gen)).values\n",
    "        for i in range(5):\n",
    "            ws[i] = ws[i] + wasserstein_distance(ch_org[:, i], ch_gen[:, i])\n",
    "        ws = np.array(ws)\n",
    "\n",
    "    ws = ws / n_calc\n",
    "    print(\"\\n\", \"-\" * 30, \"\\n\")\n",
    "    print(\"ws mean\", f'{ws.sum() / 5:.2f}', end=\" \")\n",
    "    for n, score in enumerate(ws):\n",
    "        print(\"ch\" + str(n + 1), f'{score:.2f}', end=\" \")"
   ]
  },
  {
   "cell_type": "markdown",
   "source": [
    "## Generate plots for all models"
   ],
   "metadata": {
    "collapsed": false,
    "pycharm": {
     "name": "#%% md\n"
    }
   }
  },
  {
   "cell_type": "markdown",
   "source": [
    "### Load models"
   ],
   "metadata": {
    "collapsed": false,
    "pycharm": {
     "name": "#%% md\n"
    }
   }
  },
  {
   "cell_type": "code",
   "execution_count": 27,
   "outputs": [],
   "source": [
    "sdigan_proton = tf.keras.models.load_model(\"C:\\\\Users\\\\PB\\\\Documents\\\\GithubRepos\\\\Generative-Models-for-CERN-Fast-Simulations\\\\experiments\\\\sdi-gan_15_2133_08_05_2023_21_20\\\\models\\\\best_model\\\\gen_sdi_gan_62.h5\", compile=False)\n",
    "sdigan_neutron = tf.keras.models.load_model(\"C:\\\\Users\\\\PB\\\\Documents\\\\GithubRepos\\\\Generative-Models-for-CERN-Fast-Simulations\\\\experiments\\\\gen_best_neutron_sdi_gan.h5\", compile=False)\n",
    "sdigan_proton_neutron_padded = tf.keras.models.load_model(\"C:\\\\Users\\\\PB\\\\Documents\\\\GithubRepos\\\\Generative-Models-for-CERN-Fast-Simulations\\\\experiments\\\\sdi-gan-padded_20_1970_27_06_2023_22_32\\\\models\\\\gen_sdi-gan-padded_47.h5\", compile=False)"
   ],
   "metadata": {
    "collapsed": false,
    "pycharm": {
     "name": "#%%\n"
    }
   }
  },
  {
   "cell_type": "markdown",
   "source": [
    "### Calculate ws"
   ],
   "metadata": {
    "collapsed": false,
    "pycharm": {
     "name": "#%% md\n"
    }
   }
  },
  {
   "cell_type": "code",
   "execution_count": 28,
   "outputs": [
    {
     "name": "stdout",
     "output_type": "stream",
     "text": [
      "305/305 [==============================] - 12s 24ms/step\n",
      "305/305 [==============================] - 7s 24ms/step\n",
      "305/305 [==============================] - 7s 24ms/step\n",
      "305/305 [==============================] - 8s 25ms/step\n",
      "305/305 [==============================] - 8s 26ms/step\n",
      "\n",
      " ------------------------------ \n",
      "\n",
      "ws mean 6.04 ch1 0.44 ch2 0.57 ch3 3.24 ch4 9.39 ch5 16.58 "
     ]
    }
   ],
   "source": [
    "# PROTON\n",
    "calculate_ws_ch(sdigan_proton,\n",
    "                p_x_test, p_y_test,\n",
    "                p_ch_org, (-1, 56, 30))"
   ],
   "metadata": {
    "collapsed": false,
    "pycharm": {
     "name": "#%%\n"
    }
   }
  },
  {
   "cell_type": "code",
   "execution_count": 29,
   "outputs": [
    {
     "name": "stdout",
     "output_type": "stream",
     "text": [
      "305/305 [==============================] - 3s 8ms/step\n",
      "305/305 [==============================] - 2s 8ms/step\n",
      "305/305 [==============================] - 2s 8ms/step\n",
      "305/305 [==============================] - 3s 8ms/step\n",
      "305/305 [==============================] - 2s 8ms/step\n",
      "\n",
      " ------------------------------ \n",
      "\n",
      "ws mean 75.66 ch1 98.45 ch2 85.60 ch3 6.71 ch4 7.03 ch5 180.50 "
     ]
    }
   ],
   "source": [
    "# NEUTRON\n",
    "calculate_ws_ch(sdigan_neutron,\n",
    "                n_x_test, n_y_test,\n",
    "                n_ch_org, (-1, 44, 44))"
   ],
   "metadata": {
    "collapsed": false,
    "pycharm": {
     "name": "#%%\n"
    }
   }
  },
  {
   "cell_type": "markdown",
   "source": [
    "JOINT PROTON NEUTRON MODEL"
   ],
   "metadata": {
    "collapsed": false,
    "pycharm": {
     "name": "#%% md\n"
    }
   }
  },
  {
   "cell_type": "code",
   "execution_count": 30,
   "outputs": [
    {
     "name": "stdout",
     "output_type": "stream",
     "text": [
      "305/305 [==============================] - 10s 30ms/step\n",
      "305/305 [==============================] - 9s 30ms/step\n",
      "305/305 [==============================] - 10s 31ms/step\n",
      "305/305 [==============================] - 9s 30ms/step\n",
      "305/305 [==============================] - 10s 31ms/step\n",
      "\n",
      " ------------------------------ \n",
      "\n",
      "ws mean 8.00 ch1 6.85 ch2 5.06 ch3 8.81 ch4 7.71 ch5 11.57 "
     ]
    }
   ],
   "source": [
    "# PROTON AND NEUTRON COMBINED WITH PADDING\n",
    "calculate_ws_ch(sdigan_proton_neutron_padded,\n",
    "                c_x_test, c_y_test,\n",
    "                c_ch_org, (-1, 56, 44, ))"
   ],
   "metadata": {
    "collapsed": false,
    "pycharm": {
     "name": "#%%\n"
    }
   }
  },
  {
   "cell_type": "markdown",
   "metadata": {
    "pycharm": {
     "name": "#%% md\n"
    }
   },
   "source": [
    "### Plot samples"
   ]
  },
  {
   "cell_type": "code",
   "execution_count": 203,
   "metadata": {
    "pycharm": {
     "name": "#%%\n"
    }
   },
   "outputs": [],
   "source": [
    "def generate_and_save_images(test_input):\n",
    "    # produce predictions\n",
    "    predictions_sdigan_p = sdigan_proton(test_input, training=False)\n",
    "    predictions_sdigan_n = sdigan_neutron(test_input, training=False)\n",
    "    predictions_sdigan_c = sdigan_proton_neutron_padded(test_input, training=False)\n",
    "\n",
    "    fig, axs = plt.subplots(4, 5, figsize=(14, 10))\n",
    "    # fig.suptitle(SUPTITLE_TXT, x=0.1, horizontalalignment='left')\n",
    "    im_in_row = []\n",
    "    for i in range(0, 20):\n",
    "        if i < 5:\n",
    "            # Neutron model\n",
    "            title_model = \"Neutron responses\"\n",
    "            row = 0\n",
    "            x = predictions_sdigan_n[i % 5].numpy().reshape(44, 44)\n",
    "        elif i >= 5 and i < 10:\n",
    "            title_model = \"Neutron responses from Joint model\"\n",
    "            # Neutron data from joint model\n",
    "            row = 1\n",
    "            x = predictions_sdigan_c[:,:,:,1][i % 5].numpy().reshape(56, 44)\n",
    "        elif i >= 10 and i < 15:\n",
    "            # Proton data from joint model\n",
    "            title_model = \"Proton responses from Joint model\"\n",
    "            row = 2\n",
    "            x = predictions_sdigan_c[:,:,:,0][i % 5].numpy().reshape(56, 44)\n",
    "        else:\n",
    "            title_model = \"Proton responses\"\n",
    "            # Proton model\n",
    "            row = 3\n",
    "            x = predictions_sdigan_p[i % 5].numpy().reshape(56, 30)\n",
    "\n",
    "        axs[row, 2].set_title(title_model, fontsize=16)\n",
    "        im = axs[row, i % 5].imshow(x, cmap='gnuplot')\n",
    "        axs[row, i % 5].axis('off')\n",
    "        im_in_row.append(im)\n",
    "\n",
    "        # add colorbar to the last image, but scale is with respect to the all images in row\n",
    "        if i % 5 == 4:\n",
    "            fig.colorbar(im, ax=axs[i // 5, :])\n",
    "            # fig.colorbar.set_ylim(0, 4)\n",
    "            # axs[row].colorbar(predictions_per_row, ax=axs[i % 5])\n",
    "            # predictions_per_row = []\n",
    "\n",
    "    plt.savefig(\"20, 40, 22, 24, 39 _ 4.png\", dpi=300)\n",
    "    plt.show()"
   ]
  },
  {
   "cell_type": "code",
   "execution_count": 228,
   "metadata": {
    "pycharm": {
     "name": "#%%\n"
    }
   },
   "outputs": [
    {
     "data": {
      "text/plain": "<Figure size 1400x1000 with 24 Axes>",
      "image/png": "[encoded data removed]"
     },
     "metadata": {},
     "output_type": "display_data"
    }
   ],
   "source": [
    "SAMPLES_IDXs = [20, 40, 22, 24, 39]\n",
    "num_examples_to_generate = len(SAMPLES_IDXs)\n",
    "noise_dim = 10\n",
    "\n",
    "seed = tf.random.normal([num_examples_to_generate, noise_dim])\n",
    "seed_cond = p_y_test[SAMPLES_IDXs]\n",
    "\n",
    "generate_and_save_images([seed, seed_cond])"
   ]
  },
  {
   "cell_type": "markdown",
   "source": [
    "## Calculate time of generation"
   ],
   "metadata": {
    "collapsed": false,
    "pycharm": {
     "name": "#%% md\n"
    }
   }
  },
  {
   "cell_type": "code",
   "execution_count": 39,
   "outputs": [],
   "source": [
    "import timeit\n",
    "N_OF_EXPERIMENTS_TO_GENERATE = 10"
   ],
   "metadata": {
    "collapsed": false,
    "pycharm": {
     "name": "#%%\n"
    }
   }
  },
  {
   "cell_type": "code",
   "execution_count": 35,
   "outputs": [
    {
     "name": "stdout",
     "output_type": "stream",
     "text": [
      "Number of samples for each experiment: 9743\n"
     ]
    }
   ],
   "source": [
    "print(\"Number of samples for each experiment: {}\".format(len(p_y_test)))"
   ],
   "metadata": {
    "collapsed": false,
    "pycharm": {
     "name": "#%%\n"
    }
   }
  },
  {
   "cell_type": "code",
   "execution_count": 36,
   "outputs": [],
   "source": [
    "from tabulate import tabulate\n",
    "\n",
    "def plot_statistics(time_results):\n",
    "    \"\"\"\n",
    "    Plots statistics of running execution time for experimets.\n",
    "    :param time_resutls: List of execution time of each experiment.\n",
    "    \"\"\"\n",
    "    stats_table = [\n",
    "        [\"Min: \", min(time_results)],\n",
    "        [\"Max: \", max(time_results)],\n",
    "        [\"Mean: \", np.mean(time_results)],\n",
    "        [\"Stddev: \", np.std(time_results)],\n",
    "    ]\n",
    "    table = tabulate(stats_table, tablefmt=\"github\")\n",
    "    table_title = \"Execution time of experiment\"\n",
    "    full_table = f\"{table_title}\\n\\n{table}\"\n",
    "    print(full_table)"
   ],
   "metadata": {
    "collapsed": false,
    "pycharm": {
     "name": "#%%\n"
    }
   }
  },
  {
   "cell_type": "markdown",
   "source": [
    "#### Proton model"
   ],
   "metadata": {
    "collapsed": false,
    "pycharm": {
     "name": "#%% md\n"
    }
   }
  },
  {
   "cell_type": "code",
   "execution_count": 37,
   "outputs": [],
   "source": [
    "def generate_test_proton():\n",
    "    num_examples_to_generate, noise_dim = len(p_y_test), 10\n",
    "    seed = tf.random.normal([num_examples_to_generate, noise_dim])\n",
    "    output = sdigan_proton.predict([seed, p_y_test])"
   ],
   "metadata": {
    "collapsed": false,
    "pycharm": {
     "name": "#%%\n"
    }
   }
  },
  {
   "cell_type": "code",
   "execution_count": 232,
   "outputs": [
    {
     "name": "stdout",
     "output_type": "stream",
     "text": [
      "305/305 [==============================] - 8s 25ms/step\n",
      "305/305 [==============================] - 8s 26ms/step\n",
      "305/305 [==============================] - 9s 28ms/step\n",
      "305/305 [==============================] - 9s 29ms/step\n",
      "305/305 [==============================] - 9s 29ms/step\n",
      "305/305 [==============================] - 9s 30ms/step\n",
      "305/305 [==============================] - 9s 29ms/step\n",
      "305/305 [==============================] - 9s 29ms/step\n",
      "305/305 [==============================] - 9s 30ms/step\n",
      "305/305 [==============================] - 9s 29ms/step\n",
      "Execution time of experiment\n",
      "\n",
      "|---------|----------|\n",
      "| Min:    | 7.96039  |\n",
      "| Max:    | 9.34827  |\n",
      "| Mean:   | 8.91293  |\n",
      "| Stddev: | 0.424508 |\n"
     ]
    }
   ],
   "source": [
    "execution_time_proton = timeit.repeat(generate_test_proton, repeat=N_OF_EXPERIMENTS_TO_GENERATE, number=1)\n",
    "plot_statistics(execution_time_proton)"
   ],
   "metadata": {
    "collapsed": false,
    "pycharm": {
     "name": "#%%\n"
    }
   }
  },
  {
   "cell_type": "markdown",
   "source": [
    "#### Neutron model"
   ],
   "metadata": {
    "collapsed": false,
    "pycharm": {
     "name": "#%% md\n"
    }
   }
  },
  {
   "cell_type": "code",
   "execution_count": 41,
   "outputs": [],
   "source": [
    "def generate_test_neutron():\n",
    "    num_examples_to_generate, noise_dim = len(n_y_test), 10\n",
    "    seed = tf.random.normal([num_examples_to_generate, noise_dim])\n",
    "    output = sdigan_neutron.predict([seed, n_y_test])"
   ],
   "metadata": {
    "collapsed": false,
    "pycharm": {
     "name": "#%%\n"
    }
   }
  },
  {
   "cell_type": "code",
   "execution_count": 234,
   "outputs": [
    {
     "name": "stdout",
     "output_type": "stream",
     "text": [
      "305/305 [==============================] - 3s 8ms/step\n",
      "305/305 [==============================] - 3s 8ms/step\n",
      "305/305 [==============================] - 3s 8ms/step\n",
      "305/305 [==============================] - 3s 8ms/step\n",
      "305/305 [==============================] - 3s 8ms/step\n",
      "305/305 [==============================] - 3s 8ms/step\n",
      "305/305 [==============================] - 3s 8ms/step\n",
      "305/305 [==============================] - 3s 8ms/step\n",
      "305/305 [==============================] - 3s 8ms/step\n",
      "305/305 [==============================] - 2s 8ms/step\n",
      "Execution time of experiment\n",
      "\n",
      "|---------|-----------|\n",
      "| Min:    | 2.75746   |\n",
      "| Max:    | 2.93267   |\n",
      "| Mean:   | 2.82216   |\n",
      "| Stddev: | 0.0502669 |\n"
     ]
    }
   ],
   "source": [
    "execution_time_neutron = timeit.repeat(generate_test_neutron, repeat=N_OF_EXPERIMENTS_TO_GENERATE, number=1)\n",
    "plot_statistics(execution_time_neutron)"
   ],
   "metadata": {
    "collapsed": false,
    "pycharm": {
     "name": "#%%\n"
    }
   }
  },
  {
   "cell_type": "markdown",
   "source": [
    "#### Joint Proton Neutron model"
   ],
   "metadata": {
    "collapsed": false,
    "pycharm": {
     "name": "#%% md\n"
    }
   }
  },
  {
   "cell_type": "code",
   "execution_count": 43,
   "outputs": [],
   "source": [
    "def generate_test_joint():\n",
    "    num_examples_to_generate, noise_dim = len(c_y_test), 10\n",
    "    seed = tf.random.normal([num_examples_to_generate, noise_dim])\n",
    "    output = sdigan_proton_neutron_padded.predict([seed, c_y_test])"
   ],
   "metadata": {
    "collapsed": false,
    "pycharm": {
     "name": "#%%\n"
    }
   }
  },
  {
   "cell_type": "code",
   "execution_count": 233,
   "outputs": [
    {
     "name": "stdout",
     "output_type": "stream",
     "text": [
      "305/305 [==============================] - 9s 30ms/step\n",
      "305/305 [==============================] - 9s 29ms/step\n",
      "305/305 [==============================] - 9s 30ms/step\n",
      "305/305 [==============================] - 9s 29ms/step\n",
      "305/305 [==============================] - 9s 30ms/step\n",
      "305/305 [==============================] - 9s 29ms/step\n",
      "305/305 [==============================] - 9s 30ms/step\n",
      "305/305 [==============================] - 9s 29ms/step\n",
      "305/305 [==============================] - 9s 29ms/step\n",
      "305/305 [==============================] - 9s 29ms/step\n",
      "Execution time of experiment\n",
      "\n",
      "|---------|-----------|\n",
      "| Min:    | 9.2675    |\n",
      "| Max:    | 9.57876   |\n",
      "| Mean:   | 9.39805   |\n",
      "| Stddev: | 0.0954456 |\n"
     ]
    }
   ],
   "source": [
    "execution_time_c = timeit.repeat(generate_test_joint, repeat=N_OF_EXPERIMENTS_TO_GENERATE, number=1)\n",
    "plot_statistics(execution_time_c)"
   ],
   "metadata": {
    "collapsed": false,
    "pycharm": {
     "name": "#%%\n"
    }
   }
  },
  {
   "cell_type": "code",
   "execution_count": null,
   "outputs": [],
   "source": [],
   "metadata": {
    "collapsed": false,
    "pycharm": {
     "name": "#%%\n"
    }
   }
  }
 ],
 "metadata": {
  "accelerator": "GPU",
  "colab": {
   "collapsed_sections": [],
   "machine_shape": "hm",
   "name": "9.Histograms of channels.ipynb",
   "provenance": [
    {
     "file_id": "1v7DslqUD_dNNlM-mwRA8qW4dnYzjF_1q",
     "timestamp": 1623565456686
    }
   ]
  },
  "kernelspec": {
   "name": "tf",
   "language": "python",
   "display_name": "tf"
  },
  "language_info": {
   "codemirror_mode": {
    "name": "ipython",
    "version": 3
   },
   "file_extension": ".py",
   "mimetype": "text/x-python",
   "name": "python",
   "nbconvert_exporter": "python",
   "pygments_lexer": "ipython3",
   "version": "3.9.13"
  },
  "vscode": {
   "interpreter": {
    "hash": "5c7b89af1651d0b8571dde13640ecdccf7d5a6204171d6ab33e7c296e100e08a"
   }
  }
 },
 "nbformat": 4,
 "nbformat_minor": 4
}