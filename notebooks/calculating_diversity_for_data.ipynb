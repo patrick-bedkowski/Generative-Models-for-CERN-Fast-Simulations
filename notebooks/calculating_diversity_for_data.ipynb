{
 "cells": [
  {
   "cell_type": "code",
   "execution_count": 1,
   "metadata": {
    "collapsed": false,
    "jupyter": {
     "outputs_hidden": false
    },
    "pycharm": {
     "name": "#%%\n"
    }
   },
   "outputs": [],
   "source": [
    "%load_ext autoreload\n",
    "%autoreload 2"
   ]
  },
  {
   "cell_type": "code",
   "execution_count": 2,
   "metadata": {
    "pycharm": {
     "name": "#%%\n"
    }
   },
   "outputs": [],
   "source": [
    "# for running in collab, sagemaker etc.\n",
    "import sys\n",
    "sys.path.insert(0, \"/home/studio-lab-user/Generative_Models_for_CERN_Fast_Simulations/utils\")"
   ]
  },
  {
   "cell_type": "code",
   "execution_count": 3,
   "metadata": {
    "collapsed": false,
    "jupyter": {
     "outputs_hidden": false
    },
    "pycharm": {
     "name": "#%%\n"
    }
   },
   "outputs": [
    {
     "name": "stdout",
     "output_type": "stream",
     "text": [
      "[PhysicalDevice(name='/physical_device:GPU:0', device_type='GPU')]\n"
     ]
    }
   ],
   "source": [
    "import pandas as pd\n",
    "import tensorflow as tf\n",
    "import numpy as np\n",
    "from numpy import load\n",
    "import matplotlib.pyplot as plt\n",
    "import seaborn as sns\n",
    "from sklearn import datasets, linear_model, decomposition, manifold, preprocessing\n",
    "from sklearn.metrics import mean_squared_error, r2_score\n",
    "from sklearn.discriminant_analysis import LinearDiscriminantAnalysis\n",
    "from sklearn.ensemble import RandomForestClassifier\n",
    "from sklearn.feature_selection import RFE\n",
    "from sklearn.metrics import precision_recall_curve, roc_curve, auc, accuracy_score, confusion_matrix\n",
    "from sklearn.model_selection import StratifiedKFold, KFold, train_test_split\n",
    "from sklearn.preprocessing import StandardScaler\n",
    "from scipy.stats import wasserstein_distance\n",
    "import pickle\n",
    "import time\n",
    "import os\n",
    "import pandas as pd\n",
    "from sklearn.metrics import mean_absolute_error\n",
    "\n",
    "import tensorflow as tf; print(tf.config.list_physical_devices('GPU'))\n",
    "os.environ[\"CUDA_VISIBLE_DEVICES\"] = \"1\"\n",
    "\n",
    "sns.set_theme()"
   ]
  },
  {
   "cell_type": "markdown",
   "metadata": {
    "pycharm": {
     "name": "#%% md\n"
    }
   },
   "source": [
    "## Non padded version"
   ]
  },
  {
   "cell_type": "markdown",
   "metadata": {
    "id": "dW7jxOR-eiL5",
    "pycharm": {
     "name": "#%% md\n"
    }
   },
   "source": [
    "### Load data"
   ]
  },
  {
   "cell_type": "code",
   "execution_count": 4,
   "metadata": {
    "colab": {
     "base_uri": "https://localhost:8080/"
    },
    "executionInfo": {
     "elapsed": 39530,
     "status": "ok",
     "timestamp": 1623571867626,
     "user": {
      "displayName": "Jan Dubiński",
      "photoUrl": "",
      "userId": "04866767089811362617"
     },
     "user_tz": -120
    },
    "id": "Z844CMU-AReG",
    "outputId": "8cf9efbe-fe19-4f4b-c438-a6d9957d6a0e",
    "pycharm": {
     "name": "#%%\n"
    }
   },
   "outputs": [],
   "source": [
    "data = pd.read_pickle('../data/data_photonsum_proton_18_2312.pkl')\n",
    "print('Loaded: ',  data.shape, \"max:\", data.max())\n",
    "\n",
    "# Data containing particle conditional data from particle having responses with proton photon sum in interval [70, 2312] without taking into consideration photon sums of neutron responses.\n",
    "data_cond = pd.read_pickle('../data/data_cond_photonsum_proton_18_2312.pkl')\n",
    "print('Loaded cond: ',  data_cond.shape, \"max:\",data_cond.values.max(), \"min:\",data_cond.values.min())"
   ]
  },
  {
   "cell_type": "code",
   "execution_count": 5,
   "metadata": {
    "pycharm": {
     "name": "#%%\n"
    }
   },
   "outputs": [],
   "source": [
    "data_cond.head()"
   ]
  },
  {
   "cell_type": "code",
   "execution_count": 4,
   "metadata": {
    "pycharm": {
     "name": "#%%\n"
    }
   },
   "outputs": [
    {
     "ename": "KeyError",
     "evalue": "\"['neutron_photon_sum'] not in index\"",
     "output_type": "error",
     "traceback": [
      "\u001B[1;31m---------------------------------------------------------------------------\u001B[0m",
      "\u001B[1;31mKeyError\u001B[0m                                  Traceback (most recent call last)",
      "Cell \u001B[1;32mIn[4], line 2\u001B[0m\n\u001B[0;32m      1\u001B[0m NEUTRON_PROTON_PHOTON_SUM_COLS \u001B[38;5;241m=\u001B[39m [\u001B[38;5;124m'\u001B[39m\u001B[38;5;124mneutron_photon_sum\u001B[39m\u001B[38;5;124m'\u001B[39m, \u001B[38;5;124m'\u001B[39m\u001B[38;5;124mproton_photon_sum\u001B[39m\u001B[38;5;124m'\u001B[39m]\n\u001B[1;32m----> 2\u001B[0m neutron_proton_photon_sum_data \u001B[38;5;241m=\u001B[39m \u001B[43mdata_cond\u001B[49m\u001B[43m[\u001B[49m\u001B[43mNEUTRON_PROTON_PHOTON_SUM_COLS\u001B[49m\u001B[43m]\u001B[49m\n",
      "File \u001B[1;32m~\\.conda\\envs\\tf\\lib\\site-packages\\pandas\\core\\frame.py:3813\u001B[0m, in \u001B[0;36mDataFrame.__getitem__\u001B[1;34m(self, key)\u001B[0m\n\u001B[0;32m   3811\u001B[0m     \u001B[38;5;28;01mif\u001B[39;00m is_iterator(key):\n\u001B[0;32m   3812\u001B[0m         key \u001B[38;5;241m=\u001B[39m \u001B[38;5;28mlist\u001B[39m(key)\n\u001B[1;32m-> 3813\u001B[0m     indexer \u001B[38;5;241m=\u001B[39m \u001B[38;5;28;43mself\u001B[39;49m\u001B[38;5;241;43m.\u001B[39;49m\u001B[43mcolumns\u001B[49m\u001B[38;5;241;43m.\u001B[39;49m\u001B[43m_get_indexer_strict\u001B[49m\u001B[43m(\u001B[49m\u001B[43mkey\u001B[49m\u001B[43m,\u001B[49m\u001B[43m \u001B[49m\u001B[38;5;124;43m\"\u001B[39;49m\u001B[38;5;124;43mcolumns\u001B[39;49m\u001B[38;5;124;43m\"\u001B[39;49m\u001B[43m)\u001B[49m[\u001B[38;5;241m1\u001B[39m]\n\u001B[0;32m   3815\u001B[0m \u001B[38;5;66;03m# take() does not accept boolean indexers\u001B[39;00m\n\u001B[0;32m   3816\u001B[0m \u001B[38;5;28;01mif\u001B[39;00m \u001B[38;5;28mgetattr\u001B[39m(indexer, \u001B[38;5;124m\"\u001B[39m\u001B[38;5;124mdtype\u001B[39m\u001B[38;5;124m\"\u001B[39m, \u001B[38;5;28;01mNone\u001B[39;00m) \u001B[38;5;241m==\u001B[39m \u001B[38;5;28mbool\u001B[39m:\n",
      "File \u001B[1;32m~\\.conda\\envs\\tf\\lib\\site-packages\\pandas\\core\\indexes\\base.py:6070\u001B[0m, in \u001B[0;36mIndex._get_indexer_strict\u001B[1;34m(self, key, axis_name)\u001B[0m\n\u001B[0;32m   6067\u001B[0m \u001B[38;5;28;01melse\u001B[39;00m:\n\u001B[0;32m   6068\u001B[0m     keyarr, indexer, new_indexer \u001B[38;5;241m=\u001B[39m \u001B[38;5;28mself\u001B[39m\u001B[38;5;241m.\u001B[39m_reindex_non_unique(keyarr)\n\u001B[1;32m-> 6070\u001B[0m \u001B[38;5;28;43mself\u001B[39;49m\u001B[38;5;241;43m.\u001B[39;49m\u001B[43m_raise_if_missing\u001B[49m\u001B[43m(\u001B[49m\u001B[43mkeyarr\u001B[49m\u001B[43m,\u001B[49m\u001B[43m \u001B[49m\u001B[43mindexer\u001B[49m\u001B[43m,\u001B[49m\u001B[43m \u001B[49m\u001B[43maxis_name\u001B[49m\u001B[43m)\u001B[49m\n\u001B[0;32m   6072\u001B[0m keyarr \u001B[38;5;241m=\u001B[39m \u001B[38;5;28mself\u001B[39m\u001B[38;5;241m.\u001B[39mtake(indexer)\n\u001B[0;32m   6073\u001B[0m \u001B[38;5;28;01mif\u001B[39;00m \u001B[38;5;28misinstance\u001B[39m(key, Index):\n\u001B[0;32m   6074\u001B[0m     \u001B[38;5;66;03m# GH 42790 - Preserve name from an Index\u001B[39;00m\n",
      "File \u001B[1;32m~\\.conda\\envs\\tf\\lib\\site-packages\\pandas\\core\\indexes\\base.py:6133\u001B[0m, in \u001B[0;36mIndex._raise_if_missing\u001B[1;34m(self, key, indexer, axis_name)\u001B[0m\n\u001B[0;32m   6130\u001B[0m     \u001B[38;5;28;01mraise\u001B[39;00m \u001B[38;5;167;01mKeyError\u001B[39;00m(\u001B[38;5;124mf\u001B[39m\u001B[38;5;124m\"\u001B[39m\u001B[38;5;124mNone of [\u001B[39m\u001B[38;5;132;01m{\u001B[39;00mkey\u001B[38;5;132;01m}\u001B[39;00m\u001B[38;5;124m] are in the [\u001B[39m\u001B[38;5;132;01m{\u001B[39;00maxis_name\u001B[38;5;132;01m}\u001B[39;00m\u001B[38;5;124m]\u001B[39m\u001B[38;5;124m\"\u001B[39m)\n\u001B[0;32m   6132\u001B[0m not_found \u001B[38;5;241m=\u001B[39m \u001B[38;5;28mlist\u001B[39m(ensure_index(key)[missing_mask\u001B[38;5;241m.\u001B[39mnonzero()[\u001B[38;5;241m0\u001B[39m]]\u001B[38;5;241m.\u001B[39munique())\n\u001B[1;32m-> 6133\u001B[0m \u001B[38;5;28;01mraise\u001B[39;00m \u001B[38;5;167;01mKeyError\u001B[39;00m(\u001B[38;5;124mf\u001B[39m\u001B[38;5;124m\"\u001B[39m\u001B[38;5;132;01m{\u001B[39;00mnot_found\u001B[38;5;132;01m}\u001B[39;00m\u001B[38;5;124m not in index\u001B[39m\u001B[38;5;124m\"\u001B[39m)\n",
      "\u001B[1;31mKeyError\u001B[0m: \"['neutron_photon_sum'] not in index\""
     ]
    }
   ],
   "source": [
    "NEUTRON_PROTON_PHOTON_SUM_COLS = ['neutron_photon_sum', 'proton_photon_sum']\n",
    "neutron_proton_photon_sum_data = data_cond[NEUTRON_PROTON_PHOTON_SUM_COLS]"
   ]
  },
  {
   "cell_type": "code",
   "execution_count": 6,
   "outputs": [],
   "source": [
    "data_cond.drop(columns=['proton_photon_sum'], inplace=True)"
   ],
   "metadata": {
    "collapsed": false,
    "pycharm": {
     "name": "#%%\n"
    }
   }
  },
  {
   "cell_type": "code",
   "execution_count": null,
   "metadata": {
    "pycharm": {
     "name": "#%%\n"
    }
   },
   "outputs": [],
   "source": [
    "# drop unnecessary columns\n",
    "data_cond.drop(columns=['neutron_photon_sum', 'proton_photon_sum'], inplace=True)"
   ]
  },
  {
   "cell_type": "code",
   "execution_count": 7,
   "metadata": {
    "pycharm": {
     "name": "#%%\n"
    }
   },
   "outputs": [],
   "source": [
    "CONDITIONAL_COLS = list(data_cond.columns)\n",
    "CONDITIONAL_COLS"
   ]
  },
  {
   "cell_type": "markdown",
   "metadata": {
    "pycharm": {
     "name": "#%% md\n"
    }
   },
   "source": [
    "1. Flatten the proton responses dataset from shape (56, 30) to (1680, 1)"
   ]
  },
  {
   "cell_type": "code",
   "execution_count": 8,
   "metadata": {
    "pycharm": {
     "name": "#%%\n"
    }
   },
   "outputs": [],
   "source": [
    "flatten_responses = pd.DataFrame(data.reshape(len(data), -1))\n",
    "flatten_responses.shape"
   ]
  },
  {
   "cell_type": "markdown",
   "metadata": {
    "pycharm": {
     "name": "#%% md\n"
    }
   },
   "source": [
    "2. Concatenate as columns flatten dataset to each conditional row "
   ]
  },
  {
   "cell_type": "code",
   "execution_count": 9,
   "metadata": {
    "pycharm": {
     "name": "#%%\n"
    }
   },
   "outputs": [],
   "source": [
    "data_all = pd.concat([data_cond, flatten_responses], axis=1)\n",
    "data_all.head()"
   ]
  },
  {
   "cell_type": "markdown",
   "metadata": {
    "pycharm": {
     "name": "#%% md\n"
    }
   },
   "source": [
    "3. Groupby each unique combination of conditional data and calculate standard deviation for each pixel in the grouped data"
   ]
  },
  {
   "cell_type": "code",
   "execution_count": 10,
   "metadata": {
    "pycharm": {
     "name": "#%%\n"
    }
   },
   "outputs": [],
   "source": [
    "stddev_group = data_all.groupby(CONDITIONAL_COLS).transform(lambda x: np.std(x))\n",
    "groups_numbers = data_all.groupby(CONDITIONAL_COLS).ngroup()\n",
    "stddev_group.head()"
   ]
  },
  {
   "cell_type": "code",
   "execution_count": 11,
   "metadata": {
    "pycharm": {
     "name": "#%%\n"
    }
   },
   "outputs": [],
   "source": [
    "group_sizes = data_all.groupby(CONDITIONAL_COLS).size().reset_index(name='Count')"
   ]
  },
  {
   "cell_type": "code",
   "execution_count": 27,
   "metadata": {
    "pycharm": {
     "name": "#%%\n"
    }
   },
   "outputs": [
    {
     "data": {
      "image/png": "[encoded data removed]",
      "text/plain": [
       "<Figure size 640x480 with 1 Axes>"
      ]
     },
     "metadata": {},
     "output_type": "display_data"
    }
   ],
   "source": [
    "sns.histplot(data=group_sizes, x='Count', bins=100)\n",
    "plt.xlabel('Group size')\n",
    "plt.ylabel('Frequency')\n",
    "plt.show()"
   ]
  },
  {
   "cell_type": "code",
   "execution_count": 12,
   "metadata": {
    "pycharm": {
     "name": "#%%\n"
    }
   },
   "outputs": [],
   "source": [
    "groups_numbers.head(), groups_numbers.min(), groups_numbers.max()"
   ]
  },
  {
   "cell_type": "markdown",
   "metadata": {
    "pycharm": {
     "name": "#%% md\n"
    }
   },
   "source": [
    "4. Calculate sum of stddevs of pixels"
   ]
  },
  {
   "cell_type": "code",
   "execution_count": 13,
   "metadata": {
    "pycharm": {
     "name": "#%%\n"
    }
   },
   "outputs": [],
   "source": [
    "sum_pixels = stddev_group.sum(axis=1)\n",
    "sum_pixels.shape, sum_pixels.head()"
   ]
  },
  {
   "cell_type": "code",
   "execution_count": 14,
   "metadata": {
    "pycharm": {
     "name": "#%%\n"
    }
   },
   "outputs": [],
   "source": [
    "assert data_cond.shape[0] == sum_pixels.shape[0]"
   ]
  },
  {
   "cell_type": "markdown",
   "metadata": {
    "pycharm": {
     "name": "#%% md\n"
    }
   },
   "source": [
    "5. Divide sum of stddevs by maximum value to normalize it"
   ]
  },
  {
   "cell_type": "code",
   "execution_count": 15,
   "metadata": {
    "pycharm": {
     "name": "#%%\n"
    }
   },
   "outputs": [],
   "source": [
    "normalized_stddevs = sum_pixels/sum_pixels.max()"
   ]
  },
  {
   "cell_type": "markdown",
   "metadata": {
    "pycharm": {
     "name": "#%% md\n"
    }
   },
   "source": [
    "6. Assign calclations to each conditional data"
   ]
  },
  {
   "cell_type": "code",
   "execution_count": 16,
   "metadata": {
    "pycharm": {
     "name": "#%%\n"
    }
   },
   "outputs": [],
   "source": [
    "data_cond['std'] = normalized_stddevs"
   ]
  },
  {
   "cell_type": "code",
   "execution_count": 17,
   "metadata": {
    "pycharm": {
     "name": "#%%\n"
    }
   },
   "outputs": [],
   "source": [
    "data_cond.head()"
   ]
  },
  {
   "cell_type": "markdown",
   "metadata": {
    "pycharm": {
     "name": "#%% md\n"
    }
   },
   "source": [
    "#### Add informative columns "
   ]
  },
  {
   "cell_type": "code",
   "execution_count": 62,
   "metadata": {
    "pycharm": {
     "name": "#%%\n"
    }
   },
   "outputs": [],
   "source": [
    "data_cond[NEUTRON_PROTON_PHOTON_SUM_COLS] = neutron_proton_photon_sum_data"
   ]
  },
  {
   "cell_type": "code",
   "execution_count": 70,
   "metadata": {
    "pycharm": {
     "name": "#%%\n"
    }
   },
   "outputs": [],
   "source": [
    "data_cond['group_number'] = groups_numbers"
   ]
  },
  {
   "cell_type": "code",
   "execution_count": 71,
   "metadata": {
    "pycharm": {
     "name": "#%%\n"
    }
   },
   "outputs": [
    {
     "data": {
      "text/html": [
       "<div>\n",
       "<style scoped>\n",
       "    .dataframe tbody tr th:only-of-type {\n",
       "        vertical-align: middle;\n",
       "    }\n",
       "\n",
       "    .dataframe tbody tr th {\n",
       "        vertical-align: top;\n",
       "    }\n",
       "\n",
       "    .dataframe thead th {\n",
       "        text-align: right;\n",
       "    }\n",
       "</style>\n",
       "<table border=\"1\" class=\"dataframe\">\n",
       "  <thead>\n",
       "    <tr style=\"text-align: right;\">\n",
       "      <th></th>\n",
       "      <th>Energy</th>\n",
       "      <th>Vx</th>\n",
       "      <th>Vy</th>\n",
       "      <th>Vz</th>\n",
       "      <th>Px</th>\n",
       "      <th>Py</th>\n",
       "      <th>Pz</th>\n",
       "      <th>mass</th>\n",
       "      <th>charge</th>\n",
       "      <th>std</th>\n",
       "      <th>neutron_photon_sum</th>\n",
       "      <th>proton_photon_sum</th>\n",
       "      <th>group_number</th>\n",
       "    </tr>\n",
       "  </thead>\n",
       "  <tbody>\n",
       "    <tr>\n",
       "      <th>0</th>\n",
       "      <td>3192.38</td>\n",
       "      <td>0.000000e+00</td>\n",
       "      <td>0.000000e+00</td>\n",
       "      <td>0.000000e+00</td>\n",
       "      <td>0.022422</td>\n",
       "      <td>-0.182957</td>\n",
       "      <td>-3192.38</td>\n",
       "      <td>939.565413</td>\n",
       "      <td>0.0</td>\n",
       "      <td>0.076311</td>\n",
       "      <td>1256.0</td>\n",
       "      <td>16.0</td>\n",
       "      <td>316</td>\n",
       "    </tr>\n",
       "    <tr>\n",
       "      <th>1</th>\n",
       "      <td>3961.55</td>\n",
       "      <td>0.000000e+00</td>\n",
       "      <td>0.000000e+00</td>\n",
       "      <td>0.000000e+00</td>\n",
       "      <td>-0.076487</td>\n",
       "      <td>0.179845</td>\n",
       "      <td>3961.55</td>\n",
       "      <td>938.272081</td>\n",
       "      <td>1.0</td>\n",
       "      <td>0.479201</td>\n",
       "      <td>55.0</td>\n",
       "      <td>1195.0</td>\n",
       "      <td>366</td>\n",
       "    </tr>\n",
       "    <tr>\n",
       "      <th>2</th>\n",
       "      <td>2770.10</td>\n",
       "      <td>1.861170e-17</td>\n",
       "      <td>2.517190e-17</td>\n",
       "      <td>-1.689330e-13</td>\n",
       "      <td>0.305187</td>\n",
       "      <td>0.412760</td>\n",
       "      <td>-2770.10</td>\n",
       "      <td>497.611000</td>\n",
       "      <td>0.0</td>\n",
       "      <td>0.090233</td>\n",
       "      <td>1122.0</td>\n",
       "      <td>23.0</td>\n",
       "      <td>280</td>\n",
       "    </tr>\n",
       "    <tr>\n",
       "      <th>3</th>\n",
       "      <td>3195.12</td>\n",
       "      <td>0.000000e+00</td>\n",
       "      <td>0.000000e+00</td>\n",
       "      <td>0.000000e+00</td>\n",
       "      <td>0.560528</td>\n",
       "      <td>-0.149980</td>\n",
       "      <td>3195.11</td>\n",
       "      <td>938.272081</td>\n",
       "      <td>1.0</td>\n",
       "      <td>0.131331</td>\n",
       "      <td>230.0</td>\n",
       "      <td>78.0</td>\n",
       "      <td>317</td>\n",
       "    </tr>\n",
       "    <tr>\n",
       "      <th>4</th>\n",
       "      <td>1714.07</td>\n",
       "      <td>0.000000e+00</td>\n",
       "      <td>0.000000e+00</td>\n",
       "      <td>0.000000e+00</td>\n",
       "      <td>0.457768</td>\n",
       "      <td>0.145639</td>\n",
       "      <td>-1714.07</td>\n",
       "      <td>939.565413</td>\n",
       "      <td>0.0</td>\n",
       "      <td>0.103628</td>\n",
       "      <td>655.0</td>\n",
       "      <td>34.0</td>\n",
       "      <td>165</td>\n",
       "    </tr>\n",
       "  </tbody>\n",
       "</table>\n",
       "</div>"
      ],
      "text/plain": [
       "    Energy            Vx            Vy            Vz        Px        Py  \\\n",
       "0  3192.38  0.000000e+00  0.000000e+00  0.000000e+00  0.022422 -0.182957   \n",
       "1  3961.55  0.000000e+00  0.000000e+00  0.000000e+00 -0.076487  0.179845   \n",
       "2  2770.10  1.861170e-17  2.517190e-17 -1.689330e-13  0.305187  0.412760   \n",
       "3  3195.12  0.000000e+00  0.000000e+00  0.000000e+00  0.560528 -0.149980   \n",
       "4  1714.07  0.000000e+00  0.000000e+00  0.000000e+00  0.457768  0.145639   \n",
       "\n",
       "        Pz        mass  charge       std  neutron_photon_sum  \\\n",
       "0 -3192.38  939.565413     0.0  0.076311              1256.0   \n",
       "1  3961.55  938.272081     1.0  0.479201                55.0   \n",
       "2 -2770.10  497.611000     0.0  0.090233              1122.0   \n",
       "3  3195.11  938.272081     1.0  0.131331               230.0   \n",
       "4 -1714.07  939.565413     0.0  0.103628               655.0   \n",
       "\n",
       "   proton_photon_sum  group_number  \n",
       "0               16.0           316  \n",
       "1             1195.0           366  \n",
       "2               23.0           280  \n",
       "3               78.0           317  \n",
       "4               34.0           165  "
      ]
     },
     "execution_count": 71,
     "metadata": {},
     "output_type": "execute_result"
    }
   ],
   "source": [
    "data_cond.head()"
   ]
  },
  {
   "cell_type": "markdown",
   "metadata": {
    "pycharm": {
     "name": "#%% md\n"
    }
   },
   "source": [
    "#### Save conditional dataset"
   ]
  },
  {
   "cell_type": "code",
   "execution_count": 20,
   "metadata": {
    "pycharm": {
     "name": "#%%\n"
    }
   },
   "outputs": [],
   "source": [
    "data_cond.to_pickle('../data/data_cond_photonsum_proton_18_2312.pkl')"
   ]
  },
  {
   "cell_type": "markdown",
   "source": [
    "## Non padded version - ALL SAMPLES PROTON"
   ],
   "metadata": {
    "collapsed": false,
    "pycharm": {
     "name": "#%% md\n"
    }
   }
  },
  {
   "cell_type": "markdown",
   "source": [
    "### Load data"
   ],
   "metadata": {
    "collapsed": false,
    "pycharm": {
     "name": "#%% md\n"
    }
   }
  },
  {
   "cell_type": "code",
   "execution_count": 3,
   "outputs": [],
   "source": [
    "DATA_DIR = \"../data/\"\n",
    "\n",
    "def load_proton_a_images(n=None):\n",
    "    data_a = pd.read_pickle(os.path.join(DATA_DIR, \"proton_images2a.pkl\"))\n",
    "    data_b = pd.read_pickle(os.path.join(DATA_DIR, \"proton_images2b.pkl\"))\n",
    "    data_c = pd.read_pickle(os.path.join(DATA_DIR, \"proton_images2c.pkl\"))\n",
    "    return np.r_[data_a, data_b, data_c][:n]\n",
    "\n",
    "def load_particle_data_a(n=None):\n",
    "    data_a = pd.read_pickle(os.path.join(DATA_DIR, \"particles_cond_with_mass2a.pkl\"))\n",
    "    data_b = pd.read_pickle(os.path.join(DATA_DIR, \"particles_cond_with_mass2b.pkl\"))\n",
    "    data_c = pd.read_pickle(os.path.join(DATA_DIR, \"particles_cond_with_mass2c.pkl\"))\n",
    "    return pd.concat([data_a, data_b, data_c], axis=0)[:n]"
   ],
   "metadata": {
    "collapsed": false,
    "pycharm": {
     "name": "#%%\n"
    }
   }
  },
  {
   "cell_type": "code",
   "execution_count": 6,
   "outputs": [
    {
     "name": "stdout",
     "output_type": "stream",
     "text": [
      "Loaded Proton:  (511810, 56, 30)\n",
      "Loaded cond:  (511810, 11)\n"
     ]
    }
   ],
   "source": [
    "N_SAMPLES_T0_LOAD = None\n",
    "\n",
    "data = load_proton_a_images(N_SAMPLES_T0_LOAD)\n",
    "print('Loaded Proton: ',  data.shape)\n",
    "\n",
    "data_cond = load_particle_data_a(N_SAMPLES_T0_LOAD)\n",
    "print('Loaded cond: ',  data_cond.shape)"
   ],
   "metadata": {
    "collapsed": false,
    "pycharm": {
     "name": "#%%\n"
    }
   }
  },
  {
   "cell_type": "code",
   "execution_count": 6,
   "outputs": [
    {
     "name": "stdout",
     "output_type": "stream",
     "text": [
      "Loaded Proton:  (344228, 56, 30)\n",
      "Loaded cond:  (344228, 10)\n"
     ]
    }
   ],
   "source": [
    "print('Loaded Proton: ',  data.shape)\n",
    "print('Loaded cond: ',  data_cond.shape)"
   ],
   "metadata": {
    "collapsed": false,
    "pycharm": {
     "name": "#%%\n"
    }
   }
  },
  {
   "cell_type": "code",
   "execution_count": 7,
   "outputs": [
    {
     "data": {
      "text/plain": "     Energy        Vx        Vy        Vz        Px        Py        Pz  \\\n0  1304.340 -0.000018  0.000016  0.050293 -0.509192  0.461106  1304.340   \n1   325.158  0.000000  0.000000  0.000000  0.269915 -0.081921   325.157   \n2  3192.380  0.000000  0.000000  0.000000  0.022422 -0.182957 -3192.380   \n3  2082.630  0.000000  0.000000  0.000000 -0.171176  0.281748  2082.630   \n4   174.401  0.000005  0.000002 -0.002588  0.292035  0.104749  -174.400   \n\n         mass  charge  std_proton  \n0    0.000000     0.0    0.057045  \n1  139.570610    -1.0    0.017925  \n2  939.565413     0.0    0.071715  \n3  938.272081     1.0    0.157685  \n4    0.000000     0.0    0.038993  ",
      "text/html": "<div>\n<style scoped>\n    .dataframe tbody tr th:only-of-type {\n        vertical-align: middle;\n    }\n\n    .dataframe tbody tr th {\n        vertical-align: top;\n    }\n\n    .dataframe thead th {\n        text-align: right;\n    }\n</style>\n<table border=\"1\" class=\"dataframe\">\n  <thead>\n    <tr style=\"text-align: right;\">\n      <th></th>\n      <th>Energy</th>\n      <th>Vx</th>\n      <th>Vy</th>\n      <th>Vz</th>\n      <th>Px</th>\n      <th>Py</th>\n      <th>Pz</th>\n      <th>mass</th>\n      <th>charge</th>\n      <th>std_proton</th>\n    </tr>\n  </thead>\n  <tbody>\n    <tr>\n      <th>0</th>\n      <td>1304.340</td>\n      <td>-0.000018</td>\n      <td>0.000016</td>\n      <td>0.050293</td>\n      <td>-0.509192</td>\n      <td>0.461106</td>\n      <td>1304.340</td>\n      <td>0.000000</td>\n      <td>0.0</td>\n      <td>0.057045</td>\n    </tr>\n    <tr>\n      <th>1</th>\n      <td>325.158</td>\n      <td>0.000000</td>\n      <td>0.000000</td>\n      <td>0.000000</td>\n      <td>0.269915</td>\n      <td>-0.081921</td>\n      <td>325.157</td>\n      <td>139.570610</td>\n      <td>-1.0</td>\n      <td>0.017925</td>\n    </tr>\n    <tr>\n      <th>2</th>\n      <td>3192.380</td>\n      <td>0.000000</td>\n      <td>0.000000</td>\n      <td>0.000000</td>\n      <td>0.022422</td>\n      <td>-0.182957</td>\n      <td>-3192.380</td>\n      <td>939.565413</td>\n      <td>0.0</td>\n      <td>0.071715</td>\n    </tr>\n    <tr>\n      <th>3</th>\n      <td>2082.630</td>\n      <td>0.000000</td>\n      <td>0.000000</td>\n      <td>0.000000</td>\n      <td>-0.171176</td>\n      <td>0.281748</td>\n      <td>2082.630</td>\n      <td>938.272081</td>\n      <td>1.0</td>\n      <td>0.157685</td>\n    </tr>\n    <tr>\n      <th>4</th>\n      <td>174.401</td>\n      <td>0.000005</td>\n      <td>0.000002</td>\n      <td>-0.002588</td>\n      <td>0.292035</td>\n      <td>0.104749</td>\n      <td>-174.400</td>\n      <td>0.000000</td>\n      <td>0.0</td>\n      <td>0.038993</td>\n    </tr>\n  </tbody>\n</table>\n</div>"
     },
     "execution_count": 7,
     "metadata": {},
     "output_type": "execute_result"
    }
   ],
   "source": [
    "data_cond.head()"
   ],
   "metadata": {
    "collapsed": false,
    "pycharm": {
     "name": "#%%\n"
    }
   }
  },
  {
   "cell_type": "code",
   "execution_count": 6,
   "outputs": [
    {
     "data": {
      "text/plain": "True"
     },
     "execution_count": 6,
     "metadata": {},
     "output_type": "execute_result"
    }
   ],
   "source": [
    "# data_cond.rename(columns={'PhotonSum': 'neutron_photon_sum'}, inplace=True)\n",
    "# data_cond.neutron_photon_sum = data_cond.neutron_photon_sum.astype(float)\n",
    "data_cond['proton_photon_sum'] = np.sum(data, axis=(1,2))\n",
    "# data_cond.drop(columns=['Pdg'], inplace=True)"
   ],
   "metadata": {
    "collapsed": false,
    "pycharm": {
     "name": "#%%\n"
    }
   }
  },
  {
   "cell_type": "code",
   "execution_count": 7,
   "outputs": [],
   "source": [
    "PROTON_PHOTON_SUM_COLS = ['proton_photon_sum']\n",
    "neutron_proton_photon_sum_data = data_cond[PROTON_PHOTON_SUM_COLS]"
   ],
   "metadata": {
    "collapsed": false,
    "pycharm": {
     "name": "#%%\n"
    }
   }
  },
  {
   "cell_type": "code",
   "execution_count": 9,
   "outputs": [],
   "source": [
    "# drop unnecessary columns\n",
    "data_cond.drop(columns=['proton_photon_sum'], inplace=True)"
   ],
   "metadata": {
    "collapsed": false,
    "pycharm": {
     "name": "#%%\n"
    }
   }
  },
  {
   "cell_type": "code",
   "execution_count": 10,
   "outputs": [
    {
     "data": {
      "text/plain": "['Energy', 'Vx', 'Vy', 'Vz', 'Px', 'Py', 'Pz', 'mass', 'charge']"
     },
     "execution_count": 10,
     "metadata": {},
     "output_type": "execute_result"
    }
   ],
   "source": [
    "CONDITIONAL_COLS = list(data_cond.columns)\n",
    "CONDITIONAL_COLS"
   ],
   "metadata": {
    "collapsed": false,
    "pycharm": {
     "name": "#%%\n"
    }
   }
  },
  {
   "cell_type": "markdown",
   "source": [
    "1. Flatten the proton responses dataset from shape (56, 30) to (1680, 1)"
   ],
   "metadata": {
    "collapsed": false,
    "pycharm": {
     "name": "#%% md\n"
    }
   }
  },
  {
   "cell_type": "code",
   "execution_count": 11,
   "outputs": [
    {
     "data": {
      "text/plain": "((186097, 1680), (186097, 9))"
     },
     "execution_count": 11,
     "metadata": {},
     "output_type": "execute_result"
    }
   ],
   "source": [
    "flatten_responses = pd.DataFrame(data.reshape(len(data), -1))\n",
    "flatten_responses.shape, data_cond.shape"
   ],
   "metadata": {
    "collapsed": false,
    "pycharm": {
     "name": "#%%\n"
    }
   }
  },
  {
   "cell_type": "markdown",
   "source": [
    "2. Concatenate as columns flatten dataset to each conditional row"
   ],
   "metadata": {
    "collapsed": false,
    "pycharm": {
     "name": "#%% md\n"
    }
   }
  },
  {
   "cell_type": "code",
   "execution_count": 12,
   "outputs": [
    {
     "data": {
      "text/plain": "     Energy        Vx        Vy        Vz        Px        Py        Pz  \\\n0  1304.340 -0.000018  0.000016  0.050293 -0.509192  0.461106  1304.340   \n1   325.158  0.000000  0.000000  0.000000  0.269915 -0.081921   325.157   \n2  3192.380  0.000000  0.000000  0.000000  0.022422 -0.182957 -3192.380   \n3  2082.630  0.000000  0.000000  0.000000 -0.171176  0.281748  2082.630   \n4   174.401  0.000005  0.000002 -0.002588  0.292035  0.104749  -174.400   \n\n         mass  charge    0  ...  1670  1671  1672  1673  1674  1675  1676  \\\n0    0.000000     0.0  0.0  ...   0.0   0.0   0.0   0.0   0.0   0.0   0.0   \n1  139.570610    -1.0  0.0  ...   0.0   0.0   0.0   0.0   0.0   0.0   0.0   \n2  939.565413     0.0  0.0  ...   0.0   0.0   0.0   0.0   0.0   0.0   0.0   \n3  938.272081     1.0  0.0  ...   0.0   0.0   0.0   0.0   0.0   0.0   0.0   \n4    0.000000     0.0  0.0  ...   0.0   0.0   0.0   0.0   0.0   0.0   0.0   \n\n   1677  1678  1679  \n0   0.0   0.0   0.0  \n1   0.0   0.0   0.0  \n2   0.0   0.0   0.0  \n3   0.0   0.0   0.0  \n4   0.0   0.0   0.0  \n\n[5 rows x 1689 columns]",
      "text/html": "<div>\n<style scoped>\n    .dataframe tbody tr th:only-of-type {\n        vertical-align: middle;\n    }\n\n    .dataframe tbody tr th {\n        vertical-align: top;\n    }\n\n    .dataframe thead th {\n        text-align: right;\n    }\n</style>\n<table border=\"1\" class=\"dataframe\">\n  <thead>\n    <tr style=\"text-align: right;\">\n      <th></th>\n      <th>Energy</th>\n      <th>Vx</th>\n      <th>Vy</th>\n      <th>Vz</th>\n      <th>Px</th>\n      <th>Py</th>\n      <th>Pz</th>\n      <th>mass</th>\n      <th>charge</th>\n      <th>0</th>\n      <th>...</th>\n      <th>1670</th>\n      <th>1671</th>\n      <th>1672</th>\n      <th>1673</th>\n      <th>1674</th>\n      <th>1675</th>\n      <th>1676</th>\n      <th>1677</th>\n      <th>1678</th>\n      <th>1679</th>\n    </tr>\n  </thead>\n  <tbody>\n    <tr>\n      <th>0</th>\n      <td>1304.340</td>\n      <td>-0.000018</td>\n      <td>0.000016</td>\n      <td>0.050293</td>\n      <td>-0.509192</td>\n      <td>0.461106</td>\n      <td>1304.340</td>\n      <td>0.000000</td>\n      <td>0.0</td>\n      <td>0.0</td>\n      <td>...</td>\n      <td>0.0</td>\n      <td>0.0</td>\n      <td>0.0</td>\n      <td>0.0</td>\n      <td>0.0</td>\n      <td>0.0</td>\n      <td>0.0</td>\n      <td>0.0</td>\n      <td>0.0</td>\n      <td>0.0</td>\n    </tr>\n    <tr>\n      <th>1</th>\n      <td>325.158</td>\n      <td>0.000000</td>\n      <td>0.000000</td>\n      <td>0.000000</td>\n      <td>0.269915</td>\n      <td>-0.081921</td>\n      <td>325.157</td>\n      <td>139.570610</td>\n      <td>-1.0</td>\n      <td>0.0</td>\n      <td>...</td>\n      <td>0.0</td>\n      <td>0.0</td>\n      <td>0.0</td>\n      <td>0.0</td>\n      <td>0.0</td>\n      <td>0.0</td>\n      <td>0.0</td>\n      <td>0.0</td>\n      <td>0.0</td>\n      <td>0.0</td>\n    </tr>\n    <tr>\n      <th>2</th>\n      <td>3192.380</td>\n      <td>0.000000</td>\n      <td>0.000000</td>\n      <td>0.000000</td>\n      <td>0.022422</td>\n      <td>-0.182957</td>\n      <td>-3192.380</td>\n      <td>939.565413</td>\n      <td>0.0</td>\n      <td>0.0</td>\n      <td>...</td>\n      <td>0.0</td>\n      <td>0.0</td>\n      <td>0.0</td>\n      <td>0.0</td>\n      <td>0.0</td>\n      <td>0.0</td>\n      <td>0.0</td>\n      <td>0.0</td>\n      <td>0.0</td>\n      <td>0.0</td>\n    </tr>\n    <tr>\n      <th>3</th>\n      <td>2082.630</td>\n      <td>0.000000</td>\n      <td>0.000000</td>\n      <td>0.000000</td>\n      <td>-0.171176</td>\n      <td>0.281748</td>\n      <td>2082.630</td>\n      <td>938.272081</td>\n      <td>1.0</td>\n      <td>0.0</td>\n      <td>...</td>\n      <td>0.0</td>\n      <td>0.0</td>\n      <td>0.0</td>\n      <td>0.0</td>\n      <td>0.0</td>\n      <td>0.0</td>\n      <td>0.0</td>\n      <td>0.0</td>\n      <td>0.0</td>\n      <td>0.0</td>\n    </tr>\n    <tr>\n      <th>4</th>\n      <td>174.401</td>\n      <td>0.000005</td>\n      <td>0.000002</td>\n      <td>-0.002588</td>\n      <td>0.292035</td>\n      <td>0.104749</td>\n      <td>-174.400</td>\n      <td>0.000000</td>\n      <td>0.0</td>\n      <td>0.0</td>\n      <td>...</td>\n      <td>0.0</td>\n      <td>0.0</td>\n      <td>0.0</td>\n      <td>0.0</td>\n      <td>0.0</td>\n      <td>0.0</td>\n      <td>0.0</td>\n      <td>0.0</td>\n      <td>0.0</td>\n      <td>0.0</td>\n    </tr>\n  </tbody>\n</table>\n<p>5 rows × 1689 columns</p>\n</div>"
     },
     "execution_count": 12,
     "metadata": {},
     "output_type": "execute_result"
    }
   ],
   "source": [
    "data_all = pd.concat([data_cond, flatten_responses], axis=1)\n",
    "data_all.head()"
   ],
   "metadata": {
    "collapsed": false,
    "pycharm": {
     "name": "#%%\n"
    }
   }
  },
  {
   "cell_type": "code",
   "execution_count": 13,
   "outputs": [
    {
     "data": {
      "text/plain": "(186097, 1689)"
     },
     "execution_count": 13,
     "metadata": {},
     "output_type": "execute_result"
    }
   ],
   "source": [
    "data_all.shape"
   ],
   "metadata": {
    "collapsed": false,
    "pycharm": {
     "name": "#%%\n"
    }
   }
  },
  {
   "cell_type": "markdown",
   "source": [
    "3. Groupby each unique combination of conditional data and calculate standard deviation for each pixel in the grouped data"
   ],
   "metadata": {
    "collapsed": false,
    "pycharm": {
     "name": "#%% md\n"
    }
   }
  },
  {
   "cell_type": "code",
   "execution_count": 14,
   "outputs": [
    {
     "data": {
      "text/plain": "       0         1         2         3         4         5         6     \\\n0  0.160535  0.154378  0.176905  0.086064  0.074604  0.060971  0.128920   \n1  0.000000  0.000000  0.000000  0.000000  0.000000  0.203931  0.000000   \n2  0.246595  0.209753  0.239875  0.213576  0.232409  0.239041  0.229779   \n3  0.101268  0.175096  0.247406  0.175096  0.160203  0.101268  0.101268   \n4  0.000000  0.000000  0.000000  0.000000  0.000000  0.000000  0.000000   \n\n       7         8         9     ...      1670      1671      1672  1673  \\\n0  0.136386  0.105538  0.043153  ...  0.000000  0.043153  0.000000   0.0   \n1  0.000000  0.000000  0.000000  ...  0.000000  0.000000  0.000000   0.0   \n2  0.283730  0.246103  0.277594  ...  0.036515  0.000000  0.000000   0.0   \n3  0.143590  0.000000  0.101268  ...  0.101268  0.000000  0.101268   0.0   \n4  0.000000  0.036179  0.000000  ...  0.000000  0.000000  0.000000   0.0   \n\n       1674      1675      1676      1677      1678      1679  \n0  0.000000  0.000000  0.043153  0.043153  0.000000  0.086306  \n1  0.000000  0.000000  0.000000  0.000000  0.000000  0.000000  \n2  0.000000  0.000000  0.000000  0.000000  0.000000  0.036515  \n3  0.160203  0.071795  0.303805  0.160203  0.276414  0.287179  \n4  0.000000  0.000000  0.000000  0.000000  0.000000  0.000000  \n\n[5 rows x 1680 columns]",
      "text/html": "<div>\n<style scoped>\n    .dataframe tbody tr th:only-of-type {\n        vertical-align: middle;\n    }\n\n    .dataframe tbody tr th {\n        vertical-align: top;\n    }\n\n    .dataframe thead th {\n        text-align: right;\n    }\n</style>\n<table border=\"1\" class=\"dataframe\">\n  <thead>\n    <tr style=\"text-align: right;\">\n      <th></th>\n      <th>0</th>\n      <th>1</th>\n      <th>2</th>\n      <th>3</th>\n      <th>4</th>\n      <th>5</th>\n      <th>6</th>\n      <th>7</th>\n      <th>8</th>\n      <th>9</th>\n      <th>...</th>\n      <th>1670</th>\n      <th>1671</th>\n      <th>1672</th>\n      <th>1673</th>\n      <th>1674</th>\n      <th>1675</th>\n      <th>1676</th>\n      <th>1677</th>\n      <th>1678</th>\n      <th>1679</th>\n    </tr>\n  </thead>\n  <tbody>\n    <tr>\n      <th>0</th>\n      <td>0.160535</td>\n      <td>0.154378</td>\n      <td>0.176905</td>\n      <td>0.086064</td>\n      <td>0.074604</td>\n      <td>0.060971</td>\n      <td>0.128920</td>\n      <td>0.136386</td>\n      <td>0.105538</td>\n      <td>0.043153</td>\n      <td>...</td>\n      <td>0.000000</td>\n      <td>0.043153</td>\n      <td>0.000000</td>\n      <td>0.0</td>\n      <td>0.000000</td>\n      <td>0.000000</td>\n      <td>0.043153</td>\n      <td>0.043153</td>\n      <td>0.000000</td>\n      <td>0.086306</td>\n    </tr>\n    <tr>\n      <th>1</th>\n      <td>0.000000</td>\n      <td>0.000000</td>\n      <td>0.000000</td>\n      <td>0.000000</td>\n      <td>0.000000</td>\n      <td>0.203931</td>\n      <td>0.000000</td>\n      <td>0.000000</td>\n      <td>0.000000</td>\n      <td>0.000000</td>\n      <td>...</td>\n      <td>0.000000</td>\n      <td>0.000000</td>\n      <td>0.000000</td>\n      <td>0.0</td>\n      <td>0.000000</td>\n      <td>0.000000</td>\n      <td>0.000000</td>\n      <td>0.000000</td>\n      <td>0.000000</td>\n      <td>0.000000</td>\n    </tr>\n    <tr>\n      <th>2</th>\n      <td>0.246595</td>\n      <td>0.209753</td>\n      <td>0.239875</td>\n      <td>0.213576</td>\n      <td>0.232409</td>\n      <td>0.239041</td>\n      <td>0.229779</td>\n      <td>0.283730</td>\n      <td>0.246103</td>\n      <td>0.277594</td>\n      <td>...</td>\n      <td>0.036515</td>\n      <td>0.000000</td>\n      <td>0.000000</td>\n      <td>0.0</td>\n      <td>0.000000</td>\n      <td>0.000000</td>\n      <td>0.000000</td>\n      <td>0.000000</td>\n      <td>0.000000</td>\n      <td>0.036515</td>\n    </tr>\n    <tr>\n      <th>3</th>\n      <td>0.101268</td>\n      <td>0.175096</td>\n      <td>0.247406</td>\n      <td>0.175096</td>\n      <td>0.160203</td>\n      <td>0.101268</td>\n      <td>0.101268</td>\n      <td>0.143590</td>\n      <td>0.000000</td>\n      <td>0.101268</td>\n      <td>...</td>\n      <td>0.101268</td>\n      <td>0.000000</td>\n      <td>0.101268</td>\n      <td>0.0</td>\n      <td>0.160203</td>\n      <td>0.071795</td>\n      <td>0.303805</td>\n      <td>0.160203</td>\n      <td>0.276414</td>\n      <td>0.287179</td>\n    </tr>\n    <tr>\n      <th>4</th>\n      <td>0.000000</td>\n      <td>0.000000</td>\n      <td>0.000000</td>\n      <td>0.000000</td>\n      <td>0.000000</td>\n      <td>0.000000</td>\n      <td>0.000000</td>\n      <td>0.000000</td>\n      <td>0.036179</td>\n      <td>0.000000</td>\n      <td>...</td>\n      <td>0.000000</td>\n      <td>0.000000</td>\n      <td>0.000000</td>\n      <td>0.0</td>\n      <td>0.000000</td>\n      <td>0.000000</td>\n      <td>0.000000</td>\n      <td>0.000000</td>\n      <td>0.000000</td>\n      <td>0.000000</td>\n    </tr>\n  </tbody>\n</table>\n<p>5 rows × 1680 columns</p>\n</div>"
     },
     "execution_count": 14,
     "metadata": {},
     "output_type": "execute_result"
    }
   ],
   "source": [
    "stddev_group = data_all.groupby(CONDITIONAL_COLS).transform(lambda x: np.std(x))\n",
    "groups_numbers = data_all.groupby(CONDITIONAL_COLS).ngroup()\n",
    "stddev_group.head()"
   ],
   "metadata": {
    "collapsed": false,
    "pycharm": {
     "name": "#%%\n"
    }
   }
  },
  {
   "cell_type": "code",
   "execution_count": 15,
   "outputs": [],
   "source": [
    "group_sizes = data_all.groupby(CONDITIONAL_COLS).size().reset_index(name='Count')"
   ],
   "metadata": {
    "collapsed": false,
    "pycharm": {
     "name": "#%%\n"
    }
   }
  },
  {
   "cell_type": "code",
   "execution_count": 16,
   "outputs": [
    {
     "data": {
      "text/plain": "<Figure size 640x480 with 1 Axes>",
      "image/png": "[encoded data removed]"
     },
     "metadata": {},
     "output_type": "display_data"
    }
   ],
   "source": [
    "sns.histplot(data=group_sizes, x='Count', bins=100)\n",
    "plt.xlabel('Group size')\n",
    "plt.ylabel('Frequency')\n",
    "plt.yscale('log')\n",
    "plt.show()"
   ],
   "metadata": {
    "collapsed": false,
    "pycharm": {
     "name": "#%%\n"
    }
   }
  },
  {
   "cell_type": "code",
   "execution_count": 16,
   "outputs": [
    {
     "data": {
      "text/plain": "(0    5879\n 1    4268\n 2    6374\n 3    6191\n 4    3030\n dtype: int64,\n 0,\n 6504)"
     },
     "execution_count": 16,
     "metadata": {},
     "output_type": "execute_result"
    }
   ],
   "source": [
    "groups_numbers.head(), groups_numbers.min(), groups_numbers.max()"
   ],
   "metadata": {
    "collapsed": false,
    "pycharm": {
     "name": "#%%\n"
    }
   }
  },
  {
   "cell_type": "markdown",
   "source": [
    "4. Calculate sum of stddevs of pixels"
   ],
   "metadata": {
    "collapsed": false,
    "pycharm": {
     "name": "#%% md\n"
    }
   }
  },
  {
   "cell_type": "code",
   "execution_count": 17,
   "outputs": [
    {
     "data": {
      "text/plain": "((186097,),\n 0    118.213370\n 1     40.681246\n 2    138.392162\n 3    371.042141\n 4     74.736157\n dtype: float64)"
     },
     "execution_count": 17,
     "metadata": {},
     "output_type": "execute_result"
    }
   ],
   "source": [
    "sum_pixels = stddev_group.sum(axis=1)\n",
    "sum_pixels.shape, sum_pixels.head()"
   ],
   "metadata": {
    "collapsed": false,
    "pycharm": {
     "name": "#%%\n"
    }
   }
  },
  {
   "cell_type": "code",
   "execution_count": 18,
   "outputs": [
    {
     "data": {
      "text/plain": "186097"
     },
     "execution_count": 18,
     "metadata": {},
     "output_type": "execute_result"
    }
   ],
   "source": [
    "sum_pixels.shape[0]"
   ],
   "metadata": {
    "collapsed": false,
    "pycharm": {
     "name": "#%%\n"
    }
   }
  },
  {
   "cell_type": "code",
   "execution_count": 19,
   "outputs": [],
   "source": [
    "assert data_cond.shape[0] == sum_pixels.shape[0]"
   ],
   "metadata": {
    "collapsed": false,
    "pycharm": {
     "name": "#%%\n"
    }
   }
  },
  {
   "cell_type": "markdown",
   "source": [
    "5. Divide sum of stddevs by maximum value to normalize it"
   ],
   "metadata": {
    "collapsed": false,
    "pycharm": {
     "name": "#%% md\n"
    }
   }
  },
  {
   "cell_type": "code",
   "execution_count": 20,
   "outputs": [],
   "source": [
    "normalized_stddevs = sum_pixels/sum_pixels.max()"
   ],
   "metadata": {
    "collapsed": false,
    "pycharm": {
     "name": "#%%\n"
    }
   }
  },
  {
   "cell_type": "code",
   "execution_count": 21,
   "outputs": [
    {
     "data": {
      "text/plain": "0         0.060663\n1         0.020876\n2         0.071018\n3         0.190404\n4         0.038352\n            ...   \n186092    0.023191\n186093    0.427253\n186094    0.263543\n186095    0.026345\n186096    0.482894\nLength: 186097, dtype: float64"
     },
     "execution_count": 21,
     "metadata": {},
     "output_type": "execute_result"
    }
   ],
   "source": [
    "normalized_stddevs"
   ],
   "metadata": {
    "collapsed": false,
    "pycharm": {
     "name": "#%%\n"
    }
   }
  },
  {
   "cell_type": "code",
   "execution_count": 22,
   "outputs": [
    {
     "data": {
      "text/plain": "(0.0, 1.0)"
     },
     "execution_count": 22,
     "metadata": {},
     "output_type": "execute_result"
    }
   ],
   "source": [
    "normalized_stddevs.min(), normalized_stddevs.max()"
   ],
   "metadata": {
    "collapsed": false,
    "pycharm": {
     "name": "#%%\n"
    }
   }
  },
  {
   "cell_type": "markdown",
   "source": [
    "6. Assign calclations to each conditional data"
   ],
   "metadata": {
    "collapsed": false,
    "pycharm": {
     "name": "#%% md\n"
    }
   }
  },
  {
   "cell_type": "code",
   "execution_count": 23,
   "outputs": [],
   "source": [
    "data_cond['std_proton'] = normalized_stddevs"
   ],
   "metadata": {
    "collapsed": false,
    "pycharm": {
     "name": "#%%\n"
    }
   }
  },
  {
   "cell_type": "code",
   "execution_count": 24,
   "outputs": [
    {
     "data": {
      "text/plain": "     Energy        Vx        Vy        Vz        Px        Py        Pz  \\\n0  1304.340 -0.000018  0.000016  0.050293 -0.509192  0.461106  1304.340   \n1   325.158  0.000000  0.000000  0.000000  0.269915 -0.081921   325.157   \n2  3192.380  0.000000  0.000000  0.000000  0.022422 -0.182957 -3192.380   \n3  2082.630  0.000000  0.000000  0.000000 -0.171176  0.281748  2082.630   \n4   174.401  0.000005  0.000002 -0.002588  0.292035  0.104749  -174.400   \n\n         mass  charge  std_proton  \n0    0.000000     0.0    0.060663  \n1  139.570610    -1.0    0.020876  \n2  939.565413     0.0    0.071018  \n3  938.272081     1.0    0.190404  \n4    0.000000     0.0    0.038352  ",
      "text/html": "<div>\n<style scoped>\n    .dataframe tbody tr th:only-of-type {\n        vertical-align: middle;\n    }\n\n    .dataframe tbody tr th {\n        vertical-align: top;\n    }\n\n    .dataframe thead th {\n        text-align: right;\n    }\n</style>\n<table border=\"1\" class=\"dataframe\">\n  <thead>\n    <tr style=\"text-align: right;\">\n      <th></th>\n      <th>Energy</th>\n      <th>Vx</th>\n      <th>Vy</th>\n      <th>Vz</th>\n      <th>Px</th>\n      <th>Py</th>\n      <th>Pz</th>\n      <th>mass</th>\n      <th>charge</th>\n      <th>std_proton</th>\n    </tr>\n  </thead>\n  <tbody>\n    <tr>\n      <th>0</th>\n      <td>1304.340</td>\n      <td>-0.000018</td>\n      <td>0.000016</td>\n      <td>0.050293</td>\n      <td>-0.509192</td>\n      <td>0.461106</td>\n      <td>1304.340</td>\n      <td>0.000000</td>\n      <td>0.0</td>\n      <td>0.060663</td>\n    </tr>\n    <tr>\n      <th>1</th>\n      <td>325.158</td>\n      <td>0.000000</td>\n      <td>0.000000</td>\n      <td>0.000000</td>\n      <td>0.269915</td>\n      <td>-0.081921</td>\n      <td>325.157</td>\n      <td>139.570610</td>\n      <td>-1.0</td>\n      <td>0.020876</td>\n    </tr>\n    <tr>\n      <th>2</th>\n      <td>3192.380</td>\n      <td>0.000000</td>\n      <td>0.000000</td>\n      <td>0.000000</td>\n      <td>0.022422</td>\n      <td>-0.182957</td>\n      <td>-3192.380</td>\n      <td>939.565413</td>\n      <td>0.0</td>\n      <td>0.071018</td>\n    </tr>\n    <tr>\n      <th>3</th>\n      <td>2082.630</td>\n      <td>0.000000</td>\n      <td>0.000000</td>\n      <td>0.000000</td>\n      <td>-0.171176</td>\n      <td>0.281748</td>\n      <td>2082.630</td>\n      <td>938.272081</td>\n      <td>1.0</td>\n      <td>0.190404</td>\n    </tr>\n    <tr>\n      <th>4</th>\n      <td>174.401</td>\n      <td>0.000005</td>\n      <td>0.000002</td>\n      <td>-0.002588</td>\n      <td>0.292035</td>\n      <td>0.104749</td>\n      <td>-174.400</td>\n      <td>0.000000</td>\n      <td>0.0</td>\n      <td>0.038352</td>\n    </tr>\n  </tbody>\n</table>\n</div>"
     },
     "execution_count": 24,
     "metadata": {},
     "output_type": "execute_result"
    }
   ],
   "source": [
    "data_cond.head()"
   ],
   "metadata": {
    "collapsed": false,
    "pycharm": {
     "name": "#%%\n"
    }
   }
  },
  {
   "cell_type": "code",
   "execution_count": 18,
   "outputs": [],
   "source": [
    "data_cond['proton_photon_sum'] = np.sum(data, axis=(1,2))"
   ],
   "metadata": {
    "collapsed": false,
    "pycharm": {
     "name": "#%%\n"
    }
   }
  },
  {
   "cell_type": "markdown",
   "source": [
    "#### Add informative columns"
   ],
   "metadata": {
    "collapsed": false,
    "pycharm": {
     "name": "#%% md\n"
    }
   }
  },
  {
   "cell_type": "code",
   "execution_count": 25,
   "outputs": [],
   "source": [
    "data_cond['group_number_proton'] = groups_numbers"
   ],
   "metadata": {
    "collapsed": false,
    "pycharm": {
     "name": "#%%\n"
    }
   }
  },
  {
   "cell_type": "code",
   "execution_count": 19,
   "outputs": [],
   "source": [
    "data_cond.head()"
   ],
   "metadata": {
    "collapsed": false,
    "pycharm": {
     "name": "#%%\n"
    }
   }
  },
  {
   "cell_type": "markdown",
   "metadata": {
    "pycharm": {
     "name": "#%% md\n"
    }
   },
   "source": [
    "## Version for 2 datasets"
   ]
  },
  {
   "cell_type": "markdown",
   "metadata": {
    "pycharm": {
     "name": "#%% md\n"
    }
   },
   "source": [
    "Basically the same opperation but the calcuation of std are done separately for each dataset (proton, neutron)."
   ]
  },
  {
   "cell_type": "code",
   "execution_count": 6,
   "metadata": {
    "pycharm": {
     "name": "#%%\n"
    }
   },
   "outputs": [
    {
     "name": "stdout",
     "output_type": "stream",
     "text": [
      "Loaded:  (48714, 56, 30) max: 678.0\n"
     ]
    }
   ],
   "source": [
    "data_proton = pd.read_pickle('../data/data_proton_photonsum_n_15_2133_p_15_3273.pkl')\n",
    "print('Loaded: ',  data_proton.shape, \"max:\", data_proton.max())"
   ]
  },
  {
   "cell_type": "code",
   "execution_count": 7,
   "metadata": {
    "pycharm": {
     "name": "#%%\n"
    }
   },
   "outputs": [
    {
     "name": "stdout",
     "output_type": "stream",
     "text": [
      "Loaded:  (48714, 44, 44) max: 532.0\n"
     ]
    }
   ],
   "source": [
    "data_neutron = pd.read_pickle('../data/data_neutron_photonsum_n_15_2133_p_15_3273.pkl')\n",
    "print('Loaded: ',  data_neutron.shape, \"max:\", data_neutron.max())"
   ]
  },
  {
   "cell_type": "code",
   "execution_count": 9,
   "metadata": {
    "collapsed": false,
    "jupyter": {
     "outputs_hidden": false
    },
    "pycharm": {
     "name": "#%%\n"
    }
   },
   "outputs": [
    {
     "name": "stdout",
     "output_type": "stream",
     "text": [
      "Loaded cond:  (48714, 12) max: 7000.0 min: -7000.0\n"
     ]
    }
   ],
   "source": [
    "data_cond = pd.read_pickle('../data/data_cond_photonsum_p_15_2133_n_15_3273.pkl')\n",
    "print('Loaded cond: ',  data_cond.shape, \"max:\", data_cond.values.max(), \"min:\", data_cond.values.min())"
   ]
  },
  {
   "cell_type": "code",
   "execution_count": 10,
   "metadata": {
    "pycharm": {
     "name": "#%%\n"
    }
   },
   "outputs": [],
   "source": [
    "NEUTRON_PROTON_PHOTON_SUM_COLS = ['neutron_photon_sum', 'proton_photon_sum']\n",
    "neutron_proton_photon_sum_data = data_cond[NEUTRON_PROTON_PHOTON_SUM_COLS]"
   ]
  },
  {
   "cell_type": "code",
   "execution_count": 11,
   "metadata": {
    "pycharm": {
     "name": "#%%\n"
    }
   },
   "outputs": [],
   "source": [
    "# drop unnecessary columns\n",
    "data_cond.drop(columns=['Pdg', 'neutron_photon_sum', 'proton_photon_sum'], inplace=True)"
   ]
  },
  {
   "cell_type": "code",
   "execution_count": 12,
   "metadata": {
    "pycharm": {
     "name": "#%%\n"
    }
   },
   "outputs": [
    {
     "data": {
      "text/plain": [
       "['Energy', 'Vx', 'Vy', 'Vz', 'Px', 'Py', 'Pz', 'mass', 'charge']"
      ]
     },
     "execution_count": 12,
     "metadata": {},
     "output_type": "execute_result"
    }
   ],
   "source": [
    "CONDITIONAL_COLS = list(data_cond.columns)\n",
    "CONDITIONAL_COLS"
   ]
  },
  {
   "cell_type": "markdown",
   "metadata": {
    "pycharm": {
     "name": "#%% md\n"
    }
   },
   "source": [
    "1. Flatten the proton responses dataset from shape (56, 30) and (44, 44) to (1680, 1), (1936, 1) and respectively"
   ]
  },
  {
   "cell_type": "code",
   "execution_count": 13,
   "metadata": {
    "pycharm": {
     "name": "#%%\n"
    }
   },
   "outputs": [
    {
     "data": {
      "text/plain": [
       "((48714, 1680), (48714, 1936))"
      ]
     },
     "execution_count": 13,
     "metadata": {},
     "output_type": "execute_result"
    }
   ],
   "source": [
    "flatten_responses_p = pd.DataFrame(data_proton.reshape(len(data_proton), -1))\n",
    "flatten_responses_n = pd.DataFrame(data_neutron.reshape(len(data_neutron), -1))\n",
    "flatten_responses_p.shape, flatten_responses_n.shape"
   ]
  },
  {
   "cell_type": "markdown",
   "metadata": {
    "pycharm": {
     "name": "#%% md\n"
    }
   },
   "source": [
    "2. Concatenate as columns flatten dataset to each conditional row "
   ]
  },
  {
   "cell_type": "code",
   "execution_count": 14,
   "metadata": {
    "pycharm": {
     "name": "#%%\n"
    }
   },
   "outputs": [
    {
     "data": {
      "text/plain": [
       "(    Energy            Vx            Vy            Vz        Px        Py  \\\n",
       " 0  3192.38  0.000000e+00  0.000000e+00  0.000000e+00  0.022422 -0.182957   \n",
       " 1  3961.55  0.000000e+00  0.000000e+00  0.000000e+00 -0.076487  0.179845   \n",
       " 2  2770.10  1.861170e-17  2.517190e-17 -1.689330e-13  0.305187  0.412760   \n",
       " 3  3195.12  0.000000e+00  0.000000e+00  0.000000e+00  0.560528 -0.149980   \n",
       " 4  1714.07  0.000000e+00  0.000000e+00  0.000000e+00  0.457768  0.145639   \n",
       " \n",
       "         Pz        mass  charge    0  ...  1670  1671  1672  1673  1674  1675  \\\n",
       " 0 -3192.38  939.565413     0.0  0.0  ...   0.0   0.0   0.0   0.0   0.0   0.0   \n",
       " 1  3961.55  938.272081     1.0  0.0  ...   0.0   0.0   0.0   0.0   0.0   0.0   \n",
       " 2 -2770.10  497.611000     0.0  0.0  ...   0.0   0.0   0.0   0.0   0.0   0.0   \n",
       " 3  3195.11  938.272081     1.0  0.0  ...   0.0   0.0   0.0   0.0   0.0   0.0   \n",
       " 4 -1714.07  939.565413     0.0  0.0  ...   0.0   0.0   0.0   0.0   0.0   0.0   \n",
       " \n",
       "    1676  1677  1678  1679  \n",
       " 0   0.0   0.0   0.0   0.0  \n",
       " 1   0.0   0.0   0.0   0.0  \n",
       " 2   0.0   0.0   0.0   0.0  \n",
       " 3   0.0   0.0   0.0   0.0  \n",
       " 4   0.0   0.0   0.0   0.0  \n",
       " \n",
       " [5 rows x 1689 columns],\n",
       "     Energy            Vx            Vy            Vz        Px        Py  \\\n",
       " 0  3192.38  0.000000e+00  0.000000e+00  0.000000e+00  0.022422 -0.182957   \n",
       " 1  3961.55  0.000000e+00  0.000000e+00  0.000000e+00 -0.076487  0.179845   \n",
       " 2  2770.10  1.861170e-17  2.517190e-17 -1.689330e-13  0.305187  0.412760   \n",
       " 3  3195.12  0.000000e+00  0.000000e+00  0.000000e+00  0.560528 -0.149980   \n",
       " 4  1714.07  0.000000e+00  0.000000e+00  0.000000e+00  0.457768  0.145639   \n",
       " \n",
       "         Pz        mass  charge    0  ...  1926  1927  1928  1929  1930  1931  \\\n",
       " 0 -3192.38  939.565413     0.0  0.0  ...   0.0   0.0   0.0   0.0   0.0   0.0   \n",
       " 1  3961.55  938.272081     1.0  0.0  ...   0.0   1.0   1.0   0.0   0.0   0.0   \n",
       " 2 -2770.10  497.611000     0.0  0.0  ...   0.0   0.0   0.0   1.0   0.0   0.0   \n",
       " 3  3195.11  938.272081     1.0  0.0  ...   6.0   1.0   0.0   0.0   5.0   5.0   \n",
       " 4 -1714.07  939.565413     0.0  0.0  ...   1.0   1.0   0.0   0.0   0.0   0.0   \n",
       " \n",
       "    1932  1933  1934  1935  \n",
       " 0   0.0   0.0   0.0   0.0  \n",
       " 1   0.0   0.0   0.0   0.0  \n",
       " 2   0.0   0.0   0.0   0.0  \n",
       " 3   1.0   0.0   0.0   2.0  \n",
       " 4   1.0   0.0   0.0   0.0  \n",
       " \n",
       " [5 rows x 1945 columns])"
      ]
     },
     "execution_count": 14,
     "metadata": {},
     "output_type": "execute_result"
    }
   ],
   "source": [
    "data_all_p = pd.concat([data_cond, flatten_responses_p], axis=1)\n",
    "data_all_n = pd.concat([data_cond, flatten_responses_n], axis=1)\n",
    "data_all_p.head(), data_all_n.head()"
   ]
  },
  {
   "cell_type": "markdown",
   "metadata": {
    "pycharm": {
     "name": "#%% md\n"
    }
   },
   "source": [
    "3. Groupby each unique combination of conditional data and calculate standard deviation for each pixel in the grouped data"
   ]
  },
  {
   "cell_type": "code",
   "execution_count": 15,
   "metadata": {
    "pycharm": {
     "name": "#%%\n"
    }
   },
   "outputs": [],
   "source": [
    "stddev_group_p = data_all_p.groupby(CONDITIONAL_COLS).transform(lambda x: np.std(x))\n",
    "groups_numbers_p = data_all_p.groupby(CONDITIONAL_COLS).ngroup()\n",
    "\n",
    "stddev_group_n = data_all_n.groupby(CONDITIONAL_COLS).transform(lambda x: np.std(x))\n",
    "groups_numbers_n = data_all_n.groupby(CONDITIONAL_COLS).ngroup()"
   ]
  },
  {
   "cell_type": "code",
   "execution_count": 16,
   "metadata": {
    "pycharm": {
     "name": "#%%\n"
    }
   },
   "outputs": [
    {
     "data": {
      "text/html": [
       "<div>\n",
       "<style scoped>\n",
       "    .dataframe tbody tr th:only-of-type {\n",
       "        vertical-align: middle;\n",
       "    }\n",
       "\n",
       "    .dataframe tbody tr th {\n",
       "        vertical-align: top;\n",
       "    }\n",
       "\n",
       "    .dataframe thead th {\n",
       "        text-align: right;\n",
       "    }\n",
       "</style>\n",
       "<table border=\"1\" class=\"dataframe\">\n",
       "  <thead>\n",
       "    <tr style=\"text-align: right;\">\n",
       "      <th></th>\n",
       "      <th>0</th>\n",
       "      <th>1</th>\n",
       "      <th>2</th>\n",
       "      <th>3</th>\n",
       "      <th>4</th>\n",
       "      <th>5</th>\n",
       "      <th>6</th>\n",
       "      <th>7</th>\n",
       "      <th>8</th>\n",
       "      <th>9</th>\n",
       "      <th>...</th>\n",
       "      <th>1670</th>\n",
       "      <th>1671</th>\n",
       "      <th>1672</th>\n",
       "      <th>1673</th>\n",
       "      <th>1674</th>\n",
       "      <th>1675</th>\n",
       "      <th>1676</th>\n",
       "      <th>1677</th>\n",
       "      <th>1678</th>\n",
       "      <th>1679</th>\n",
       "    </tr>\n",
       "  </thead>\n",
       "  <tbody>\n",
       "    <tr>\n",
       "      <th>0</th>\n",
       "      <td>0.254516</td>\n",
       "      <td>0.244383</td>\n",
       "      <td>0.307023</td>\n",
       "      <td>0.246475</td>\n",
       "      <td>0.268779</td>\n",
       "      <td>0.273279</td>\n",
       "      <td>0.265414</td>\n",
       "      <td>0.319725</td>\n",
       "      <td>0.319725</td>\n",
       "      <td>0.327021</td>\n",
       "      <td>...</td>\n",
       "      <td>0.000000</td>\n",
       "      <td>0.000000</td>\n",
       "      <td>0.00000</td>\n",
       "      <td>0.000000</td>\n",
       "      <td>0.000000</td>\n",
       "      <td>0.0</td>\n",
       "      <td>0.0</td>\n",
       "      <td>0.0</td>\n",
       "      <td>0.000000</td>\n",
       "      <td>0.000000</td>\n",
       "    </tr>\n",
       "    <tr>\n",
       "      <th>1</th>\n",
       "      <td>0.426174</td>\n",
       "      <td>0.512069</td>\n",
       "      <td>0.571778</td>\n",
       "      <td>0.532310</td>\n",
       "      <td>0.590742</td>\n",
       "      <td>0.667918</td>\n",
       "      <td>0.799832</td>\n",
       "      <td>0.989204</td>\n",
       "      <td>0.930898</td>\n",
       "      <td>1.169566</td>\n",
       "      <td>...</td>\n",
       "      <td>0.036564</td>\n",
       "      <td>0.051674</td>\n",
       "      <td>0.00000</td>\n",
       "      <td>0.089462</td>\n",
       "      <td>0.051674</td>\n",
       "      <td>0.0</td>\n",
       "      <td>0.0</td>\n",
       "      <td>0.0</td>\n",
       "      <td>0.051674</td>\n",
       "      <td>0.000000</td>\n",
       "    </tr>\n",
       "    <tr>\n",
       "      <th>2</th>\n",
       "      <td>0.262211</td>\n",
       "      <td>0.260189</td>\n",
       "      <td>0.274860</td>\n",
       "      <td>0.294282</td>\n",
       "      <td>0.274860</td>\n",
       "      <td>0.270964</td>\n",
       "      <td>0.387579</td>\n",
       "      <td>0.627706</td>\n",
       "      <td>1.180524</td>\n",
       "      <td>1.185916</td>\n",
       "      <td>...</td>\n",
       "      <td>0.000000</td>\n",
       "      <td>0.000000</td>\n",
       "      <td>0.00000</td>\n",
       "      <td>0.000000</td>\n",
       "      <td>0.000000</td>\n",
       "      <td>0.0</td>\n",
       "      <td>0.0</td>\n",
       "      <td>0.0</td>\n",
       "      <td>0.052058</td>\n",
       "      <td>0.052058</td>\n",
       "    </tr>\n",
       "    <tr>\n",
       "      <th>3</th>\n",
       "      <td>0.722909</td>\n",
       "      <td>0.679524</td>\n",
       "      <td>0.705660</td>\n",
       "      <td>0.679306</td>\n",
       "      <td>0.705898</td>\n",
       "      <td>0.807521</td>\n",
       "      <td>0.802229</td>\n",
       "      <td>0.842848</td>\n",
       "      <td>0.910366</td>\n",
       "      <td>0.894244</td>\n",
       "      <td>...</td>\n",
       "      <td>0.000000</td>\n",
       "      <td>0.000000</td>\n",
       "      <td>0.03649</td>\n",
       "      <td>0.036490</td>\n",
       "      <td>0.072981</td>\n",
       "      <td>0.0</td>\n",
       "      <td>0.0</td>\n",
       "      <td>0.0</td>\n",
       "      <td>0.000000</td>\n",
       "      <td>0.036490</td>\n",
       "    </tr>\n",
       "    <tr>\n",
       "      <th>4</th>\n",
       "      <td>0.480302</td>\n",
       "      <td>0.427709</td>\n",
       "      <td>0.493697</td>\n",
       "      <td>0.545372</td>\n",
       "      <td>0.491977</td>\n",
       "      <td>0.502993</td>\n",
       "      <td>0.542508</td>\n",
       "      <td>0.511905</td>\n",
       "      <td>0.542273</td>\n",
       "      <td>0.503802</td>\n",
       "      <td>...</td>\n",
       "      <td>0.000000</td>\n",
       "      <td>0.000000</td>\n",
       "      <td>0.00000</td>\n",
       "      <td>0.000000</td>\n",
       "      <td>0.000000</td>\n",
       "      <td>0.0</td>\n",
       "      <td>0.0</td>\n",
       "      <td>0.0</td>\n",
       "      <td>0.036202</td>\n",
       "      <td>0.036202</td>\n",
       "    </tr>\n",
       "  </tbody>\n",
       "</table>\n",
       "<p>5 rows × 1680 columns</p>\n",
       "</div>"
      ],
      "text/plain": [
       "       0         1         2         3         4         5         6     \\\n",
       "0  0.254516  0.244383  0.307023  0.246475  0.268779  0.273279  0.265414   \n",
       "1  0.426174  0.512069  0.571778  0.532310  0.590742  0.667918  0.799832   \n",
       "2  0.262211  0.260189  0.274860  0.294282  0.274860  0.270964  0.387579   \n",
       "3  0.722909  0.679524  0.705660  0.679306  0.705898  0.807521  0.802229   \n",
       "4  0.480302  0.427709  0.493697  0.545372  0.491977  0.502993  0.542508   \n",
       "\n",
       "       7         8         9     ...      1670      1671     1672      1673  \\\n",
       "0  0.319725  0.319725  0.327021  ...  0.000000  0.000000  0.00000  0.000000   \n",
       "1  0.989204  0.930898  1.169566  ...  0.036564  0.051674  0.00000  0.089462   \n",
       "2  0.627706  1.180524  1.185916  ...  0.000000  0.000000  0.00000  0.000000   \n",
       "3  0.842848  0.910366  0.894244  ...  0.000000  0.000000  0.03649  0.036490   \n",
       "4  0.511905  0.542273  0.503802  ...  0.000000  0.000000  0.00000  0.000000   \n",
       "\n",
       "       1674  1675  1676  1677      1678      1679  \n",
       "0  0.000000   0.0   0.0   0.0  0.000000  0.000000  \n",
       "1  0.051674   0.0   0.0   0.0  0.051674  0.000000  \n",
       "2  0.000000   0.0   0.0   0.0  0.052058  0.052058  \n",
       "3  0.072981   0.0   0.0   0.0  0.000000  0.036490  \n",
       "4  0.000000   0.0   0.0   0.0  0.036202  0.036202  \n",
       "\n",
       "[5 rows x 1680 columns]"
      ]
     },
     "execution_count": 16,
     "metadata": {},
     "output_type": "execute_result"
    }
   ],
   "source": [
    "stddev_group_p.head()"
   ]
  },
  {
   "cell_type": "code",
   "execution_count": 17,
   "metadata": {
    "pycharm": {
     "name": "#%%\n"
    }
   },
   "outputs": [
    {
     "data": {
      "text/html": [
       "<div>\n",
       "<style scoped>\n",
       "    .dataframe tbody tr th:only-of-type {\n",
       "        vertical-align: middle;\n",
       "    }\n",
       "\n",
       "    .dataframe tbody tr th {\n",
       "        vertical-align: top;\n",
       "    }\n",
       "\n",
       "    .dataframe thead th {\n",
       "        text-align: right;\n",
       "    }\n",
       "</style>\n",
       "<table border=\"1\" class=\"dataframe\">\n",
       "  <thead>\n",
       "    <tr style=\"text-align: right;\">\n",
       "      <th></th>\n",
       "      <th>0</th>\n",
       "      <th>1</th>\n",
       "      <th>2</th>\n",
       "      <th>3</th>\n",
       "      <th>4</th>\n",
       "      <th>5</th>\n",
       "      <th>6</th>\n",
       "      <th>7</th>\n",
       "      <th>8</th>\n",
       "      <th>9</th>\n",
       "      <th>...</th>\n",
       "      <th>1926</th>\n",
       "      <th>1927</th>\n",
       "      <th>1928</th>\n",
       "      <th>1929</th>\n",
       "      <th>1930</th>\n",
       "      <th>1931</th>\n",
       "      <th>1932</th>\n",
       "      <th>1933</th>\n",
       "      <th>1934</th>\n",
       "      <th>1935</th>\n",
       "    </tr>\n",
       "  </thead>\n",
       "  <tbody>\n",
       "    <tr>\n",
       "      <th>0</th>\n",
       "      <td>0.173754</td>\n",
       "      <td>0.181215</td>\n",
       "      <td>0.302812</td>\n",
       "      <td>0.237893</td>\n",
       "      <td>0.245496</td>\n",
       "      <td>0.295705</td>\n",
       "      <td>0.303975</td>\n",
       "      <td>0.237893</td>\n",
       "      <td>0.264141</td>\n",
       "      <td>0.262739</td>\n",
       "      <td>...</td>\n",
       "      <td>0.165910</td>\n",
       "      <td>0.202822</td>\n",
       "      <td>0.182186</td>\n",
       "      <td>0.165910</td>\n",
       "      <td>0.190203</td>\n",
       "      <td>0.196225</td>\n",
       "      <td>0.226947</td>\n",
       "      <td>0.241110</td>\n",
       "      <td>0.105844</td>\n",
       "      <td>0.182186</td>\n",
       "    </tr>\n",
       "    <tr>\n",
       "      <th>1</th>\n",
       "      <td>0.063245</td>\n",
       "      <td>0.000000</td>\n",
       "      <td>0.036564</td>\n",
       "      <td>0.036564</td>\n",
       "      <td>0.036564</td>\n",
       "      <td>0.036564</td>\n",
       "      <td>0.072980</td>\n",
       "      <td>0.036564</td>\n",
       "      <td>0.051674</td>\n",
       "      <td>0.036564</td>\n",
       "      <td>...</td>\n",
       "      <td>0.350685</td>\n",
       "      <td>0.400189</td>\n",
       "      <td>0.401088</td>\n",
       "      <td>0.376459</td>\n",
       "      <td>0.385477</td>\n",
       "      <td>0.320755</td>\n",
       "      <td>0.367464</td>\n",
       "      <td>0.345169</td>\n",
       "      <td>0.362045</td>\n",
       "      <td>0.371326</td>\n",
       "    </tr>\n",
       "    <tr>\n",
       "      <th>2</th>\n",
       "      <td>0.089921</td>\n",
       "      <td>0.073520</td>\n",
       "      <td>0.073520</td>\n",
       "      <td>0.115769</td>\n",
       "      <td>0.155225</td>\n",
       "      <td>0.089921</td>\n",
       "      <td>0.103689</td>\n",
       "      <td>0.126643</td>\n",
       "      <td>0.137248</td>\n",
       "      <td>0.052058</td>\n",
       "      <td>...</td>\n",
       "      <td>1.256634</td>\n",
       "      <td>1.170183</td>\n",
       "      <td>1.057449</td>\n",
       "      <td>1.741674</td>\n",
       "      <td>0.931772</td>\n",
       "      <td>0.547269</td>\n",
       "      <td>0.602158</td>\n",
       "      <td>0.574129</td>\n",
       "      <td>0.687489</td>\n",
       "      <td>0.561856</td>\n",
       "    </tr>\n",
       "    <tr>\n",
       "      <th>3</th>\n",
       "      <td>0.063119</td>\n",
       "      <td>0.051571</td>\n",
       "      <td>0.063119</td>\n",
       "      <td>0.072835</td>\n",
       "      <td>0.072835</td>\n",
       "      <td>0.089084</td>\n",
       "      <td>0.072835</td>\n",
       "      <td>0.063119</td>\n",
       "      <td>0.089084</td>\n",
       "      <td>0.063119</td>\n",
       "      <td>...</td>\n",
       "      <td>1.778751</td>\n",
       "      <td>1.550043</td>\n",
       "      <td>1.449402</td>\n",
       "      <td>1.390140</td>\n",
       "      <td>1.316872</td>\n",
       "      <td>1.317561</td>\n",
       "      <td>1.097848</td>\n",
       "      <td>1.003593</td>\n",
       "      <td>0.982988</td>\n",
       "      <td>0.899273</td>\n",
       "    </tr>\n",
       "    <tr>\n",
       "      <th>4</th>\n",
       "      <td>0.080738</td>\n",
       "      <td>0.036202</td>\n",
       "      <td>0.036202</td>\n",
       "      <td>0.095621</td>\n",
       "      <td>0.051164</td>\n",
       "      <td>0.108290</td>\n",
       "      <td>0.072262</td>\n",
       "      <td>0.108290</td>\n",
       "      <td>0.095621</td>\n",
       "      <td>0.102160</td>\n",
       "      <td>...</td>\n",
       "      <td>0.816477</td>\n",
       "      <td>0.705540</td>\n",
       "      <td>0.573821</td>\n",
       "      <td>0.550708</td>\n",
       "      <td>0.545351</td>\n",
       "      <td>0.516742</td>\n",
       "      <td>0.450932</td>\n",
       "      <td>0.419200</td>\n",
       "      <td>0.374538</td>\n",
       "      <td>0.340573</td>\n",
       "    </tr>\n",
       "  </tbody>\n",
       "</table>\n",
       "<p>5 rows × 1936 columns</p>\n",
       "</div>"
      ],
      "text/plain": [
       "       0         1         2         3         4         5         6     \\\n",
       "0  0.173754  0.181215  0.302812  0.237893  0.245496  0.295705  0.303975   \n",
       "1  0.063245  0.000000  0.036564  0.036564  0.036564  0.036564  0.072980   \n",
       "2  0.089921  0.073520  0.073520  0.115769  0.155225  0.089921  0.103689   \n",
       "3  0.063119  0.051571  0.063119  0.072835  0.072835  0.089084  0.072835   \n",
       "4  0.080738  0.036202  0.036202  0.095621  0.051164  0.108290  0.072262   \n",
       "\n",
       "       7         8         9     ...      1926      1927      1928      1929  \\\n",
       "0  0.237893  0.264141  0.262739  ...  0.165910  0.202822  0.182186  0.165910   \n",
       "1  0.036564  0.051674  0.036564  ...  0.350685  0.400189  0.401088  0.376459   \n",
       "2  0.126643  0.137248  0.052058  ...  1.256634  1.170183  1.057449  1.741674   \n",
       "3  0.063119  0.089084  0.063119  ...  1.778751  1.550043  1.449402  1.390140   \n",
       "4  0.108290  0.095621  0.102160  ...  0.816477  0.705540  0.573821  0.550708   \n",
       "\n",
       "       1930      1931      1932      1933      1934      1935  \n",
       "0  0.190203  0.196225  0.226947  0.241110  0.105844  0.182186  \n",
       "1  0.385477  0.320755  0.367464  0.345169  0.362045  0.371326  \n",
       "2  0.931772  0.547269  0.602158  0.574129  0.687489  0.561856  \n",
       "3  1.316872  1.317561  1.097848  1.003593  0.982988  0.899273  \n",
       "4  0.545351  0.516742  0.450932  0.419200  0.374538  0.340573  \n",
       "\n",
       "[5 rows x 1936 columns]"
      ]
     },
     "execution_count": 17,
     "metadata": {},
     "output_type": "execute_result"
    }
   ],
   "source": [
    "stddev_group_n.head()"
   ]
  },
  {
   "cell_type": "code",
   "execution_count": 18,
   "metadata": {
    "pycharm": {
     "name": "#%%\n"
    }
   },
   "outputs": [],
   "source": [
    "group_sizes_p = data_all_p.groupby(CONDITIONAL_COLS).size().reset_index(name='Count')"
   ]
  },
  {
   "cell_type": "code",
   "execution_count": 19,
   "metadata": {
    "pycharm": {
     "name": "#%%\n"
    }
   },
   "outputs": [],
   "source": [
    "group_sizes_n = data_all_n.groupby(CONDITIONAL_COLS).size().reset_index(name='Count')"
   ]
  },
  {
   "cell_type": "code",
   "execution_count": 20,
   "metadata": {
    "pycharm": {
     "name": "#%%\n"
    }
   },
   "outputs": [
    {
     "data": {
      "text/plain": [
       "(0    316\n",
       " 1    366\n",
       " 2    280\n",
       " 3    317\n",
       " 4    165\n",
       " dtype: int64,\n",
       " 0,\n",
       " 435)"
      ]
     },
     "execution_count": 20,
     "metadata": {},
     "output_type": "execute_result"
    }
   ],
   "source": [
    "groups_numbers_p.head(), groups_numbers_p.min(), groups_numbers_p.max()"
   ]
  },
  {
   "cell_type": "code",
   "execution_count": 21,
   "metadata": {
    "pycharm": {
     "name": "#%%\n"
    }
   },
   "outputs": [
    {
     "data": {
      "text/plain": [
       "(0    316\n",
       " 1    366\n",
       " 2    280\n",
       " 3    317\n",
       " 4    165\n",
       " dtype: int64,\n",
       " 0,\n",
       " 435)"
      ]
     },
     "execution_count": 21,
     "metadata": {},
     "output_type": "execute_result"
    }
   ],
   "source": [
    "groups_numbers_n.head(), groups_numbers_n.min(), groups_numbers_n.max()"
   ]
  },
  {
   "cell_type": "markdown",
   "metadata": {
    "pycharm": {
     "name": "#%% md\n"
    }
   },
   "source": [
    "4. Calculate sum of stddevs of pixels"
   ]
  },
  {
   "cell_type": "code",
   "execution_count": 22,
   "metadata": {
    "pycharm": {
     "name": "#%%\n"
    }
   },
   "outputs": [
    {
     "data": {
      "text/plain": [
       "((48714,),\n",
       " 0    154.329429\n",
       " 1    969.117461\n",
       " 2    182.483892\n",
       " 3    265.598939\n",
       " 4    209.572895\n",
       " dtype: float64)"
      ]
     },
     "execution_count": 22,
     "metadata": {},
     "output_type": "execute_result"
    }
   ],
   "source": [
    "sum_pixels_p = stddev_group_p.sum(axis=1)\n",
    "sum_pixels_p.shape, sum_pixels_p.head()"
   ]
  },
  {
   "cell_type": "code",
   "execution_count": 23,
   "metadata": {
    "pycharm": {
     "name": "#%%\n"
    }
   },
   "outputs": [
    {
     "data": {
      "text/plain": [
       "((48714,),\n",
       " 0    1282.758022\n",
       " 1     258.796416\n",
       " 2    1581.252346\n",
       " 3     526.648564\n",
       " 4     722.137794\n",
       " dtype: float64)"
      ]
     },
     "execution_count": 23,
     "metadata": {},
     "output_type": "execute_result"
    }
   ],
   "source": [
    "sum_pixels_n = stddev_group_n.sum(axis=1)\n",
    "sum_pixels_n.shape, sum_pixels_n.head()"
   ]
  },
  {
   "cell_type": "code",
   "execution_count": 24,
   "metadata": {
    "pycharm": {
     "name": "#%%\n"
    }
   },
   "outputs": [],
   "source": [
    "assert data_cond.shape[0] == sum_pixels_p.shape[0]\n",
    "assert data_cond.shape[0] == sum_pixels_n.shape[0]"
   ]
  },
  {
   "cell_type": "markdown",
   "metadata": {
    "pycharm": {
     "name": "#%% md\n"
    }
   },
   "source": [
    "5. Divide sum of stddevs by maximum value to normalize it"
   ]
  },
  {
   "cell_type": "code",
   "execution_count": 25,
   "metadata": {
    "pycharm": {
     "name": "#%%\n"
    }
   },
   "outputs": [],
   "source": [
    "normalized_stddevs_p = sum_pixels_p/sum_pixels_p.max()\n",
    "normalized_stddevs_n = sum_pixels_n/sum_pixels_n.max()"
   ]
  },
  {
   "cell_type": "markdown",
   "metadata": {
    "pycharm": {
     "name": "#%% md\n"
    }
   },
   "source": [
    "6. Assign calclations to each conditional data"
   ]
  },
  {
   "cell_type": "code",
   "execution_count": 26,
   "metadata": {
    "pycharm": {
     "name": "#%%\n"
    }
   },
   "outputs": [],
   "source": [
    "data_cond['std_proton'] = normalized_stddevs_p\n",
    "data_cond['std_neutron'] = normalized_stddevs_n"
   ]
  },
  {
   "cell_type": "markdown",
   "metadata": {
    "pycharm": {
     "name": "#%% md\n"
    }
   },
   "source": [
    "#### Add informative columns "
   ]
  },
  {
   "cell_type": "code",
   "execution_count": 27,
   "metadata": {
    "pycharm": {
     "name": "#%%\n"
    }
   },
   "outputs": [],
   "source": [
    "data_cond[NEUTRON_PROTON_PHOTON_SUM_COLS] = neutron_proton_photon_sum_data"
   ]
  },
  {
   "cell_type": "code",
   "execution_count": 28,
   "metadata": {
    "pycharm": {
     "name": "#%%\n"
    }
   },
   "outputs": [],
   "source": [
    "data_cond['group_number_proton'] = groups_numbers_p\n",
    "data_cond['group_number_neutron'] = groups_numbers_n"
   ]
  },
  {
   "cell_type": "code",
   "execution_count": 29,
   "metadata": {
    "pycharm": {
     "name": "#%%\n"
    }
   },
   "outputs": [
    {
     "data": {
      "text/html": [
       "<div>\n",
       "<style scoped>\n",
       "    .dataframe tbody tr th:only-of-type {\n",
       "        vertical-align: middle;\n",
       "    }\n",
       "\n",
       "    .dataframe tbody tr th {\n",
       "        vertical-align: top;\n",
       "    }\n",
       "\n",
       "    .dataframe thead th {\n",
       "        text-align: right;\n",
       "    }\n",
       "</style>\n",
       "<table border=\"1\" class=\"dataframe\">\n",
       "  <thead>\n",
       "    <tr style=\"text-align: right;\">\n",
       "      <th></th>\n",
       "      <th>Energy</th>\n",
       "      <th>Vx</th>\n",
       "      <th>Vy</th>\n",
       "      <th>Vz</th>\n",
       "      <th>Px</th>\n",
       "      <th>Py</th>\n",
       "      <th>Pz</th>\n",
       "      <th>mass</th>\n",
       "      <th>charge</th>\n",
       "      <th>std_proton</th>\n",
       "      <th>std_neutron</th>\n",
       "      <th>neutron_photon_sum</th>\n",
       "      <th>proton_photon_sum</th>\n",
       "      <th>group_number_proton</th>\n",
       "      <th>group_number_neutron</th>\n",
       "    </tr>\n",
       "  </thead>\n",
       "  <tbody>\n",
       "    <tr>\n",
       "      <th>0</th>\n",
       "      <td>3192.38</td>\n",
       "      <td>0.000000e+00</td>\n",
       "      <td>0.000000e+00</td>\n",
       "      <td>0.000000e+00</td>\n",
       "      <td>0.022422</td>\n",
       "      <td>-0.182957</td>\n",
       "      <td>-3192.38</td>\n",
       "      <td>939.565413</td>\n",
       "      <td>0.0</td>\n",
       "      <td>0.076311</td>\n",
       "      <td>0.632134</td>\n",
       "      <td>1256.0</td>\n",
       "      <td>16.0</td>\n",
       "      <td>316</td>\n",
       "      <td>316</td>\n",
       "    </tr>\n",
       "    <tr>\n",
       "      <th>1</th>\n",
       "      <td>3961.55</td>\n",
       "      <td>0.000000e+00</td>\n",
       "      <td>0.000000e+00</td>\n",
       "      <td>0.000000e+00</td>\n",
       "      <td>-0.076487</td>\n",
       "      <td>0.179845</td>\n",
       "      <td>3961.55</td>\n",
       "      <td>938.272081</td>\n",
       "      <td>1.0</td>\n",
       "      <td>0.479201</td>\n",
       "      <td>0.127533</td>\n",
       "      <td>55.0</td>\n",
       "      <td>1195.0</td>\n",
       "      <td>366</td>\n",
       "      <td>366</td>\n",
       "    </tr>\n",
       "    <tr>\n",
       "      <th>2</th>\n",
       "      <td>2770.10</td>\n",
       "      <td>1.861170e-17</td>\n",
       "      <td>2.517190e-17</td>\n",
       "      <td>-1.689330e-13</td>\n",
       "      <td>0.305187</td>\n",
       "      <td>0.412760</td>\n",
       "      <td>-2770.10</td>\n",
       "      <td>497.611000</td>\n",
       "      <td>0.0</td>\n",
       "      <td>0.090233</td>\n",
       "      <td>0.779230</td>\n",
       "      <td>1122.0</td>\n",
       "      <td>23.0</td>\n",
       "      <td>280</td>\n",
       "      <td>280</td>\n",
       "    </tr>\n",
       "    <tr>\n",
       "      <th>3</th>\n",
       "      <td>3195.12</td>\n",
       "      <td>0.000000e+00</td>\n",
       "      <td>0.000000e+00</td>\n",
       "      <td>0.000000e+00</td>\n",
       "      <td>0.560528</td>\n",
       "      <td>-0.149980</td>\n",
       "      <td>3195.11</td>\n",
       "      <td>938.272081</td>\n",
       "      <td>1.0</td>\n",
       "      <td>0.131331</td>\n",
       "      <td>0.259529</td>\n",
       "      <td>230.0</td>\n",
       "      <td>78.0</td>\n",
       "      <td>317</td>\n",
       "      <td>317</td>\n",
       "    </tr>\n",
       "    <tr>\n",
       "      <th>4</th>\n",
       "      <td>1714.07</td>\n",
       "      <td>0.000000e+00</td>\n",
       "      <td>0.000000e+00</td>\n",
       "      <td>0.000000e+00</td>\n",
       "      <td>0.457768</td>\n",
       "      <td>0.145639</td>\n",
       "      <td>-1714.07</td>\n",
       "      <td>939.565413</td>\n",
       "      <td>0.0</td>\n",
       "      <td>0.103628</td>\n",
       "      <td>0.355864</td>\n",
       "      <td>655.0</td>\n",
       "      <td>34.0</td>\n",
       "      <td>165</td>\n",
       "      <td>165</td>\n",
       "    </tr>\n",
       "  </tbody>\n",
       "</table>\n",
       "</div>"
      ],
      "text/plain": [
       "    Energy            Vx            Vy            Vz        Px        Py  \\\n",
       "0  3192.38  0.000000e+00  0.000000e+00  0.000000e+00  0.022422 -0.182957   \n",
       "1  3961.55  0.000000e+00  0.000000e+00  0.000000e+00 -0.076487  0.179845   \n",
       "2  2770.10  1.861170e-17  2.517190e-17 -1.689330e-13  0.305187  0.412760   \n",
       "3  3195.12  0.000000e+00  0.000000e+00  0.000000e+00  0.560528 -0.149980   \n",
       "4  1714.07  0.000000e+00  0.000000e+00  0.000000e+00  0.457768  0.145639   \n",
       "\n",
       "        Pz        mass  charge  std_proton  std_neutron  neutron_photon_sum  \\\n",
       "0 -3192.38  939.565413     0.0    0.076311     0.632134              1256.0   \n",
       "1  3961.55  938.272081     1.0    0.479201     0.127533                55.0   \n",
       "2 -2770.10  497.611000     0.0    0.090233     0.779230              1122.0   \n",
       "3  3195.11  938.272081     1.0    0.131331     0.259529               230.0   \n",
       "4 -1714.07  939.565413     0.0    0.103628     0.355864               655.0   \n",
       "\n",
       "   proton_photon_sum  group_number_proton  group_number_neutron  \n",
       "0               16.0                  316                   316  \n",
       "1             1195.0                  366                   366  \n",
       "2               23.0                  280                   280  \n",
       "3               78.0                  317                   317  \n",
       "4               34.0                  165                   165  "
      ]
     },
     "execution_count": 29,
     "metadata": {},
     "output_type": "execute_result"
    }
   ],
   "source": [
    "data_cond.head()"
   ]
  },
  {
   "cell_type": "markdown",
   "metadata": {
    "pycharm": {
     "name": "#%% md\n"
    }
   },
   "source": [
    "#### Save conditional dataset"
   ]
  },
  {
   "cell_type": "code",
   "execution_count": 30,
   "metadata": {
    "pycharm": {
     "name": "#%%\n"
    }
   },
   "outputs": [],
   "source": [
    "data_cond.to_pickle('../data/data_cond_stddev_photonsum_p_15_2133_n_15_3273.pkl')"
   ]
  },
  {
   "cell_type": "markdown",
   "metadata": {
    "pycharm": {
     "name": "#%% md\n"
    }
   },
   "source": [
    "## Padded version"
   ]
  },
  {
   "cell_type": "markdown",
   "metadata": {
    "pycharm": {
     "name": "#%% md\n"
    }
   },
   "source": [
    "Basically the same opperation but the calcuation of std are done separately for each channel (proton, neutron).\n",
    "First channel has PROTON DATA, second has NEUTRON data."
   ]
  },
  {
   "cell_type": "code",
   "execution_count": 4,
   "metadata": {
    "colab": {
     "base_uri": "https://localhost:8080/"
    },
    "executionInfo": {
     "elapsed": 39530,
     "status": "ok",
     "timestamp": 1623571867626,
     "user": {
      "displayName": "Jan Dubiński",
      "photoUrl": "",
      "userId": "04866767089811362617"
     },
     "user_tz": -120
    },
    "id": "Z844CMU-AReG",
    "outputId": "8cf9efbe-fe19-4f4b-c438-a6d9957d6a0e",
    "pycharm": {
     "name": "#%%\n"
    }
   },
   "outputs": [
    {
     "name": "stdout",
     "output_type": "stream",
     "text": [
      "Loaded:  (38348, 56, 44, 2) max: 603.0\n",
      "Loaded cond:  (38348, 11) max: 7000.0 min: -7000.0\n"
     ]
    }
   ],
   "source": [
    "data = pd.read_pickle('../data/data_proton_neutron_photonsum_proton_18_1970_neutron_18_3249_padding.pkl')\n",
    "print('Loaded: ',  data.shape, \"max:\", data.max())\n",
    "\n",
    "# Data containing particle conditional data from particle having responses with proton photon sum in interval [70, 2312] without taking into consideration photon sums of neutron responses.\n",
    "data_cond = pd.read_pickle('../data/data_cond_photonsum_18.pkl')\n",
    "print('Loaded cond: ',  data_cond.shape, \"max:\",data_cond.values.max(), \"min:\",data_cond.values.min())"
   ]
  },
  {
   "cell_type": "code",
   "execution_count": 5,
   "metadata": {
    "pycharm": {
     "name": "#%%\n"
    }
   },
   "outputs": [
    {
     "data": {
      "text/plain": "    Energy            Vx            Vy            Vz        Px        Py  \\\n0  3961.55  0.000000e+00  0.000000e+00  0.000000e+00 -0.076487  0.179845   \n1  2770.10  1.861170e-17  2.517190e-17 -1.689330e-13  0.305187  0.412760   \n2  3195.12  0.000000e+00  0.000000e+00  0.000000e+00  0.560528 -0.149980   \n3  1714.07  0.000000e+00  0.000000e+00  0.000000e+00  0.457768  0.145639   \n4  1948.29  1.323670e-08  5.575600e-09 -5.280860e-05  0.470391  0.154206   \n\n        Pz  neutron_photon_sum        mass  charge  proton_photon_sum  \n0  3961.55                55.0  938.272081     1.0             1195.0  \n1 -2770.10              1122.0  497.611000     0.0               23.0  \n2  3195.11               230.0  938.272081     1.0               78.0  \n3 -1714.07               655.0  939.565413     0.0               34.0  \n4 -1948.29              1142.0    0.000000     0.0               19.0  ",
      "text/html": "<div>\n<style scoped>\n    .dataframe tbody tr th:only-of-type {\n        vertical-align: middle;\n    }\n\n    .dataframe tbody tr th {\n        vertical-align: top;\n    }\n\n    .dataframe thead th {\n        text-align: right;\n    }\n</style>\n<table border=\"1\" class=\"dataframe\">\n  <thead>\n    <tr style=\"text-align: right;\">\n      <th></th>\n      <th>Energy</th>\n      <th>Vx</th>\n      <th>Vy</th>\n      <th>Vz</th>\n      <th>Px</th>\n      <th>Py</th>\n      <th>Pz</th>\n      <th>neutron_photon_sum</th>\n      <th>mass</th>\n      <th>charge</th>\n      <th>proton_photon_sum</th>\n    </tr>\n  </thead>\n  <tbody>\n    <tr>\n      <th>0</th>\n      <td>3961.55</td>\n      <td>0.000000e+00</td>\n      <td>0.000000e+00</td>\n      <td>0.000000e+00</td>\n      <td>-0.076487</td>\n      <td>0.179845</td>\n      <td>3961.55</td>\n      <td>55.0</td>\n      <td>938.272081</td>\n      <td>1.0</td>\n      <td>1195.0</td>\n    </tr>\n    <tr>\n      <th>1</th>\n      <td>2770.10</td>\n      <td>1.861170e-17</td>\n      <td>2.517190e-17</td>\n      <td>-1.689330e-13</td>\n      <td>0.305187</td>\n      <td>0.412760</td>\n      <td>-2770.10</td>\n      <td>1122.0</td>\n      <td>497.611000</td>\n      <td>0.0</td>\n      <td>23.0</td>\n    </tr>\n    <tr>\n      <th>2</th>\n      <td>3195.12</td>\n      <td>0.000000e+00</td>\n      <td>0.000000e+00</td>\n      <td>0.000000e+00</td>\n      <td>0.560528</td>\n      <td>-0.149980</td>\n      <td>3195.11</td>\n      <td>230.0</td>\n      <td>938.272081</td>\n      <td>1.0</td>\n      <td>78.0</td>\n    </tr>\n    <tr>\n      <th>3</th>\n      <td>1714.07</td>\n      <td>0.000000e+00</td>\n      <td>0.000000e+00</td>\n      <td>0.000000e+00</td>\n      <td>0.457768</td>\n      <td>0.145639</td>\n      <td>-1714.07</td>\n      <td>655.0</td>\n      <td>939.565413</td>\n      <td>0.0</td>\n      <td>34.0</td>\n    </tr>\n    <tr>\n      <th>4</th>\n      <td>1948.29</td>\n      <td>1.323670e-08</td>\n      <td>5.575600e-09</td>\n      <td>-5.280860e-05</td>\n      <td>0.470391</td>\n      <td>0.154206</td>\n      <td>-1948.29</td>\n      <td>1142.0</td>\n      <td>0.000000</td>\n      <td>0.0</td>\n      <td>19.0</td>\n    </tr>\n  </tbody>\n</table>\n</div>"
     },
     "execution_count": 5,
     "metadata": {},
     "output_type": "execute_result"
    }
   ],
   "source": [
    "data_cond.head()"
   ]
  },
  {
   "cell_type": "code",
   "execution_count": 6,
   "metadata": {
    "pycharm": {
     "name": "#%%\n"
    }
   },
   "outputs": [
    {
     "data": {
      "text/plain": "((38348, 56, 44), (38348, 56, 44))"
     },
     "execution_count": 6,
     "metadata": {},
     "output_type": "execute_result"
    }
   ],
   "source": [
    "first_channel = data[:, :, :, 0]\n",
    "second_channel = data[:, :, :, 1]\n",
    "first_channel.shape, second_channel.shape"
   ]
  },
  {
   "cell_type": "code",
   "execution_count": 7,
   "metadata": {
    "pycharm": {
     "name": "#%%\n"
    }
   },
   "outputs": [],
   "source": [
    "NEUTRON_PROTON_PHOTON_SUM_COLS = ['neutron_photon_sum', 'proton_photon_sum']\n",
    "neutron_proton_photon_sum_data = data_cond[NEUTRON_PROTON_PHOTON_SUM_COLS]"
   ]
  },
  {
   "cell_type": "code",
   "execution_count": 9,
   "metadata": {
    "pycharm": {
     "name": "#%%\n"
    }
   },
   "outputs": [],
   "source": [
    "# drop unnecessary columns\n",
    "data_cond.drop(columns=['neutron_photon_sum', 'proton_photon_sum'], inplace=True)"
   ]
  },
  {
   "cell_type": "code",
   "execution_count": 10,
   "metadata": {
    "pycharm": {
     "name": "#%%\n"
    }
   },
   "outputs": [
    {
     "data": {
      "text/plain": "['Energy', 'Vx', 'Vy', 'Vz', 'Px', 'Py', 'Pz', 'mass', 'charge']"
     },
     "execution_count": 10,
     "metadata": {},
     "output_type": "execute_result"
    }
   ],
   "source": [
    "CONDITIONAL_COLS = list(data_cond.columns)\n",
    "CONDITIONAL_COLS"
   ]
  },
  {
   "cell_type": "markdown",
   "metadata": {
    "pycharm": {
     "name": "#%% md\n"
    }
   },
   "source": [
    "1. Flatten the proton responses dataset from shape (56, 30) to (1680, 1)"
   ]
  },
  {
   "cell_type": "code",
   "execution_count": 11,
   "metadata": {
    "pycharm": {
     "name": "#%%\n"
    }
   },
   "outputs": [
    {
     "data": {
      "text/plain": "((38348, 2464), (38348, 2464))"
     },
     "execution_count": 11,
     "metadata": {},
     "output_type": "execute_result"
    }
   ],
   "source": [
    "flatten_responses_1 = pd.DataFrame(first_channel.reshape(len(first_channel), -1))\n",
    "flatten_responses_2 = pd.DataFrame(second_channel.reshape(len(second_channel), -1))\n",
    "flatten_responses_1.shape, flatten_responses_2.shape"
   ]
  },
  {
   "cell_type": "markdown",
   "metadata": {
    "pycharm": {
     "name": "#%% md\n"
    }
   },
   "source": [
    "2. Concatenate as columns flatten dataset to each conditional row "
   ]
  },
  {
   "cell_type": "code",
   "execution_count": 12,
   "metadata": {
    "pycharm": {
     "name": "#%%\n"
    }
   },
   "outputs": [
    {
     "data": {
      "text/plain": "(    Energy            Vx            Vy            Vz        Px        Py  \\\n 0  3961.55  0.000000e+00  0.000000e+00  0.000000e+00 -0.076487  0.179845   \n 1  2770.10  1.861170e-17  2.517190e-17 -1.689330e-13  0.305187  0.412760   \n 2  3195.12  0.000000e+00  0.000000e+00  0.000000e+00  0.560528 -0.149980   \n 3  1714.07  0.000000e+00  0.000000e+00  0.000000e+00  0.457768  0.145639   \n 4  1948.29  1.323670e-08  5.575600e-09 -5.280860e-05  0.470391  0.154206   \n \n         Pz        mass  charge    0  ...  2454  2455  2456  2457  2458  2459  \\\n 0  3961.55  938.272081     1.0  0.0  ...   0.0   0.0   0.0   0.0   0.0   0.0   \n 1 -2770.10  497.611000     0.0  0.0  ...   0.0   0.0   0.0   0.0   0.0   0.0   \n 2  3195.11  938.272081     1.0  0.0  ...   0.0   0.0   0.0   0.0   0.0   0.0   \n 3 -1714.07  939.565413     0.0  0.0  ...   0.0   0.0   0.0   0.0   0.0   0.0   \n 4 -1948.29    0.000000     0.0  0.0  ...   0.0   0.0   0.0   0.0   0.0   0.0   \n \n    2460  2461  2462  2463  \n 0   0.0   0.0   0.0   0.0  \n 1   0.0   0.0   0.0   0.0  \n 2   0.0   0.0   0.0   0.0  \n 3   0.0   0.0   0.0   0.0  \n 4   0.0   0.0   0.0   0.0  \n \n [5 rows x 2473 columns],\n     Energy            Vx            Vy            Vz        Px        Py  \\\n 0  3961.55  0.000000e+00  0.000000e+00  0.000000e+00 -0.076487  0.179845   \n 1  2770.10  1.861170e-17  2.517190e-17 -1.689330e-13  0.305187  0.412760   \n 2  3195.12  0.000000e+00  0.000000e+00  0.000000e+00  0.560528 -0.149980   \n 3  1714.07  0.000000e+00  0.000000e+00  0.000000e+00  0.457768  0.145639   \n 4  1948.29  1.323670e-08  5.575600e-09 -5.280860e-05  0.470391  0.154206   \n \n         Pz        mass  charge    0  ...  2454  2455  2456  2457  2458  2459  \\\n 0  3961.55  938.272081     1.0  0.0  ...   0.0   0.0   0.0   0.0   0.0   0.0   \n 1 -2770.10  497.611000     0.0  0.0  ...   0.0   0.0   0.0   0.0   0.0   0.0   \n 2  3195.11  938.272081     1.0  0.0  ...   0.0   0.0   0.0   0.0   0.0   0.0   \n 3 -1714.07  939.565413     0.0  0.0  ...   0.0   0.0   0.0   0.0   0.0   0.0   \n 4 -1948.29    0.000000     0.0  0.0  ...   0.0   0.0   0.0   0.0   0.0   0.0   \n \n    2460  2461  2462  2463  \n 0   0.0   0.0   0.0   0.0  \n 1   0.0   0.0   0.0   0.0  \n 2   0.0   0.0   0.0   0.0  \n 3   0.0   0.0   0.0   0.0  \n 4   0.0   0.0   0.0   0.0  \n \n [5 rows x 2473 columns])"
     },
     "execution_count": 12,
     "metadata": {},
     "output_type": "execute_result"
    }
   ],
   "source": [
    "data_all_1 = pd.concat([data_cond, flatten_responses_1], axis=1)\n",
    "data_all_2 = pd.concat([data_cond, flatten_responses_2], axis=1)\n",
    "data_all_1.head(), data_all_2.head()"
   ]
  },
  {
   "cell_type": "markdown",
   "metadata": {
    "pycharm": {
     "name": "#%% md\n"
    }
   },
   "source": [
    "3. Groupby each unique combination of conditional data and calculate standard deviation for each pixel in the grouped data"
   ]
  },
  {
   "cell_type": "code",
   "execution_count": 13,
   "metadata": {
    "pycharm": {
     "name": "#%%\n"
    }
   },
   "outputs": [],
   "source": [
    "stddev_group_1 = data_all_1.groupby(CONDITIONAL_COLS).transform(lambda x: np.std(x))\n",
    "groups_numbers_1 = data_all_1.groupby(CONDITIONAL_COLS).ngroup()\n",
    "\n",
    "stddev_group_2 = data_all_2.groupby(CONDITIONAL_COLS).transform(lambda x: np.std(x))\n",
    "groups_numbers_2 = data_all_2.groupby(CONDITIONAL_COLS).ngroup()"
   ]
  },
  {
   "cell_type": "code",
   "execution_count": 14,
   "metadata": {
    "pycharm": {
     "name": "#%%\n"
    }
   },
   "outputs": [
    {
     "data": {
      "text/plain": "   0     1     2     3     4     5     6         7         8         9     \\\n0   0.0   0.0   0.0   0.0   0.0   0.0   0.0  0.426466  0.514252  0.570065   \n1   0.0   0.0   0.0   0.0   0.0   0.0   0.0  0.259172  0.286207  0.298012   \n2   0.0   0.0   0.0   0.0   0.0   0.0   0.0  0.722909  0.679524  0.705660   \n3   0.0   0.0   0.0   0.0   0.0   0.0   0.0  0.480302  0.427709  0.493697   \n4   0.0   0.0   0.0   0.0   0.0   0.0   0.0  0.439716  0.394589  0.424638   \n\n   ...  2454      2455      2456  2457  2458  2459  2460  2461  2462  2463  \n0  ...   0.0  0.052022  0.000000   0.0   0.0   0.0   0.0   0.0   0.0   0.0  \n1  ...   0.0  0.058621  0.058621   0.0   0.0   0.0   0.0   0.0   0.0   0.0  \n2  ...   0.0  0.000000  0.036490   0.0   0.0   0.0   0.0   0.0   0.0   0.0  \n3  ...   0.0  0.036202  0.036202   0.0   0.0   0.0   0.0   0.0   0.0   0.0  \n4  ...   0.0  0.000000  0.000000   0.0   0.0   0.0   0.0   0.0   0.0   0.0  \n\n[5 rows x 2464 columns]",
      "text/html": "<div>\n<style scoped>\n    .dataframe tbody tr th:only-of-type {\n        vertical-align: middle;\n    }\n\n    .dataframe tbody tr th {\n        vertical-align: top;\n    }\n\n    .dataframe thead th {\n        text-align: right;\n    }\n</style>\n<table border=\"1\" class=\"dataframe\">\n  <thead>\n    <tr style=\"text-align: right;\">\n      <th></th>\n      <th>0</th>\n      <th>1</th>\n      <th>2</th>\n      <th>3</th>\n      <th>4</th>\n      <th>5</th>\n      <th>6</th>\n      <th>7</th>\n      <th>8</th>\n      <th>9</th>\n      <th>...</th>\n      <th>2454</th>\n      <th>2455</th>\n      <th>2456</th>\n      <th>2457</th>\n      <th>2458</th>\n      <th>2459</th>\n      <th>2460</th>\n      <th>2461</th>\n      <th>2462</th>\n      <th>2463</th>\n    </tr>\n  </thead>\n  <tbody>\n    <tr>\n      <th>0</th>\n      <td>0.0</td>\n      <td>0.0</td>\n      <td>0.0</td>\n      <td>0.0</td>\n      <td>0.0</td>\n      <td>0.0</td>\n      <td>0.0</td>\n      <td>0.426466</td>\n      <td>0.514252</td>\n      <td>0.570065</td>\n      <td>...</td>\n      <td>0.0</td>\n      <td>0.052022</td>\n      <td>0.000000</td>\n      <td>0.0</td>\n      <td>0.0</td>\n      <td>0.0</td>\n      <td>0.0</td>\n      <td>0.0</td>\n      <td>0.0</td>\n      <td>0.0</td>\n    </tr>\n    <tr>\n      <th>1</th>\n      <td>0.0</td>\n      <td>0.0</td>\n      <td>0.0</td>\n      <td>0.0</td>\n      <td>0.0</td>\n      <td>0.0</td>\n      <td>0.0</td>\n      <td>0.259172</td>\n      <td>0.286207</td>\n      <td>0.298012</td>\n      <td>...</td>\n      <td>0.0</td>\n      <td>0.058621</td>\n      <td>0.058621</td>\n      <td>0.0</td>\n      <td>0.0</td>\n      <td>0.0</td>\n      <td>0.0</td>\n      <td>0.0</td>\n      <td>0.0</td>\n      <td>0.0</td>\n    </tr>\n    <tr>\n      <th>2</th>\n      <td>0.0</td>\n      <td>0.0</td>\n      <td>0.0</td>\n      <td>0.0</td>\n      <td>0.0</td>\n      <td>0.0</td>\n      <td>0.0</td>\n      <td>0.722909</td>\n      <td>0.679524</td>\n      <td>0.705660</td>\n      <td>...</td>\n      <td>0.0</td>\n      <td>0.000000</td>\n      <td>0.036490</td>\n      <td>0.0</td>\n      <td>0.0</td>\n      <td>0.0</td>\n      <td>0.0</td>\n      <td>0.0</td>\n      <td>0.0</td>\n      <td>0.0</td>\n    </tr>\n    <tr>\n      <th>3</th>\n      <td>0.0</td>\n      <td>0.0</td>\n      <td>0.0</td>\n      <td>0.0</td>\n      <td>0.0</td>\n      <td>0.0</td>\n      <td>0.0</td>\n      <td>0.480302</td>\n      <td>0.427709</td>\n      <td>0.493697</td>\n      <td>...</td>\n      <td>0.0</td>\n      <td>0.036202</td>\n      <td>0.036202</td>\n      <td>0.0</td>\n      <td>0.0</td>\n      <td>0.0</td>\n      <td>0.0</td>\n      <td>0.0</td>\n      <td>0.0</td>\n      <td>0.0</td>\n    </tr>\n    <tr>\n      <th>4</th>\n      <td>0.0</td>\n      <td>0.0</td>\n      <td>0.0</td>\n      <td>0.0</td>\n      <td>0.0</td>\n      <td>0.0</td>\n      <td>0.0</td>\n      <td>0.439716</td>\n      <td>0.394589</td>\n      <td>0.424638</td>\n      <td>...</td>\n      <td>0.0</td>\n      <td>0.000000</td>\n      <td>0.000000</td>\n      <td>0.0</td>\n      <td>0.0</td>\n      <td>0.0</td>\n      <td>0.0</td>\n      <td>0.0</td>\n      <td>0.0</td>\n      <td>0.0</td>\n    </tr>\n  </tbody>\n</table>\n<p>5 rows × 2464 columns</p>\n</div>"
     },
     "execution_count": 14,
     "metadata": {},
     "output_type": "execute_result"
    }
   ],
   "source": [
    "stddev_group_1.head()"
   ]
  },
  {
   "cell_type": "code",
   "execution_count": 15,
   "metadata": {
    "pycharm": {
     "name": "#%%\n"
    }
   },
   "outputs": [
    {
     "data": {
      "text/plain": "   0     1     2     3     4     5     6     7     8     9     ...  2454  \\\n0   0.0   0.0   0.0   0.0   0.0   0.0   0.0   0.0   0.0   0.0  ...   0.0   \n1   0.0   0.0   0.0   0.0   0.0   0.0   0.0   0.0   0.0   0.0  ...   0.0   \n2   0.0   0.0   0.0   0.0   0.0   0.0   0.0   0.0   0.0   0.0  ...   0.0   \n3   0.0   0.0   0.0   0.0   0.0   0.0   0.0   0.0   0.0   0.0  ...   0.0   \n4   0.0   0.0   0.0   0.0   0.0   0.0   0.0   0.0   0.0   0.0  ...   0.0   \n\n   2455  2456  2457  2458  2459  2460  2461  2462  2463  \n0   0.0   0.0   0.0   0.0   0.0   0.0   0.0   0.0   0.0  \n1   0.0   0.0   0.0   0.0   0.0   0.0   0.0   0.0   0.0  \n2   0.0   0.0   0.0   0.0   0.0   0.0   0.0   0.0   0.0  \n3   0.0   0.0   0.0   0.0   0.0   0.0   0.0   0.0   0.0  \n4   0.0   0.0   0.0   0.0   0.0   0.0   0.0   0.0   0.0  \n\n[5 rows x 2464 columns]",
      "text/html": "<div>\n<style scoped>\n    .dataframe tbody tr th:only-of-type {\n        vertical-align: middle;\n    }\n\n    .dataframe tbody tr th {\n        vertical-align: top;\n    }\n\n    .dataframe thead th {\n        text-align: right;\n    }\n</style>\n<table border=\"1\" class=\"dataframe\">\n  <thead>\n    <tr style=\"text-align: right;\">\n      <th></th>\n      <th>0</th>\n      <th>1</th>\n      <th>2</th>\n      <th>3</th>\n      <th>4</th>\n      <th>5</th>\n      <th>6</th>\n      <th>7</th>\n      <th>8</th>\n      <th>9</th>\n      <th>...</th>\n      <th>2454</th>\n      <th>2455</th>\n      <th>2456</th>\n      <th>2457</th>\n      <th>2458</th>\n      <th>2459</th>\n      <th>2460</th>\n      <th>2461</th>\n      <th>2462</th>\n      <th>2463</th>\n    </tr>\n  </thead>\n  <tbody>\n    <tr>\n      <th>0</th>\n      <td>0.0</td>\n      <td>0.0</td>\n      <td>0.0</td>\n      <td>0.0</td>\n      <td>0.0</td>\n      <td>0.0</td>\n      <td>0.0</td>\n      <td>0.0</td>\n      <td>0.0</td>\n      <td>0.0</td>\n      <td>...</td>\n      <td>0.0</td>\n      <td>0.0</td>\n      <td>0.0</td>\n      <td>0.0</td>\n      <td>0.0</td>\n      <td>0.0</td>\n      <td>0.0</td>\n      <td>0.0</td>\n      <td>0.0</td>\n      <td>0.0</td>\n    </tr>\n    <tr>\n      <th>1</th>\n      <td>0.0</td>\n      <td>0.0</td>\n      <td>0.0</td>\n      <td>0.0</td>\n      <td>0.0</td>\n      <td>0.0</td>\n      <td>0.0</td>\n      <td>0.0</td>\n      <td>0.0</td>\n      <td>0.0</td>\n      <td>...</td>\n      <td>0.0</td>\n      <td>0.0</td>\n      <td>0.0</td>\n      <td>0.0</td>\n      <td>0.0</td>\n      <td>0.0</td>\n      <td>0.0</td>\n      <td>0.0</td>\n      <td>0.0</td>\n      <td>0.0</td>\n    </tr>\n    <tr>\n      <th>2</th>\n      <td>0.0</td>\n      <td>0.0</td>\n      <td>0.0</td>\n      <td>0.0</td>\n      <td>0.0</td>\n      <td>0.0</td>\n      <td>0.0</td>\n      <td>0.0</td>\n      <td>0.0</td>\n      <td>0.0</td>\n      <td>...</td>\n      <td>0.0</td>\n      <td>0.0</td>\n      <td>0.0</td>\n      <td>0.0</td>\n      <td>0.0</td>\n      <td>0.0</td>\n      <td>0.0</td>\n      <td>0.0</td>\n      <td>0.0</td>\n      <td>0.0</td>\n    </tr>\n    <tr>\n      <th>3</th>\n      <td>0.0</td>\n      <td>0.0</td>\n      <td>0.0</td>\n      <td>0.0</td>\n      <td>0.0</td>\n      <td>0.0</td>\n      <td>0.0</td>\n      <td>0.0</td>\n      <td>0.0</td>\n      <td>0.0</td>\n      <td>...</td>\n      <td>0.0</td>\n      <td>0.0</td>\n      <td>0.0</td>\n      <td>0.0</td>\n      <td>0.0</td>\n      <td>0.0</td>\n      <td>0.0</td>\n      <td>0.0</td>\n      <td>0.0</td>\n      <td>0.0</td>\n    </tr>\n    <tr>\n      <th>4</th>\n      <td>0.0</td>\n      <td>0.0</td>\n      <td>0.0</td>\n      <td>0.0</td>\n      <td>0.0</td>\n      <td>0.0</td>\n      <td>0.0</td>\n      <td>0.0</td>\n      <td>0.0</td>\n      <td>0.0</td>\n      <td>...</td>\n      <td>0.0</td>\n      <td>0.0</td>\n      <td>0.0</td>\n      <td>0.0</td>\n      <td>0.0</td>\n      <td>0.0</td>\n      <td>0.0</td>\n      <td>0.0</td>\n      <td>0.0</td>\n      <td>0.0</td>\n    </tr>\n  </tbody>\n</table>\n<p>5 rows × 2464 columns</p>\n</div>"
     },
     "execution_count": 15,
     "metadata": {},
     "output_type": "execute_result"
    }
   ],
   "source": [
    "stddev_group_2.head()"
   ]
  },
  {
   "cell_type": "code",
   "execution_count": 16,
   "metadata": {
    "pycharm": {
     "name": "#%%\n"
    }
   },
   "outputs": [],
   "source": [
    "group_sizes_1 = data_all_1.groupby(CONDITIONAL_COLS).size().reset_index(name='Count')"
   ]
  },
  {
   "cell_type": "code",
   "execution_count": 17,
   "metadata": {
    "pycharm": {
     "name": "#%%\n"
    }
   },
   "outputs": [],
   "source": [
    "group_sizes_2 = data_all_2.groupby(CONDITIONAL_COLS).size().reset_index(name='Count')"
   ]
  },
  {
   "cell_type": "code",
   "execution_count": 19,
   "metadata": {
    "pycharm": {
     "name": "#%%\n"
    }
   },
   "outputs": [
    {
     "data": {
      "image/png": "[encoded data removed]",
      "text/plain": [
       "<Figure size 640x480 with 1 Axes>"
      ]
     },
     "metadata": {},
     "output_type": "display_data"
    }
   ],
   "source": [
    "sns.histplot(data=group_sizes_1, x='Count', bins=100)\n",
    "plt.xlabel('Group size')\n",
    "plt.ylabel('Frequency')\n",
    "plt.show()"
   ]
  },
  {
   "cell_type": "code",
   "execution_count": 20,
   "metadata": {
    "pycharm": {
     "name": "#%%\n"
    }
   },
   "outputs": [
    {
     "data": {
      "image/png": "[encoded data removed]",
      "text/plain": [
       "<Figure size 640x480 with 1 Axes>"
      ]
     },
     "metadata": {},
     "output_type": "display_data"
    }
   ],
   "source": [
    "sns.histplot(data=group_sizes_2, x='Count', bins=100)\n",
    "plt.xlabel('Group size')\n",
    "plt.ylabel('Frequency')\n",
    "plt.show()"
   ]
  },
  {
   "cell_type": "markdown",
   "metadata": {
    "pycharm": {
     "name": "#%% md\n"
    }
   },
   "source": [
    "The same plots as expected"
   ]
  },
  {
   "cell_type": "code",
   "execution_count": 18,
   "metadata": {
    "pycharm": {
     "name": "#%%\n"
    }
   },
   "outputs": [
    {
     "data": {
      "text/plain": "(0    309\n 1    231\n 2    260\n 3    128\n 4    150\n dtype: int64,\n 0,\n 372)"
     },
     "execution_count": 18,
     "metadata": {},
     "output_type": "execute_result"
    }
   ],
   "source": [
    "groups_numbers_1.head(), groups_numbers_1.min(), groups_numbers_1.max()"
   ]
  },
  {
   "cell_type": "code",
   "execution_count": 19,
   "metadata": {
    "pycharm": {
     "name": "#%%\n"
    }
   },
   "outputs": [
    {
     "data": {
      "text/plain": "(0    309\n 1    231\n 2    260\n 3    128\n 4    150\n dtype: int64,\n 0,\n 372)"
     },
     "execution_count": 19,
     "metadata": {},
     "output_type": "execute_result"
    }
   ],
   "source": [
    "groups_numbers_2.head(), groups_numbers_2.min(), groups_numbers_2.max()"
   ]
  },
  {
   "cell_type": "markdown",
   "metadata": {
    "pycharm": {
     "name": "#%% md\n"
    }
   },
   "source": [
    "4. Calculate sum of stddevs of pixels"
   ]
  },
  {
   "cell_type": "code",
   "execution_count": 20,
   "metadata": {
    "pycharm": {
     "name": "#%%\n"
    }
   },
   "outputs": [
    {
     "data": {
      "text/plain": "((38348,),\n 0    958.892469\n 1    190.440197\n 2    265.598939\n 3    209.572895\n 4    143.882056\n dtype: float64)"
     },
     "execution_count": 20,
     "metadata": {},
     "output_type": "execute_result"
    }
   ],
   "source": [
    "sum_pixels_1 = stddev_group_1.sum(axis=1)\n",
    "sum_pixels_1.shape, sum_pixels_1.head()"
   ]
  },
  {
   "cell_type": "code",
   "execution_count": 21,
   "metadata": {
    "pycharm": {
     "name": "#%%\n"
    }
   },
   "outputs": [
    {
     "data": {
      "text/plain": "((38348,),\n 0     259.685031\n 1    1446.833653\n 2     526.648564\n 3     722.137794\n 4     604.991258\n dtype: float64)"
     },
     "execution_count": 21,
     "metadata": {},
     "output_type": "execute_result"
    }
   ],
   "source": [
    "sum_pixels_2 = stddev_group_2.sum(axis=1)\n",
    "sum_pixels_2.shape, sum_pixels_2.head()"
   ]
  },
  {
   "cell_type": "code",
   "execution_count": 22,
   "metadata": {
    "pycharm": {
     "name": "#%%\n"
    }
   },
   "outputs": [],
   "source": [
    "assert data_cond.shape[0] == sum_pixels_1.shape[0]\n",
    "assert data_cond.shape[0] == sum_pixels_2.shape[0]"
   ]
  },
  {
   "cell_type": "markdown",
   "metadata": {
    "pycharm": {
     "name": "#%% md\n"
    }
   },
   "source": [
    "5. Divide sum of stddevs by maximum value to normalize it"
   ]
  },
  {
   "cell_type": "code",
   "execution_count": 23,
   "metadata": {
    "pycharm": {
     "name": "#%%\n"
    }
   },
   "outputs": [],
   "source": [
    "normalized_stddevs_1 = sum_pixels_1/sum_pixels_1.max()\n",
    "normalized_stddevs_2 = sum_pixels_2/sum_pixels_2.max()"
   ]
  },
  {
   "cell_type": "markdown",
   "metadata": {
    "pycharm": {
     "name": "#%% md\n"
    }
   },
   "source": [
    "6. Assign calclations to each conditional data"
   ]
  },
  {
   "cell_type": "code",
   "execution_count": 24,
   "metadata": {
    "pycharm": {
     "name": "#%%\n"
    }
   },
   "outputs": [],
   "source": [
    "data_cond['std_proton'] = normalized_stddevs_1\n",
    "data_cond['std_neutron'] = normalized_stddevs_2"
   ]
  },
  {
   "cell_type": "markdown",
   "metadata": {
    "pycharm": {
     "name": "#%% md\n"
    }
   },
   "source": [
    "#### Add informative columns "
   ]
  },
  {
   "cell_type": "code",
   "execution_count": 25,
   "metadata": {
    "pycharm": {
     "name": "#%%\n"
    }
   },
   "outputs": [],
   "source": [
    "data_cond[NEUTRON_PROTON_PHOTON_SUM_COLS] = neutron_proton_photon_sum_data"
   ]
  },
  {
   "cell_type": "code",
   "execution_count": 29,
   "metadata": {
    "pycharm": {
     "name": "#%%\n"
    }
   },
   "outputs": [],
   "source": [
    "data_cond['group_number_proton'] = groups_numbers_1\n",
    "data_cond['group_number_neutron'] = groups_numbers_2"
   ]
  },
  {
   "cell_type": "code",
   "execution_count": 26,
   "metadata": {
    "pycharm": {
     "name": "#%%\n"
    }
   },
   "outputs": [
    {
     "data": {
      "text/plain": "    Energy            Vx            Vy            Vz        Px        Py  \\\n0  3961.55  0.000000e+00  0.000000e+00  0.000000e+00 -0.076487  0.179845   \n1  2770.10  1.861170e-17  2.517190e-17 -1.689330e-13  0.305187  0.412760   \n2  3195.12  0.000000e+00  0.000000e+00  0.000000e+00  0.560528 -0.149980   \n3  1714.07  0.000000e+00  0.000000e+00  0.000000e+00  0.457768  0.145639   \n4  1948.29  1.323670e-08  5.575600e-09 -5.280860e-05  0.470391  0.154206   \n\n        Pz        mass  charge  std_proton  std_neutron  neutron_photon_sum  \\\n0  3961.55  938.272081     1.0    0.477555     0.128712                55.0   \n1 -2770.10  497.611000     0.0    0.094844     0.717121              1122.0   \n2  3195.11  938.272081     1.0    0.132276     0.261033               230.0   \n3 -1714.07  939.565413     0.0    0.104373     0.357926               655.0   \n4 -1948.29    0.000000     0.0    0.071657     0.299863              1142.0   \n\n   proton_photon_sum  \n0             1195.0  \n1               23.0  \n2               78.0  \n3               34.0  \n4               19.0  ",
      "text/html": "<div>\n<style scoped>\n    .dataframe tbody tr th:only-of-type {\n        vertical-align: middle;\n    }\n\n    .dataframe tbody tr th {\n        vertical-align: top;\n    }\n\n    .dataframe thead th {\n        text-align: right;\n    }\n</style>\n<table border=\"1\" class=\"dataframe\">\n  <thead>\n    <tr style=\"text-align: right;\">\n      <th></th>\n      <th>Energy</th>\n      <th>Vx</th>\n      <th>Vy</th>\n      <th>Vz</th>\n      <th>Px</th>\n      <th>Py</th>\n      <th>Pz</th>\n      <th>mass</th>\n      <th>charge</th>\n      <th>std_proton</th>\n      <th>std_neutron</th>\n      <th>neutron_photon_sum</th>\n      <th>proton_photon_sum</th>\n    </tr>\n  </thead>\n  <tbody>\n    <tr>\n      <th>0</th>\n      <td>3961.55</td>\n      <td>0.000000e+00</td>\n      <td>0.000000e+00</td>\n      <td>0.000000e+00</td>\n      <td>-0.076487</td>\n      <td>0.179845</td>\n      <td>3961.55</td>\n      <td>938.272081</td>\n      <td>1.0</td>\n      <td>0.477555</td>\n      <td>0.128712</td>\n      <td>55.0</td>\n      <td>1195.0</td>\n    </tr>\n    <tr>\n      <th>1</th>\n      <td>2770.10</td>\n      <td>1.861170e-17</td>\n      <td>2.517190e-17</td>\n      <td>-1.689330e-13</td>\n      <td>0.305187</td>\n      <td>0.412760</td>\n      <td>-2770.10</td>\n      <td>497.611000</td>\n      <td>0.0</td>\n      <td>0.094844</td>\n      <td>0.717121</td>\n      <td>1122.0</td>\n      <td>23.0</td>\n    </tr>\n    <tr>\n      <th>2</th>\n      <td>3195.12</td>\n      <td>0.000000e+00</td>\n      <td>0.000000e+00</td>\n      <td>0.000000e+00</td>\n      <td>0.560528</td>\n      <td>-0.149980</td>\n      <td>3195.11</td>\n      <td>938.272081</td>\n      <td>1.0</td>\n      <td>0.132276</td>\n      <td>0.261033</td>\n      <td>230.0</td>\n      <td>78.0</td>\n    </tr>\n    <tr>\n      <th>3</th>\n      <td>1714.07</td>\n      <td>0.000000e+00</td>\n      <td>0.000000e+00</td>\n      <td>0.000000e+00</td>\n      <td>0.457768</td>\n      <td>0.145639</td>\n      <td>-1714.07</td>\n      <td>939.565413</td>\n      <td>0.0</td>\n      <td>0.104373</td>\n      <td>0.357926</td>\n      <td>655.0</td>\n      <td>34.0</td>\n    </tr>\n    <tr>\n      <th>4</th>\n      <td>1948.29</td>\n      <td>1.323670e-08</td>\n      <td>5.575600e-09</td>\n      <td>-5.280860e-05</td>\n      <td>0.470391</td>\n      <td>0.154206</td>\n      <td>-1948.29</td>\n      <td>0.000000</td>\n      <td>0.0</td>\n      <td>0.071657</td>\n      <td>0.299863</td>\n      <td>1142.0</td>\n      <td>19.0</td>\n    </tr>\n  </tbody>\n</table>\n</div>"
     },
     "execution_count": 26,
     "metadata": {},
     "output_type": "execute_result"
    }
   ],
   "source": [
    "data_cond.head()"
   ]
  },
  {
   "cell_type": "markdown",
   "metadata": {
    "pycharm": {
     "name": "#%% md\n"
    }
   },
   "source": [
    "#### Save conditional dataset"
   ]
  },
  {
   "cell_type": "code",
   "execution_count": 27,
   "outputs": [
    {
     "data": {
      "text/plain": "    Energy            Vx            Vy            Vz        Px        Py  \\\n0  3961.55  0.000000e+00  0.000000e+00  0.000000e+00 -0.076487  0.179845   \n1  2770.10  1.861170e-17  2.517190e-17 -1.689330e-13  0.305187  0.412760   \n2  3195.12  0.000000e+00  0.000000e+00  0.000000e+00  0.560528 -0.149980   \n3  1714.07  0.000000e+00  0.000000e+00  0.000000e+00  0.457768  0.145639   \n4  1948.29  1.323670e-08  5.575600e-09 -5.280860e-05  0.470391  0.154206   \n\n        Pz        mass  charge  std_proton  std_neutron  neutron_photon_sum  \\\n0  3961.55  938.272081     1.0    0.477555     0.128712                55.0   \n1 -2770.10  497.611000     0.0    0.094844     0.717121              1122.0   \n2  3195.11  938.272081     1.0    0.132276     0.261033               230.0   \n3 -1714.07  939.565413     0.0    0.104373     0.357926               655.0   \n4 -1948.29    0.000000     0.0    0.071657     0.299863              1142.0   \n\n   proton_photon_sum  \n0             1195.0  \n1               23.0  \n2               78.0  \n3               34.0  \n4               19.0  ",
      "text/html": "<div>\n<style scoped>\n    .dataframe tbody tr th:only-of-type {\n        vertical-align: middle;\n    }\n\n    .dataframe tbody tr th {\n        vertical-align: top;\n    }\n\n    .dataframe thead th {\n        text-align: right;\n    }\n</style>\n<table border=\"1\" class=\"dataframe\">\n  <thead>\n    <tr style=\"text-align: right;\">\n      <th></th>\n      <th>Energy</th>\n      <th>Vx</th>\n      <th>Vy</th>\n      <th>Vz</th>\n      <th>Px</th>\n      <th>Py</th>\n      <th>Pz</th>\n      <th>mass</th>\n      <th>charge</th>\n      <th>std_proton</th>\n      <th>std_neutron</th>\n      <th>neutron_photon_sum</th>\n      <th>proton_photon_sum</th>\n    </tr>\n  </thead>\n  <tbody>\n    <tr>\n      <th>0</th>\n      <td>3961.55</td>\n      <td>0.000000e+00</td>\n      <td>0.000000e+00</td>\n      <td>0.000000e+00</td>\n      <td>-0.076487</td>\n      <td>0.179845</td>\n      <td>3961.55</td>\n      <td>938.272081</td>\n      <td>1.0</td>\n      <td>0.477555</td>\n      <td>0.128712</td>\n      <td>55.0</td>\n      <td>1195.0</td>\n    </tr>\n    <tr>\n      <th>1</th>\n      <td>2770.10</td>\n      <td>1.861170e-17</td>\n      <td>2.517190e-17</td>\n      <td>-1.689330e-13</td>\n      <td>0.305187</td>\n      <td>0.412760</td>\n      <td>-2770.10</td>\n      <td>497.611000</td>\n      <td>0.0</td>\n      <td>0.094844</td>\n      <td>0.717121</td>\n      <td>1122.0</td>\n      <td>23.0</td>\n    </tr>\n    <tr>\n      <th>2</th>\n      <td>3195.12</td>\n      <td>0.000000e+00</td>\n      <td>0.000000e+00</td>\n      <td>0.000000e+00</td>\n      <td>0.560528</td>\n      <td>-0.149980</td>\n      <td>3195.11</td>\n      <td>938.272081</td>\n      <td>1.0</td>\n      <td>0.132276</td>\n      <td>0.261033</td>\n      <td>230.0</td>\n      <td>78.0</td>\n    </tr>\n    <tr>\n      <th>3</th>\n      <td>1714.07</td>\n      <td>0.000000e+00</td>\n      <td>0.000000e+00</td>\n      <td>0.000000e+00</td>\n      <td>0.457768</td>\n      <td>0.145639</td>\n      <td>-1714.07</td>\n      <td>939.565413</td>\n      <td>0.0</td>\n      <td>0.104373</td>\n      <td>0.357926</td>\n      <td>655.0</td>\n      <td>34.0</td>\n    </tr>\n    <tr>\n      <th>4</th>\n      <td>1948.29</td>\n      <td>1.323670e-08</td>\n      <td>5.575600e-09</td>\n      <td>-5.280860e-05</td>\n      <td>0.470391</td>\n      <td>0.154206</td>\n      <td>-1948.29</td>\n      <td>0.000000</td>\n      <td>0.0</td>\n      <td>0.071657</td>\n      <td>0.299863</td>\n      <td>1142.0</td>\n      <td>19.0</td>\n    </tr>\n  </tbody>\n</table>\n</div>"
     },
     "execution_count": 27,
     "metadata": {},
     "output_type": "execute_result"
    }
   ],
   "source": [
    "data_cond.head()"
   ],
   "metadata": {
    "collapsed": false,
    "pycharm": {
     "name": "#%%\n"
    }
   }
  },
  {
   "cell_type": "code",
   "execution_count": 29,
   "metadata": {
    "pycharm": {
     "name": "#%%\n"
    }
   },
   "outputs": [],
   "source": [
    "data_cond.to_pickle('../data/data_cond_stddev_photonsum_p_18_n_18.pkl')"
   ]
  },
  {
   "cell_type": "code",
   "execution_count": 76,
   "outputs": [],
   "source": [
    "data_cond['proton_photon_sum'] = np.sum(data, axis=(1,2))"
   ],
   "metadata": {
    "collapsed": false,
    "pycharm": {
     "name": "#%%\n"
    }
   }
  }
 ],
 "metadata": {
  "accelerator": "GPU",
  "colab": {
   "collapsed_sections": [],
   "machine_shape": "hm",
   "name": "9.Histograms of channels.ipynb",
   "provenance": [
    {
     "file_id": "1v7DslqUD_dNNlM-mwRA8qW4dnYzjF_1q",
     "timestamp": 1623565456686
    }
   ]
  },
  "kernelspec": {
   "name": "tf",
   "language": "python",
   "display_name": "tf"
  },
  "language_info": {
   "codemirror_mode": {
    "name": "ipython",
    "version": 3
   },
   "file_extension": ".py",
   "mimetype": "text/x-python",
   "name": "python",
   "nbconvert_exporter": "python",
   "pygments_lexer": "ipython3",
   "version": "3.9.13"
  },
  "vscode": {
   "interpreter": {
    "hash": "5c7b89af1651d0b8571dde13640ecdccf7d5a6204171d6ab33e7c296e100e08a"
   }
  }
 },
 "nbformat": 4,
 "nbformat_minor": 4
}