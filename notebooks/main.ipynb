{
 "cells": [
  {
   "cell_type": "code",
   "execution_count": 1,
   "metadata": {
    "collapsed": true,
    "pycharm": {
     "name": "#%%\n"
    }
   },
   "outputs": [],
   "source": [
    "import pandas as pd"
   ]
  },
  {
   "cell_type": "code",
   "execution_count": 4,
   "outputs": [],
   "source": [
    "df_a = pd.read_pickle(\"particles_cond_with_mass2a.pkl\")\n",
    "df_b = pd.read_pickle(\"particles_cond_with_mass2b.pkl\")\n",
    "df_c = pd.read_pickle(\"particles_cond_with_mass2c.pkl\")"
   ],
   "metadata": {
    "collapsed": false,
    "pycharm": {
     "name": "#%%\n"
    }
   }
  },
  {
   "cell_type": "code",
   "execution_count": 27,
   "outputs": [
    {
     "data": {
      "text/plain": "         Pdg     Energy            Vx            Vy        Vz        Px  \\\n0         22   513.3180  1.454300e-08  3.650510e-08 -0.002731  0.035456   \n1         22  1304.3400 -1.831820e-05  1.555780e-05  0.050293 -0.509192   \n2         22  1014.7200 -1.831820e-05  1.555780e-05  0.050293 -0.335473   \n3       2112  3192.3800  0.000000e+00  0.000000e+00  0.000000  0.022422   \n4         22    68.7896 -1.747790e-06 -1.685770e-06 -0.002590 -0.004292   \n...      ...        ...           ...           ...       ...       ...   \n132812  3122  4071.2300  0.000000e+00  0.000000e+00  0.000000  0.089305   \n132813  3122  4003.6000  0.000000e+00  0.000000e+00  0.000000  0.769178   \n132814    22   892.5610  3.026130e-05 -2.853110e-06  0.114929  0.286136   \n132815    22  1037.0700  3.026130e-05 -2.853110e-06  0.114929  0.221947   \n132816  2212  2609.4700  0.000000e+00  0.000000e+00  0.000000 -0.190964   \n\n              Py         Pz  PhotonSum         mass  charge  \n0      -0.051821  -513.3180        274     0.000000     0.0  \n1       0.461106  1304.3400          9     0.000000     0.0  \n2       0.256277  1014.7200        126     0.000000     0.0  \n3      -0.182957 -3192.3800       1642   939.565413     0.0  \n4      -0.029762   -68.7896          2     0.000000     0.0  \n...          ...        ...        ...          ...     ...  \n132812  0.069410 -4071.2300       1598  1115.683000     0.0  \n132813 -0.276743  4003.6000          9  1115.683000     0.0  \n132814  0.021616   892.5610         10     0.000000     0.0  \n132815 -0.069519  1037.0700        558     0.000000     0.0  \n132816  0.148528 -2609.4600          0   938.272081     1.0  \n\n[132817 rows x 11 columns]",
      "text/html": "<div>\n<style scoped>\n    .dataframe tbody tr th:only-of-type {\n        vertical-align: middle;\n    }\n\n    .dataframe tbody tr th {\n        vertical-align: top;\n    }\n\n    .dataframe thead th {\n        text-align: right;\n    }\n</style>\n<table border=\"1\" class=\"dataframe\">\n  <thead>\n    <tr style=\"text-align: right;\">\n      <th></th>\n      <th>Pdg</th>\n      <th>Energy</th>\n      <th>Vx</th>\n      <th>Vy</th>\n      <th>Vz</th>\n      <th>Px</th>\n      <th>Py</th>\n      <th>Pz</th>\n      <th>PhotonSum</th>\n      <th>mass</th>\n      <th>charge</th>\n    </tr>\n  </thead>\n  <tbody>\n    <tr>\n      <th>0</th>\n      <td>22</td>\n      <td>513.3180</td>\n      <td>1.454300e-08</td>\n      <td>3.650510e-08</td>\n      <td>-0.002731</td>\n      <td>0.035456</td>\n      <td>-0.051821</td>\n      <td>-513.3180</td>\n      <td>274</td>\n      <td>0.000000</td>\n      <td>0.0</td>\n    </tr>\n    <tr>\n      <th>1</th>\n      <td>22</td>\n      <td>1304.3400</td>\n      <td>-1.831820e-05</td>\n      <td>1.555780e-05</td>\n      <td>0.050293</td>\n      <td>-0.509192</td>\n      <td>0.461106</td>\n      <td>1304.3400</td>\n      <td>9</td>\n      <td>0.000000</td>\n      <td>0.0</td>\n    </tr>\n    <tr>\n      <th>2</th>\n      <td>22</td>\n      <td>1014.7200</td>\n      <td>-1.831820e-05</td>\n      <td>1.555780e-05</td>\n      <td>0.050293</td>\n      <td>-0.335473</td>\n      <td>0.256277</td>\n      <td>1014.7200</td>\n      <td>126</td>\n      <td>0.000000</td>\n      <td>0.0</td>\n    </tr>\n    <tr>\n      <th>3</th>\n      <td>2112</td>\n      <td>3192.3800</td>\n      <td>0.000000e+00</td>\n      <td>0.000000e+00</td>\n      <td>0.000000</td>\n      <td>0.022422</td>\n      <td>-0.182957</td>\n      <td>-3192.3800</td>\n      <td>1642</td>\n      <td>939.565413</td>\n      <td>0.0</td>\n    </tr>\n    <tr>\n      <th>4</th>\n      <td>22</td>\n      <td>68.7896</td>\n      <td>-1.747790e-06</td>\n      <td>-1.685770e-06</td>\n      <td>-0.002590</td>\n      <td>-0.004292</td>\n      <td>-0.029762</td>\n      <td>-68.7896</td>\n      <td>2</td>\n      <td>0.000000</td>\n      <td>0.0</td>\n    </tr>\n    <tr>\n      <th>...</th>\n      <td>...</td>\n      <td>...</td>\n      <td>...</td>\n      <td>...</td>\n      <td>...</td>\n      <td>...</td>\n      <td>...</td>\n      <td>...</td>\n      <td>...</td>\n      <td>...</td>\n      <td>...</td>\n    </tr>\n    <tr>\n      <th>132812</th>\n      <td>3122</td>\n      <td>4071.2300</td>\n      <td>0.000000e+00</td>\n      <td>0.000000e+00</td>\n      <td>0.000000</td>\n      <td>0.089305</td>\n      <td>0.069410</td>\n      <td>-4071.2300</td>\n      <td>1598</td>\n      <td>1115.683000</td>\n      <td>0.0</td>\n    </tr>\n    <tr>\n      <th>132813</th>\n      <td>3122</td>\n      <td>4003.6000</td>\n      <td>0.000000e+00</td>\n      <td>0.000000e+00</td>\n      <td>0.000000</td>\n      <td>0.769178</td>\n      <td>-0.276743</td>\n      <td>4003.6000</td>\n      <td>9</td>\n      <td>1115.683000</td>\n      <td>0.0</td>\n    </tr>\n    <tr>\n      <th>132814</th>\n      <td>22</td>\n      <td>892.5610</td>\n      <td>3.026130e-05</td>\n      <td>-2.853110e-06</td>\n      <td>0.114929</td>\n      <td>0.286136</td>\n      <td>0.021616</td>\n      <td>892.5610</td>\n      <td>10</td>\n      <td>0.000000</td>\n      <td>0.0</td>\n    </tr>\n    <tr>\n      <th>132815</th>\n      <td>22</td>\n      <td>1037.0700</td>\n      <td>3.026130e-05</td>\n      <td>-2.853110e-06</td>\n      <td>0.114929</td>\n      <td>0.221947</td>\n      <td>-0.069519</td>\n      <td>1037.0700</td>\n      <td>558</td>\n      <td>0.000000</td>\n      <td>0.0</td>\n    </tr>\n    <tr>\n      <th>132816</th>\n      <td>2212</td>\n      <td>2609.4700</td>\n      <td>0.000000e+00</td>\n      <td>0.000000e+00</td>\n      <td>0.000000</td>\n      <td>-0.190964</td>\n      <td>0.148528</td>\n      <td>-2609.4600</td>\n      <td>0</td>\n      <td>938.272081</td>\n      <td>1.0</td>\n    </tr>\n  </tbody>\n</table>\n<p>132817 rows × 11 columns</p>\n</div>"
     },
     "execution_count": 27,
     "metadata": {},
     "output_type": "execute_result"
    }
   ],
   "source": [
    "df_b"
   ],
   "metadata": {
    "collapsed": false,
    "pycharm": {
     "name": "#%%\n"
    }
   }
  },
  {
   "cell_type": "code",
   "execution_count": 26,
   "outputs": [
    {
     "data": {
      "text/plain": "0.13592352365544338"
     },
     "execution_count": 26,
     "metadata": {},
     "output_type": "execute_result"
    }
   ],
   "source": [
    "df_c[df_c.charge == 1.0].charge.sum()/len(df_c)"
   ],
   "metadata": {
    "collapsed": false,
    "pycharm": {
     "name": "#%%\n"
    }
   }
  }
 ],
 "metadata": {
  "kernelspec": {
   "display_name": "Python 3",
   "language": "python",
   "name": "python3"
  },
  "language_info": {
   "codemirror_mode": {
    "name": "ipython",
    "version": 2
   },
   "file_extension": ".py",
   "mimetype": "text/x-python",
   "name": "python",
   "nbconvert_exporter": "python",
   "pygments_lexer": "ipython2",
   "version": "2.7.6"
  }
 },
 "nbformat": 4,
 "nbformat_minor": 0
}